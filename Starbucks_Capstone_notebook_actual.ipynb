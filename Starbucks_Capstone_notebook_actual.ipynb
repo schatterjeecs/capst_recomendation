{
  "nbformat": 4,
  "nbformat_minor": 0,
  "metadata": {
    "colab": {
      "name": "Starbucks_Capstone_notebook_actual.ipynb",
      "provenance": [],
      "collapsed_sections": []
    },
    "kernelspec": {
      "name": "python3",
      "display_name": "Python 3"
    },
    "language_info": {
      "name": "python"
    }
  },
  "cells": [
    {
      "cell_type": "code",
      "metadata": {
        "colab": {
          "base_uri": "https://localhost:8080/"
        },
        "id": "jlIa-r4Ol17u",
        "outputId": "216a2f73-61fc-4d7f-87db-9c16363db4e1"
      },
      "source": [
        "!git clone https://github.com/schatterjeecs/datasets.git"
      ],
      "execution_count": 41,
      "outputs": [
        {
          "output_type": "stream",
          "name": "stdout",
          "text": [
            "fatal: destination path 'datasets' already exists and is not an empty directory.\n"
          ]
        }
      ]
    },
    {
      "cell_type": "code",
      "metadata": {
        "id": "ixpPclral2f4"
      },
      "source": [
        "import pandas as pd\n",
        "import numpy as np\n",
        "import math\n",
        "import json\n",
        "import matplotlib.pyplot as plt\n",
        "from sklearn.model_selection import train_test_split\n",
        "from sklearn.metrics import confusion_matrix, accuracy_score, classification_report"
      ],
      "execution_count": 42,
      "outputs": []
    },
    {
      "cell_type": "code",
      "metadata": {
        "id": "vqo6qdMwmFeu"
      },
      "source": [
        "portfolio = pd.read_json('datasets/data/portfolio.json', orient='records', lines=True)\n",
        "profile = pd.read_json('datasets/data/profile.json', orient='records', lines=True)\n",
        "transcript = pd.read_json('datasets/data/transcript.json', orient='records', lines=True)"
      ],
      "execution_count": 43,
      "outputs": []
    },
    {
      "cell_type": "code",
      "metadata": {
        "colab": {
          "base_uri": "https://localhost:8080/",
          "height": 357
        },
        "id": "7vfpDKsnnWeM",
        "outputId": "0c1da87d-2fb3-4b44-b5aa-d7d4a4ee2edb"
      },
      "source": [
        "portfolio"
      ],
      "execution_count": 44,
      "outputs": [
        {
          "output_type": "execute_result",
          "data": {
            "text/html": [
              "<div>\n",
              "<style scoped>\n",
              "    .dataframe tbody tr th:only-of-type {\n",
              "        vertical-align: middle;\n",
              "    }\n",
              "\n",
              "    .dataframe tbody tr th {\n",
              "        vertical-align: top;\n",
              "    }\n",
              "\n",
              "    .dataframe thead th {\n",
              "        text-align: right;\n",
              "    }\n",
              "</style>\n",
              "<table border=\"1\" class=\"dataframe\">\n",
              "  <thead>\n",
              "    <tr style=\"text-align: right;\">\n",
              "      <th></th>\n",
              "      <th>reward</th>\n",
              "      <th>channels</th>\n",
              "      <th>difficulty</th>\n",
              "      <th>duration</th>\n",
              "      <th>offer_type</th>\n",
              "      <th>id</th>\n",
              "    </tr>\n",
              "  </thead>\n",
              "  <tbody>\n",
              "    <tr>\n",
              "      <th>0</th>\n",
              "      <td>10</td>\n",
              "      <td>[email, mobile, social]</td>\n",
              "      <td>10</td>\n",
              "      <td>7</td>\n",
              "      <td>bogo</td>\n",
              "      <td>ae264e3637204a6fb9bb56bc8210ddfd</td>\n",
              "    </tr>\n",
              "    <tr>\n",
              "      <th>1</th>\n",
              "      <td>10</td>\n",
              "      <td>[web, email, mobile, social]</td>\n",
              "      <td>10</td>\n",
              "      <td>5</td>\n",
              "      <td>bogo</td>\n",
              "      <td>4d5c57ea9a6940dd891ad53e9dbe8da0</td>\n",
              "    </tr>\n",
              "    <tr>\n",
              "      <th>2</th>\n",
              "      <td>0</td>\n",
              "      <td>[web, email, mobile]</td>\n",
              "      <td>0</td>\n",
              "      <td>4</td>\n",
              "      <td>informational</td>\n",
              "      <td>3f207df678b143eea3cee63160fa8bed</td>\n",
              "    </tr>\n",
              "    <tr>\n",
              "      <th>3</th>\n",
              "      <td>5</td>\n",
              "      <td>[web, email, mobile]</td>\n",
              "      <td>5</td>\n",
              "      <td>7</td>\n",
              "      <td>bogo</td>\n",
              "      <td>9b98b8c7a33c4b65b9aebfe6a799e6d9</td>\n",
              "    </tr>\n",
              "    <tr>\n",
              "      <th>4</th>\n",
              "      <td>5</td>\n",
              "      <td>[web, email]</td>\n",
              "      <td>20</td>\n",
              "      <td>10</td>\n",
              "      <td>discount</td>\n",
              "      <td>0b1e1539f2cc45b7b9fa7c272da2e1d7</td>\n",
              "    </tr>\n",
              "    <tr>\n",
              "      <th>5</th>\n",
              "      <td>3</td>\n",
              "      <td>[web, email, mobile, social]</td>\n",
              "      <td>7</td>\n",
              "      <td>7</td>\n",
              "      <td>discount</td>\n",
              "      <td>2298d6c36e964ae4a3e7e9706d1fb8c2</td>\n",
              "    </tr>\n",
              "    <tr>\n",
              "      <th>6</th>\n",
              "      <td>2</td>\n",
              "      <td>[web, email, mobile, social]</td>\n",
              "      <td>10</td>\n",
              "      <td>10</td>\n",
              "      <td>discount</td>\n",
              "      <td>fafdcd668e3743c1bb461111dcafc2a4</td>\n",
              "    </tr>\n",
              "    <tr>\n",
              "      <th>7</th>\n",
              "      <td>0</td>\n",
              "      <td>[email, mobile, social]</td>\n",
              "      <td>0</td>\n",
              "      <td>3</td>\n",
              "      <td>informational</td>\n",
              "      <td>5a8bc65990b245e5a138643cd4eb9837</td>\n",
              "    </tr>\n",
              "    <tr>\n",
              "      <th>8</th>\n",
              "      <td>5</td>\n",
              "      <td>[web, email, mobile, social]</td>\n",
              "      <td>5</td>\n",
              "      <td>5</td>\n",
              "      <td>bogo</td>\n",
              "      <td>f19421c1d4aa40978ebb69ca19b0e20d</td>\n",
              "    </tr>\n",
              "    <tr>\n",
              "      <th>9</th>\n",
              "      <td>2</td>\n",
              "      <td>[web, email, mobile]</td>\n",
              "      <td>10</td>\n",
              "      <td>7</td>\n",
              "      <td>discount</td>\n",
              "      <td>2906b810c7d4411798c6938adc9daaa5</td>\n",
              "    </tr>\n",
              "  </tbody>\n",
              "</table>\n",
              "</div>"
            ],
            "text/plain": [
              "   reward  ...                                id\n",
              "0      10  ...  ae264e3637204a6fb9bb56bc8210ddfd\n",
              "1      10  ...  4d5c57ea9a6940dd891ad53e9dbe8da0\n",
              "2       0  ...  3f207df678b143eea3cee63160fa8bed\n",
              "3       5  ...  9b98b8c7a33c4b65b9aebfe6a799e6d9\n",
              "4       5  ...  0b1e1539f2cc45b7b9fa7c272da2e1d7\n",
              "5       3  ...  2298d6c36e964ae4a3e7e9706d1fb8c2\n",
              "6       2  ...  fafdcd668e3743c1bb461111dcafc2a4\n",
              "7       0  ...  5a8bc65990b245e5a138643cd4eb9837\n",
              "8       5  ...  f19421c1d4aa40978ebb69ca19b0e20d\n",
              "9       2  ...  2906b810c7d4411798c6938adc9daaa5\n",
              "\n",
              "[10 rows x 6 columns]"
            ]
          },
          "metadata": {},
          "execution_count": 44
        }
      ]
    },
    {
      "cell_type": "code",
      "metadata": {
        "colab": {
          "base_uri": "https://localhost:8080/",
          "height": 142
        },
        "id": "_G8UUy8Fnbzy",
        "outputId": "721732ae-a2ae-46d4-8feb-261c1d162bef"
      },
      "source": [
        "profile = profile[(profile['age']<100) & (profile['gender']!=None)]\n",
        "profile.head(3)"
      ],
      "execution_count": 45,
      "outputs": [
        {
          "output_type": "execute_result",
          "data": {
            "text/html": [
              "<div>\n",
              "<style scoped>\n",
              "    .dataframe tbody tr th:only-of-type {\n",
              "        vertical-align: middle;\n",
              "    }\n",
              "\n",
              "    .dataframe tbody tr th {\n",
              "        vertical-align: top;\n",
              "    }\n",
              "\n",
              "    .dataframe thead th {\n",
              "        text-align: right;\n",
              "    }\n",
              "</style>\n",
              "<table border=\"1\" class=\"dataframe\">\n",
              "  <thead>\n",
              "    <tr style=\"text-align: right;\">\n",
              "      <th></th>\n",
              "      <th>gender</th>\n",
              "      <th>age</th>\n",
              "      <th>id</th>\n",
              "      <th>became_member_on</th>\n",
              "      <th>income</th>\n",
              "    </tr>\n",
              "  </thead>\n",
              "  <tbody>\n",
              "    <tr>\n",
              "      <th>1</th>\n",
              "      <td>F</td>\n",
              "      <td>55</td>\n",
              "      <td>0610b486422d4921ae7d2bf64640c50b</td>\n",
              "      <td>20170715</td>\n",
              "      <td>112000.0</td>\n",
              "    </tr>\n",
              "    <tr>\n",
              "      <th>3</th>\n",
              "      <td>F</td>\n",
              "      <td>75</td>\n",
              "      <td>78afa995795e4d85b5d9ceeca43f5fef</td>\n",
              "      <td>20170509</td>\n",
              "      <td>100000.0</td>\n",
              "    </tr>\n",
              "    <tr>\n",
              "      <th>5</th>\n",
              "      <td>M</td>\n",
              "      <td>68</td>\n",
              "      <td>e2127556f4f64592b11af22de27a7932</td>\n",
              "      <td>20180426</td>\n",
              "      <td>70000.0</td>\n",
              "    </tr>\n",
              "  </tbody>\n",
              "</table>\n",
              "</div>"
            ],
            "text/plain": [
              "  gender  age                                id  became_member_on    income\n",
              "1      F   55  0610b486422d4921ae7d2bf64640c50b          20170715  112000.0\n",
              "3      F   75  78afa995795e4d85b5d9ceeca43f5fef          20170509  100000.0\n",
              "5      M   68  e2127556f4f64592b11af22de27a7932          20180426   70000.0"
            ]
          },
          "metadata": {},
          "execution_count": 45
        }
      ]
    },
    {
      "cell_type": "code",
      "metadata": {
        "colab": {
          "base_uri": "https://localhost:8080/",
          "height": 142
        },
        "id": "fJ-5IuT7nefJ",
        "outputId": "f5682fb2-ac41-4d2f-a6ac-285bd46d0733"
      },
      "source": [
        "transcript.head(3)"
      ],
      "execution_count": 46,
      "outputs": [
        {
          "output_type": "execute_result",
          "data": {
            "text/html": [
              "<div>\n",
              "<style scoped>\n",
              "    .dataframe tbody tr th:only-of-type {\n",
              "        vertical-align: middle;\n",
              "    }\n",
              "\n",
              "    .dataframe tbody tr th {\n",
              "        vertical-align: top;\n",
              "    }\n",
              "\n",
              "    .dataframe thead th {\n",
              "        text-align: right;\n",
              "    }\n",
              "</style>\n",
              "<table border=\"1\" class=\"dataframe\">\n",
              "  <thead>\n",
              "    <tr style=\"text-align: right;\">\n",
              "      <th></th>\n",
              "      <th>person</th>\n",
              "      <th>event</th>\n",
              "      <th>value</th>\n",
              "      <th>time</th>\n",
              "    </tr>\n",
              "  </thead>\n",
              "  <tbody>\n",
              "    <tr>\n",
              "      <th>0</th>\n",
              "      <td>78afa995795e4d85b5d9ceeca43f5fef</td>\n",
              "      <td>offer received</td>\n",
              "      <td>{'offer id': '9b98b8c7a33c4b65b9aebfe6a799e6d9'}</td>\n",
              "      <td>0</td>\n",
              "    </tr>\n",
              "    <tr>\n",
              "      <th>1</th>\n",
              "      <td>a03223e636434f42ac4c3df47e8bac43</td>\n",
              "      <td>offer received</td>\n",
              "      <td>{'offer id': '0b1e1539f2cc45b7b9fa7c272da2e1d7'}</td>\n",
              "      <td>0</td>\n",
              "    </tr>\n",
              "    <tr>\n",
              "      <th>2</th>\n",
              "      <td>e2127556f4f64592b11af22de27a7932</td>\n",
              "      <td>offer received</td>\n",
              "      <td>{'offer id': '2906b810c7d4411798c6938adc9daaa5'}</td>\n",
              "      <td>0</td>\n",
              "    </tr>\n",
              "  </tbody>\n",
              "</table>\n",
              "</div>"
            ],
            "text/plain": [
              "                             person  ... time\n",
              "0  78afa995795e4d85b5d9ceeca43f5fef  ...    0\n",
              "1  a03223e636434f42ac4c3df47e8bac43  ...    0\n",
              "2  e2127556f4f64592b11af22de27a7932  ...    0\n",
              "\n",
              "[3 rows x 4 columns]"
            ]
          },
          "metadata": {},
          "execution_count": 46
        }
      ]
    },
    {
      "cell_type": "markdown",
      "metadata": {
        "id": "iTOjjjvUqC0i"
      },
      "source": [
        "# **Preprocessing**\n",
        "- Join transcript with profile datasets\n",
        "- Normalize **value** field to extract the offer ids"
      ]
    },
    {
      "cell_type": "code",
      "metadata": {
        "colab": {
          "base_uri": "https://localhost:8080/",
          "height": 203
        },
        "id": "cnhor55wom5r",
        "outputId": "6cc8fd66-e0f3-4804-960e-0f646b49d33c"
      },
      "source": [
        "cust_trans = pd.merge(profile, transcript, how='inner', left_on=['id'], right_on=['person']).rename(columns={'id': 'person_id'})\n",
        "offer_val = pd.json_normalize(cust_trans['value'])\n",
        "offer_val['off_id'] = offer_val['offer id'].combine_first(offer_val['offer_id'])\n",
        "offer_val.head()\n"
      ],
      "execution_count": 47,
      "outputs": [
        {
          "output_type": "execute_result",
          "data": {
            "text/html": [
              "<div>\n",
              "<style scoped>\n",
              "    .dataframe tbody tr th:only-of-type {\n",
              "        vertical-align: middle;\n",
              "    }\n",
              "\n",
              "    .dataframe tbody tr th {\n",
              "        vertical-align: top;\n",
              "    }\n",
              "\n",
              "    .dataframe thead th {\n",
              "        text-align: right;\n",
              "    }\n",
              "</style>\n",
              "<table border=\"1\" class=\"dataframe\">\n",
              "  <thead>\n",
              "    <tr style=\"text-align: right;\">\n",
              "      <th></th>\n",
              "      <th>amount</th>\n",
              "      <th>offer id</th>\n",
              "      <th>offer_id</th>\n",
              "      <th>reward</th>\n",
              "      <th>off_id</th>\n",
              "    </tr>\n",
              "  </thead>\n",
              "  <tbody>\n",
              "    <tr>\n",
              "      <th>0</th>\n",
              "      <td>21.51</td>\n",
              "      <td>NaN</td>\n",
              "      <td>NaN</td>\n",
              "      <td>NaN</td>\n",
              "      <td>NaN</td>\n",
              "    </tr>\n",
              "    <tr>\n",
              "      <th>1</th>\n",
              "      <td>32.28</td>\n",
              "      <td>NaN</td>\n",
              "      <td>NaN</td>\n",
              "      <td>NaN</td>\n",
              "      <td>NaN</td>\n",
              "    </tr>\n",
              "    <tr>\n",
              "      <th>2</th>\n",
              "      <td>NaN</td>\n",
              "      <td>9b98b8c7a33c4b65b9aebfe6a799e6d9</td>\n",
              "      <td>NaN</td>\n",
              "      <td>NaN</td>\n",
              "      <td>9b98b8c7a33c4b65b9aebfe6a799e6d9</td>\n",
              "    </tr>\n",
              "    <tr>\n",
              "      <th>3</th>\n",
              "      <td>NaN</td>\n",
              "      <td>3f207df678b143eea3cee63160fa8bed</td>\n",
              "      <td>NaN</td>\n",
              "      <td>NaN</td>\n",
              "      <td>3f207df678b143eea3cee63160fa8bed</td>\n",
              "    </tr>\n",
              "    <tr>\n",
              "      <th>4</th>\n",
              "      <td>23.22</td>\n",
              "      <td>NaN</td>\n",
              "      <td>NaN</td>\n",
              "      <td>NaN</td>\n",
              "      <td>NaN</td>\n",
              "    </tr>\n",
              "  </tbody>\n",
              "</table>\n",
              "</div>"
            ],
            "text/plain": [
              "   amount  ...                            off_id\n",
              "0   21.51  ...                               NaN\n",
              "1   32.28  ...                               NaN\n",
              "2     NaN  ...  9b98b8c7a33c4b65b9aebfe6a799e6d9\n",
              "3     NaN  ...  3f207df678b143eea3cee63160fa8bed\n",
              "4   23.22  ...                               NaN\n",
              "\n",
              "[5 rows x 5 columns]"
            ]
          },
          "metadata": {},
          "execution_count": 47
        }
      ]
    },
    {
      "cell_type": "markdown",
      "metadata": {
        "id": "9ijs2QdRpzcg"
      },
      "source": [
        "**Cleaning and Processing**\n",
        "- Combining all three datasets\n",
        "- Projecting only important **columns**\n"
      ]
    },
    {
      "cell_type": "code",
      "metadata": {
        "colab": {
          "base_uri": "https://localhost:8080/",
          "height": 391
        },
        "id": "_aVoCgRVpEX7",
        "outputId": "2cb885a2-66df-40a1-8450-337268eb8364"
      },
      "source": [
        "combo_df = pd.concat([cust_trans, offer_val], axis=1)\n",
        "event_combo = pd.merge(combo_df, portfolio, how='inner', left_on=['off_id'], right_on=['id']).rename(columns={'reward_y': 'reward'})\n",
        "event_combo = event_combo[['age', 'became_member_on', 'gender',\n",
        "                           'person_id', 'income', 'event', 'time', 'off_id', 'channels', \n",
        "                           'difficulty', 'duration', 'offer_type', 'reward']]\n",
        "event_combo.head(5)"
      ],
      "execution_count": 48,
      "outputs": [
        {
          "output_type": "execute_result",
          "data": {
            "text/html": [
              "<div>\n",
              "<style scoped>\n",
              "    .dataframe tbody tr th:only-of-type {\n",
              "        vertical-align: middle;\n",
              "    }\n",
              "\n",
              "    .dataframe tbody tr th {\n",
              "        vertical-align: top;\n",
              "    }\n",
              "\n",
              "    .dataframe thead th {\n",
              "        text-align: right;\n",
              "    }\n",
              "</style>\n",
              "<table border=\"1\" class=\"dataframe\">\n",
              "  <thead>\n",
              "    <tr style=\"text-align: right;\">\n",
              "      <th></th>\n",
              "      <th>age</th>\n",
              "      <th>became_member_on</th>\n",
              "      <th>gender</th>\n",
              "      <th>person_id</th>\n",
              "      <th>income</th>\n",
              "      <th>event</th>\n",
              "      <th>time</th>\n",
              "      <th>off_id</th>\n",
              "      <th>channels</th>\n",
              "      <th>difficulty</th>\n",
              "      <th>duration</th>\n",
              "      <th>offer_type</th>\n",
              "      <th>reward</th>\n",
              "    </tr>\n",
              "  </thead>\n",
              "  <tbody>\n",
              "    <tr>\n",
              "      <th>0</th>\n",
              "      <td>55</td>\n",
              "      <td>20170715</td>\n",
              "      <td>F</td>\n",
              "      <td>0610b486422d4921ae7d2bf64640c50b</td>\n",
              "      <td>112000.0</td>\n",
              "      <td>offer received</td>\n",
              "      <td>408</td>\n",
              "      <td>9b98b8c7a33c4b65b9aebfe6a799e6d9</td>\n",
              "      <td>[web, email, mobile]</td>\n",
              "      <td>5</td>\n",
              "      <td>7</td>\n",
              "      <td>bogo</td>\n",
              "      <td>5</td>\n",
              "    </tr>\n",
              "    <tr>\n",
              "      <th>1</th>\n",
              "      <td>55</td>\n",
              "      <td>20170715</td>\n",
              "      <td>F</td>\n",
              "      <td>0610b486422d4921ae7d2bf64640c50b</td>\n",
              "      <td>112000.0</td>\n",
              "      <td>offer completed</td>\n",
              "      <td>528</td>\n",
              "      <td>9b98b8c7a33c4b65b9aebfe6a799e6d9</td>\n",
              "      <td>[web, email, mobile]</td>\n",
              "      <td>5</td>\n",
              "      <td>7</td>\n",
              "      <td>bogo</td>\n",
              "      <td>5</td>\n",
              "    </tr>\n",
              "    <tr>\n",
              "      <th>2</th>\n",
              "      <td>75</td>\n",
              "      <td>20170509</td>\n",
              "      <td>F</td>\n",
              "      <td>78afa995795e4d85b5d9ceeca43f5fef</td>\n",
              "      <td>100000.0</td>\n",
              "      <td>offer received</td>\n",
              "      <td>0</td>\n",
              "      <td>9b98b8c7a33c4b65b9aebfe6a799e6d9</td>\n",
              "      <td>[web, email, mobile]</td>\n",
              "      <td>5</td>\n",
              "      <td>7</td>\n",
              "      <td>bogo</td>\n",
              "      <td>5</td>\n",
              "    </tr>\n",
              "    <tr>\n",
              "      <th>3</th>\n",
              "      <td>75</td>\n",
              "      <td>20170509</td>\n",
              "      <td>F</td>\n",
              "      <td>78afa995795e4d85b5d9ceeca43f5fef</td>\n",
              "      <td>100000.0</td>\n",
              "      <td>offer viewed</td>\n",
              "      <td>6</td>\n",
              "      <td>9b98b8c7a33c4b65b9aebfe6a799e6d9</td>\n",
              "      <td>[web, email, mobile]</td>\n",
              "      <td>5</td>\n",
              "      <td>7</td>\n",
              "      <td>bogo</td>\n",
              "      <td>5</td>\n",
              "    </tr>\n",
              "    <tr>\n",
              "      <th>4</th>\n",
              "      <td>75</td>\n",
              "      <td>20170509</td>\n",
              "      <td>F</td>\n",
              "      <td>78afa995795e4d85b5d9ceeca43f5fef</td>\n",
              "      <td>100000.0</td>\n",
              "      <td>offer completed</td>\n",
              "      <td>132</td>\n",
              "      <td>9b98b8c7a33c4b65b9aebfe6a799e6d9</td>\n",
              "      <td>[web, email, mobile]</td>\n",
              "      <td>5</td>\n",
              "      <td>7</td>\n",
              "      <td>bogo</td>\n",
              "      <td>5</td>\n",
              "    </tr>\n",
              "  </tbody>\n",
              "</table>\n",
              "</div>"
            ],
            "text/plain": [
              "   age  became_member_on gender  ... duration  offer_type reward\n",
              "0   55          20170715      F  ...        7        bogo      5\n",
              "1   55          20170715      F  ...        7        bogo      5\n",
              "2   75          20170509      F  ...        7        bogo      5\n",
              "3   75          20170509      F  ...        7        bogo      5\n",
              "4   75          20170509      F  ...        7        bogo      5\n",
              "\n",
              "[5 rows x 13 columns]"
            ]
          },
          "metadata": {},
          "execution_count": 48
        }
      ]
    },
    {
      "cell_type": "markdown",
      "metadata": {
        "id": "tWXvvYuZpvOb"
      },
      "source": [
        "**Segregating Age groups**"
      ]
    },
    {
      "cell_type": "code",
      "metadata": {
        "colab": {
          "base_uri": "https://localhost:8080/",
          "height": 391
        },
        "id": "xszipAWQpWS4",
        "outputId": "f1984439-80ef-4b8c-c8f7-abd2289350f6"
      },
      "source": [
        "event_combo.loc[(event_combo['age'] < 20), 'age_group'] = 'UNDER_20'\n",
        "event_combo.loc[(event_combo['age'] >= 20) & (event_combo['age'] <= 40), 'age_group'] = '20_40'\n",
        "event_combo.loc[(event_combo['age'] > 40) & (event_combo['age'] <= 60), 'age_group'] = '41_60'\n",
        "event_combo.loc[(event_combo['age'] > 60) & (event_combo['age'] <= 80), 'age_group'] = '61_80'\n",
        "event_combo.loc[(event_combo['age'] > 80), 'age_group'] = 'ABOVE_80'\n",
        "event_combo.head(5)"
      ],
      "execution_count": 49,
      "outputs": [
        {
          "output_type": "execute_result",
          "data": {
            "text/html": [
              "<div>\n",
              "<style scoped>\n",
              "    .dataframe tbody tr th:only-of-type {\n",
              "        vertical-align: middle;\n",
              "    }\n",
              "\n",
              "    .dataframe tbody tr th {\n",
              "        vertical-align: top;\n",
              "    }\n",
              "\n",
              "    .dataframe thead th {\n",
              "        text-align: right;\n",
              "    }\n",
              "</style>\n",
              "<table border=\"1\" class=\"dataframe\">\n",
              "  <thead>\n",
              "    <tr style=\"text-align: right;\">\n",
              "      <th></th>\n",
              "      <th>age</th>\n",
              "      <th>became_member_on</th>\n",
              "      <th>gender</th>\n",
              "      <th>person_id</th>\n",
              "      <th>income</th>\n",
              "      <th>event</th>\n",
              "      <th>time</th>\n",
              "      <th>off_id</th>\n",
              "      <th>channels</th>\n",
              "      <th>difficulty</th>\n",
              "      <th>duration</th>\n",
              "      <th>offer_type</th>\n",
              "      <th>reward</th>\n",
              "      <th>age_group</th>\n",
              "    </tr>\n",
              "  </thead>\n",
              "  <tbody>\n",
              "    <tr>\n",
              "      <th>0</th>\n",
              "      <td>55</td>\n",
              "      <td>20170715</td>\n",
              "      <td>F</td>\n",
              "      <td>0610b486422d4921ae7d2bf64640c50b</td>\n",
              "      <td>112000.0</td>\n",
              "      <td>offer received</td>\n",
              "      <td>408</td>\n",
              "      <td>9b98b8c7a33c4b65b9aebfe6a799e6d9</td>\n",
              "      <td>[web, email, mobile]</td>\n",
              "      <td>5</td>\n",
              "      <td>7</td>\n",
              "      <td>bogo</td>\n",
              "      <td>5</td>\n",
              "      <td>41_60</td>\n",
              "    </tr>\n",
              "    <tr>\n",
              "      <th>1</th>\n",
              "      <td>55</td>\n",
              "      <td>20170715</td>\n",
              "      <td>F</td>\n",
              "      <td>0610b486422d4921ae7d2bf64640c50b</td>\n",
              "      <td>112000.0</td>\n",
              "      <td>offer completed</td>\n",
              "      <td>528</td>\n",
              "      <td>9b98b8c7a33c4b65b9aebfe6a799e6d9</td>\n",
              "      <td>[web, email, mobile]</td>\n",
              "      <td>5</td>\n",
              "      <td>7</td>\n",
              "      <td>bogo</td>\n",
              "      <td>5</td>\n",
              "      <td>41_60</td>\n",
              "    </tr>\n",
              "    <tr>\n",
              "      <th>2</th>\n",
              "      <td>75</td>\n",
              "      <td>20170509</td>\n",
              "      <td>F</td>\n",
              "      <td>78afa995795e4d85b5d9ceeca43f5fef</td>\n",
              "      <td>100000.0</td>\n",
              "      <td>offer received</td>\n",
              "      <td>0</td>\n",
              "      <td>9b98b8c7a33c4b65b9aebfe6a799e6d9</td>\n",
              "      <td>[web, email, mobile]</td>\n",
              "      <td>5</td>\n",
              "      <td>7</td>\n",
              "      <td>bogo</td>\n",
              "      <td>5</td>\n",
              "      <td>61_80</td>\n",
              "    </tr>\n",
              "    <tr>\n",
              "      <th>3</th>\n",
              "      <td>75</td>\n",
              "      <td>20170509</td>\n",
              "      <td>F</td>\n",
              "      <td>78afa995795e4d85b5d9ceeca43f5fef</td>\n",
              "      <td>100000.0</td>\n",
              "      <td>offer viewed</td>\n",
              "      <td>6</td>\n",
              "      <td>9b98b8c7a33c4b65b9aebfe6a799e6d9</td>\n",
              "      <td>[web, email, mobile]</td>\n",
              "      <td>5</td>\n",
              "      <td>7</td>\n",
              "      <td>bogo</td>\n",
              "      <td>5</td>\n",
              "      <td>61_80</td>\n",
              "    </tr>\n",
              "    <tr>\n",
              "      <th>4</th>\n",
              "      <td>75</td>\n",
              "      <td>20170509</td>\n",
              "      <td>F</td>\n",
              "      <td>78afa995795e4d85b5d9ceeca43f5fef</td>\n",
              "      <td>100000.0</td>\n",
              "      <td>offer completed</td>\n",
              "      <td>132</td>\n",
              "      <td>9b98b8c7a33c4b65b9aebfe6a799e6d9</td>\n",
              "      <td>[web, email, mobile]</td>\n",
              "      <td>5</td>\n",
              "      <td>7</td>\n",
              "      <td>bogo</td>\n",
              "      <td>5</td>\n",
              "      <td>61_80</td>\n",
              "    </tr>\n",
              "  </tbody>\n",
              "</table>\n",
              "</div>"
            ],
            "text/plain": [
              "   age  became_member_on gender  ... offer_type  reward age_group\n",
              "0   55          20170715      F  ...       bogo       5     41_60\n",
              "1   55          20170715      F  ...       bogo       5     41_60\n",
              "2   75          20170509      F  ...       bogo       5     61_80\n",
              "3   75          20170509      F  ...       bogo       5     61_80\n",
              "4   75          20170509      F  ...       bogo       5     61_80\n",
              "\n",
              "[5 rows x 14 columns]"
            ]
          },
          "metadata": {},
          "execution_count": 49
        }
      ]
    },
    {
      "cell_type": "markdown",
      "metadata": {
        "id": "ZPVoaOnsq97m"
      },
      "source": [
        "Derive **membership_age**"
      ]
    },
    {
      "cell_type": "code",
      "metadata": {
        "colab": {
          "base_uri": "https://localhost:8080/",
          "height": 391
        },
        "id": "VhQntKlMppSl",
        "outputId": "ac13d9b5-f218-42d2-fe06-e8ef00918166"
      },
      "source": [
        "from datetime import datetime\n",
        "current_year_month = int(datetime.today().strftime(\"%Y%m\"))\n",
        "event_combo['membership_age'] = current_year_month - event_combo['became_member_on'].apply(lambda x: int(str(x)[:6]))\n",
        "event_combo.head(5)"
      ],
      "execution_count": 50,
      "outputs": [
        {
          "output_type": "execute_result",
          "data": {
            "text/html": [
              "<div>\n",
              "<style scoped>\n",
              "    .dataframe tbody tr th:only-of-type {\n",
              "        vertical-align: middle;\n",
              "    }\n",
              "\n",
              "    .dataframe tbody tr th {\n",
              "        vertical-align: top;\n",
              "    }\n",
              "\n",
              "    .dataframe thead th {\n",
              "        text-align: right;\n",
              "    }\n",
              "</style>\n",
              "<table border=\"1\" class=\"dataframe\">\n",
              "  <thead>\n",
              "    <tr style=\"text-align: right;\">\n",
              "      <th></th>\n",
              "      <th>age</th>\n",
              "      <th>became_member_on</th>\n",
              "      <th>gender</th>\n",
              "      <th>person_id</th>\n",
              "      <th>income</th>\n",
              "      <th>event</th>\n",
              "      <th>time</th>\n",
              "      <th>off_id</th>\n",
              "      <th>channels</th>\n",
              "      <th>difficulty</th>\n",
              "      <th>duration</th>\n",
              "      <th>offer_type</th>\n",
              "      <th>reward</th>\n",
              "      <th>age_group</th>\n",
              "      <th>membership_age</th>\n",
              "    </tr>\n",
              "  </thead>\n",
              "  <tbody>\n",
              "    <tr>\n",
              "      <th>0</th>\n",
              "      <td>55</td>\n",
              "      <td>20170715</td>\n",
              "      <td>F</td>\n",
              "      <td>0610b486422d4921ae7d2bf64640c50b</td>\n",
              "      <td>112000.0</td>\n",
              "      <td>offer received</td>\n",
              "      <td>408</td>\n",
              "      <td>9b98b8c7a33c4b65b9aebfe6a799e6d9</td>\n",
              "      <td>[web, email, mobile]</td>\n",
              "      <td>5</td>\n",
              "      <td>7</td>\n",
              "      <td>bogo</td>\n",
              "      <td>5</td>\n",
              "      <td>41_60</td>\n",
              "      <td>402</td>\n",
              "    </tr>\n",
              "    <tr>\n",
              "      <th>1</th>\n",
              "      <td>55</td>\n",
              "      <td>20170715</td>\n",
              "      <td>F</td>\n",
              "      <td>0610b486422d4921ae7d2bf64640c50b</td>\n",
              "      <td>112000.0</td>\n",
              "      <td>offer completed</td>\n",
              "      <td>528</td>\n",
              "      <td>9b98b8c7a33c4b65b9aebfe6a799e6d9</td>\n",
              "      <td>[web, email, mobile]</td>\n",
              "      <td>5</td>\n",
              "      <td>7</td>\n",
              "      <td>bogo</td>\n",
              "      <td>5</td>\n",
              "      <td>41_60</td>\n",
              "      <td>402</td>\n",
              "    </tr>\n",
              "    <tr>\n",
              "      <th>2</th>\n",
              "      <td>75</td>\n",
              "      <td>20170509</td>\n",
              "      <td>F</td>\n",
              "      <td>78afa995795e4d85b5d9ceeca43f5fef</td>\n",
              "      <td>100000.0</td>\n",
              "      <td>offer received</td>\n",
              "      <td>0</td>\n",
              "      <td>9b98b8c7a33c4b65b9aebfe6a799e6d9</td>\n",
              "      <td>[web, email, mobile]</td>\n",
              "      <td>5</td>\n",
              "      <td>7</td>\n",
              "      <td>bogo</td>\n",
              "      <td>5</td>\n",
              "      <td>61_80</td>\n",
              "      <td>404</td>\n",
              "    </tr>\n",
              "    <tr>\n",
              "      <th>3</th>\n",
              "      <td>75</td>\n",
              "      <td>20170509</td>\n",
              "      <td>F</td>\n",
              "      <td>78afa995795e4d85b5d9ceeca43f5fef</td>\n",
              "      <td>100000.0</td>\n",
              "      <td>offer viewed</td>\n",
              "      <td>6</td>\n",
              "      <td>9b98b8c7a33c4b65b9aebfe6a799e6d9</td>\n",
              "      <td>[web, email, mobile]</td>\n",
              "      <td>5</td>\n",
              "      <td>7</td>\n",
              "      <td>bogo</td>\n",
              "      <td>5</td>\n",
              "      <td>61_80</td>\n",
              "      <td>404</td>\n",
              "    </tr>\n",
              "    <tr>\n",
              "      <th>4</th>\n",
              "      <td>75</td>\n",
              "      <td>20170509</td>\n",
              "      <td>F</td>\n",
              "      <td>78afa995795e4d85b5d9ceeca43f5fef</td>\n",
              "      <td>100000.0</td>\n",
              "      <td>offer completed</td>\n",
              "      <td>132</td>\n",
              "      <td>9b98b8c7a33c4b65b9aebfe6a799e6d9</td>\n",
              "      <td>[web, email, mobile]</td>\n",
              "      <td>5</td>\n",
              "      <td>7</td>\n",
              "      <td>bogo</td>\n",
              "      <td>5</td>\n",
              "      <td>61_80</td>\n",
              "      <td>404</td>\n",
              "    </tr>\n",
              "  </tbody>\n",
              "</table>\n",
              "</div>"
            ],
            "text/plain": [
              "   age  became_member_on gender  ... reward  age_group membership_age\n",
              "0   55          20170715      F  ...      5      41_60            402\n",
              "1   55          20170715      F  ...      5      41_60            402\n",
              "2   75          20170509      F  ...      5      61_80            404\n",
              "3   75          20170509      F  ...      5      61_80            404\n",
              "4   75          20170509      F  ...      5      61_80            404\n",
              "\n",
              "[5 rows x 15 columns]"
            ]
          },
          "metadata": {},
          "execution_count": 50
        }
      ]
    },
    {
      "cell_type": "markdown",
      "metadata": {
        "id": "Qf5gvQPorcJB"
      },
      "source": [
        "We are only interested on two event types \n",
        "- offer completed\n",
        "- offer received\n",
        "\n",
        "If a particular customer for a particular offer has already completed the offer, then we need not bother about the other two events (offer received or offer viewed)\n",
        "\n",
        "If a particular customer for a particular offer has not completed the offer, then we only need to look for offer received (not much bothered about offer viewed or not)\n",
        "\n",
        "The below block is segregating the same by cleaning the data."
      ]
    },
    {
      "cell_type": "code",
      "metadata": {
        "colab": {
          "base_uri": "https://localhost:8080/",
          "height": 391
        },
        "id": "PYDpNgC6qx_W",
        "outputId": "534b1377-8718-4a24-f48f-5a5a4cf157aa"
      },
      "source": [
        "df_completed = event_combo[event_combo['event']=='offer completed']\n",
        "df_interim = event_combo[~event_combo['person_id'].isin(df_completed['person_id'].values)]\n",
        "df_received = df_interim[df_interim['event'] == 'offer received']\n",
        "df = df_completed.append(df_received)\n",
        "df.head(5)"
      ],
      "execution_count": 51,
      "outputs": [
        {
          "output_type": "execute_result",
          "data": {
            "text/html": [
              "<div>\n",
              "<style scoped>\n",
              "    .dataframe tbody tr th:only-of-type {\n",
              "        vertical-align: middle;\n",
              "    }\n",
              "\n",
              "    .dataframe tbody tr th {\n",
              "        vertical-align: top;\n",
              "    }\n",
              "\n",
              "    .dataframe thead th {\n",
              "        text-align: right;\n",
              "    }\n",
              "</style>\n",
              "<table border=\"1\" class=\"dataframe\">\n",
              "  <thead>\n",
              "    <tr style=\"text-align: right;\">\n",
              "      <th></th>\n",
              "      <th>age</th>\n",
              "      <th>became_member_on</th>\n",
              "      <th>gender</th>\n",
              "      <th>person_id</th>\n",
              "      <th>income</th>\n",
              "      <th>event</th>\n",
              "      <th>time</th>\n",
              "      <th>off_id</th>\n",
              "      <th>channels</th>\n",
              "      <th>difficulty</th>\n",
              "      <th>duration</th>\n",
              "      <th>offer_type</th>\n",
              "      <th>reward</th>\n",
              "      <th>age_group</th>\n",
              "      <th>membership_age</th>\n",
              "    </tr>\n",
              "  </thead>\n",
              "  <tbody>\n",
              "    <tr>\n",
              "      <th>1</th>\n",
              "      <td>55</td>\n",
              "      <td>20170715</td>\n",
              "      <td>F</td>\n",
              "      <td>0610b486422d4921ae7d2bf64640c50b</td>\n",
              "      <td>112000.0</td>\n",
              "      <td>offer completed</td>\n",
              "      <td>528</td>\n",
              "      <td>9b98b8c7a33c4b65b9aebfe6a799e6d9</td>\n",
              "      <td>[web, email, mobile]</td>\n",
              "      <td>5</td>\n",
              "      <td>7</td>\n",
              "      <td>bogo</td>\n",
              "      <td>5</td>\n",
              "      <td>41_60</td>\n",
              "      <td>402</td>\n",
              "    </tr>\n",
              "    <tr>\n",
              "      <th>4</th>\n",
              "      <td>75</td>\n",
              "      <td>20170509</td>\n",
              "      <td>F</td>\n",
              "      <td>78afa995795e4d85b5d9ceeca43f5fef</td>\n",
              "      <td>100000.0</td>\n",
              "      <td>offer completed</td>\n",
              "      <td>132</td>\n",
              "      <td>9b98b8c7a33c4b65b9aebfe6a799e6d9</td>\n",
              "      <td>[web, email, mobile]</td>\n",
              "      <td>5</td>\n",
              "      <td>7</td>\n",
              "      <td>bogo</td>\n",
              "      <td>5</td>\n",
              "      <td>61_80</td>\n",
              "      <td>404</td>\n",
              "    </tr>\n",
              "    <tr>\n",
              "      <th>7</th>\n",
              "      <td>68</td>\n",
              "      <td>20180426</td>\n",
              "      <td>M</td>\n",
              "      <td>e2127556f4f64592b11af22de27a7932</td>\n",
              "      <td>70000.0</td>\n",
              "      <td>offer completed</td>\n",
              "      <td>522</td>\n",
              "      <td>9b98b8c7a33c4b65b9aebfe6a799e6d9</td>\n",
              "      <td>[web, email, mobile]</td>\n",
              "      <td>5</td>\n",
              "      <td>7</td>\n",
              "      <td>bogo</td>\n",
              "      <td>5</td>\n",
              "      <td>61_80</td>\n",
              "      <td>305</td>\n",
              "    </tr>\n",
              "    <tr>\n",
              "      <th>12</th>\n",
              "      <td>65</td>\n",
              "      <td>20180209</td>\n",
              "      <td>M</td>\n",
              "      <td>389bc3fa690240e798340f5a15918d5c</td>\n",
              "      <td>53000.0</td>\n",
              "      <td>offer completed</td>\n",
              "      <td>498</td>\n",
              "      <td>9b98b8c7a33c4b65b9aebfe6a799e6d9</td>\n",
              "      <td>[web, email, mobile]</td>\n",
              "      <td>5</td>\n",
              "      <td>7</td>\n",
              "      <td>bogo</td>\n",
              "      <td>5</td>\n",
              "      <td>61_80</td>\n",
              "      <td>307</td>\n",
              "    </tr>\n",
              "    <tr>\n",
              "      <th>15</th>\n",
              "      <td>57</td>\n",
              "      <td>20171231</td>\n",
              "      <td>M</td>\n",
              "      <td>6445de3b47274c759400cd68131d91b4</td>\n",
              "      <td>42000.0</td>\n",
              "      <td>offer completed</td>\n",
              "      <td>516</td>\n",
              "      <td>9b98b8c7a33c4b65b9aebfe6a799e6d9</td>\n",
              "      <td>[web, email, mobile]</td>\n",
              "      <td>5</td>\n",
              "      <td>7</td>\n",
              "      <td>bogo</td>\n",
              "      <td>5</td>\n",
              "      <td>41_60</td>\n",
              "      <td>397</td>\n",
              "    </tr>\n",
              "  </tbody>\n",
              "</table>\n",
              "</div>"
            ],
            "text/plain": [
              "    age  became_member_on gender  ... reward  age_group membership_age\n",
              "1    55          20170715      F  ...      5      41_60            402\n",
              "4    75          20170509      F  ...      5      61_80            404\n",
              "7    68          20180426      M  ...      5      61_80            305\n",
              "12   65          20180209      M  ...      5      61_80            307\n",
              "15   57          20171231      M  ...      5      41_60            397\n",
              "\n",
              "[5 rows x 15 columns]"
            ]
          },
          "metadata": {},
          "execution_count": 51
        }
      ]
    },
    {
      "cell_type": "markdown",
      "metadata": {
        "id": "Lg4wm_USsqDX"
      },
      "source": [
        "Generating the columns in scenarios for the unavailable features in the dataset.\n",
        "\n",
        "**Encoding** \n",
        "- offer received = 0\n",
        "- offer completed = 1"
      ]
    },
    {
      "cell_type": "code",
      "metadata": {
        "colab": {
          "base_uri": "https://localhost:8080/",
          "height": 391
        },
        "id": "A8WtmQxZrVER",
        "outputId": "34b6fcaa-e74e-4904-f388-9f8329352e35"
      },
      "source": [
        "df = df.join(df.channels.str.join('|').str.get_dummies())\n",
        "if 'web' not in df:\n",
        "  df['web'] = 0\n",
        "if 'email' not in df:\n",
        "  df['email'] = 0\n",
        "if 'mobile' not in df:\n",
        "  df['mobile'] = 0\n",
        "if 'social' not in df:\n",
        "  df['social'] = 0\n",
        "  \n",
        "df = df.join(df.offer_type.str.get_dummies())\n",
        "if 'bogo' not in df:\n",
        "  df['bogo'] = 0\n",
        "if 'discount' not in df:\n",
        "  df['discount'] = 0\n",
        "if 'informational' not in df:\n",
        "  df['informational'] = 0\n",
        "\n",
        "df = df.join(df.age_group.str.get_dummies())\n",
        "if 'UNDER_20' not in df:\n",
        "  df['UNDER_20'] = 0\n",
        "if '20_40' not in df:\n",
        "  df['20_40'] = 0\n",
        "if '41_60' not in df:\n",
        "  df['41_60'] = 0\n",
        "if '61_80' not in df:\n",
        "  df['61_80'] = 0\n",
        "if 'ABOVE_80' not in df:\n",
        "  df['ABOVE_80'] = 0\n",
        "  \n",
        "df = df.join(df.gender.str.get_dummies())\n",
        "if 'M' not in df:\n",
        "  df['M'] = 0\n",
        "if 'F' not in df:\n",
        "  df['F'] = 0\n",
        "if 'O' not in df:\n",
        "  df['O'] = 0\n",
        "  \n",
        "df['event_enc'] = df['event'].map({'offer received':0, 'offer completed':1})\n",
        "df.head(5)"
      ],
      "execution_count": 52,
      "outputs": [
        {
          "output_type": "execute_result",
          "data": {
            "text/html": [
              "<div>\n",
              "<style scoped>\n",
              "    .dataframe tbody tr th:only-of-type {\n",
              "        vertical-align: middle;\n",
              "    }\n",
              "\n",
              "    .dataframe tbody tr th {\n",
              "        vertical-align: top;\n",
              "    }\n",
              "\n",
              "    .dataframe thead th {\n",
              "        text-align: right;\n",
              "    }\n",
              "</style>\n",
              "<table border=\"1\" class=\"dataframe\">\n",
              "  <thead>\n",
              "    <tr style=\"text-align: right;\">\n",
              "      <th></th>\n",
              "      <th>age</th>\n",
              "      <th>became_member_on</th>\n",
              "      <th>gender</th>\n",
              "      <th>person_id</th>\n",
              "      <th>income</th>\n",
              "      <th>event</th>\n",
              "      <th>time</th>\n",
              "      <th>off_id</th>\n",
              "      <th>channels</th>\n",
              "      <th>difficulty</th>\n",
              "      <th>duration</th>\n",
              "      <th>offer_type</th>\n",
              "      <th>reward</th>\n",
              "      <th>age_group</th>\n",
              "      <th>membership_age</th>\n",
              "      <th>email</th>\n",
              "      <th>mobile</th>\n",
              "      <th>social</th>\n",
              "      <th>web</th>\n",
              "      <th>bogo</th>\n",
              "      <th>discount</th>\n",
              "      <th>informational</th>\n",
              "      <th>20_40</th>\n",
              "      <th>41_60</th>\n",
              "      <th>61_80</th>\n",
              "      <th>ABOVE_80</th>\n",
              "      <th>UNDER_20</th>\n",
              "      <th>F</th>\n",
              "      <th>M</th>\n",
              "      <th>O</th>\n",
              "      <th>event_enc</th>\n",
              "    </tr>\n",
              "  </thead>\n",
              "  <tbody>\n",
              "    <tr>\n",
              "      <th>1</th>\n",
              "      <td>55</td>\n",
              "      <td>20170715</td>\n",
              "      <td>F</td>\n",
              "      <td>0610b486422d4921ae7d2bf64640c50b</td>\n",
              "      <td>112000.0</td>\n",
              "      <td>offer completed</td>\n",
              "      <td>528</td>\n",
              "      <td>9b98b8c7a33c4b65b9aebfe6a799e6d9</td>\n",
              "      <td>[web, email, mobile]</td>\n",
              "      <td>5</td>\n",
              "      <td>7</td>\n",
              "      <td>bogo</td>\n",
              "      <td>5</td>\n",
              "      <td>41_60</td>\n",
              "      <td>402</td>\n",
              "      <td>1</td>\n",
              "      <td>1</td>\n",
              "      <td>0</td>\n",
              "      <td>1</td>\n",
              "      <td>1</td>\n",
              "      <td>0</td>\n",
              "      <td>0</td>\n",
              "      <td>0</td>\n",
              "      <td>1</td>\n",
              "      <td>0</td>\n",
              "      <td>0</td>\n",
              "      <td>0</td>\n",
              "      <td>1</td>\n",
              "      <td>0</td>\n",
              "      <td>0</td>\n",
              "      <td>1</td>\n",
              "    </tr>\n",
              "    <tr>\n",
              "      <th>4</th>\n",
              "      <td>75</td>\n",
              "      <td>20170509</td>\n",
              "      <td>F</td>\n",
              "      <td>78afa995795e4d85b5d9ceeca43f5fef</td>\n",
              "      <td>100000.0</td>\n",
              "      <td>offer completed</td>\n",
              "      <td>132</td>\n",
              "      <td>9b98b8c7a33c4b65b9aebfe6a799e6d9</td>\n",
              "      <td>[web, email, mobile]</td>\n",
              "      <td>5</td>\n",
              "      <td>7</td>\n",
              "      <td>bogo</td>\n",
              "      <td>5</td>\n",
              "      <td>61_80</td>\n",
              "      <td>404</td>\n",
              "      <td>1</td>\n",
              "      <td>1</td>\n",
              "      <td>0</td>\n",
              "      <td>1</td>\n",
              "      <td>1</td>\n",
              "      <td>0</td>\n",
              "      <td>0</td>\n",
              "      <td>0</td>\n",
              "      <td>0</td>\n",
              "      <td>1</td>\n",
              "      <td>0</td>\n",
              "      <td>0</td>\n",
              "      <td>1</td>\n",
              "      <td>0</td>\n",
              "      <td>0</td>\n",
              "      <td>1</td>\n",
              "    </tr>\n",
              "    <tr>\n",
              "      <th>7</th>\n",
              "      <td>68</td>\n",
              "      <td>20180426</td>\n",
              "      <td>M</td>\n",
              "      <td>e2127556f4f64592b11af22de27a7932</td>\n",
              "      <td>70000.0</td>\n",
              "      <td>offer completed</td>\n",
              "      <td>522</td>\n",
              "      <td>9b98b8c7a33c4b65b9aebfe6a799e6d9</td>\n",
              "      <td>[web, email, mobile]</td>\n",
              "      <td>5</td>\n",
              "      <td>7</td>\n",
              "      <td>bogo</td>\n",
              "      <td>5</td>\n",
              "      <td>61_80</td>\n",
              "      <td>305</td>\n",
              "      <td>1</td>\n",
              "      <td>1</td>\n",
              "      <td>0</td>\n",
              "      <td>1</td>\n",
              "      <td>1</td>\n",
              "      <td>0</td>\n",
              "      <td>0</td>\n",
              "      <td>0</td>\n",
              "      <td>0</td>\n",
              "      <td>1</td>\n",
              "      <td>0</td>\n",
              "      <td>0</td>\n",
              "      <td>0</td>\n",
              "      <td>1</td>\n",
              "      <td>0</td>\n",
              "      <td>1</td>\n",
              "    </tr>\n",
              "    <tr>\n",
              "      <th>12</th>\n",
              "      <td>65</td>\n",
              "      <td>20180209</td>\n",
              "      <td>M</td>\n",
              "      <td>389bc3fa690240e798340f5a15918d5c</td>\n",
              "      <td>53000.0</td>\n",
              "      <td>offer completed</td>\n",
              "      <td>498</td>\n",
              "      <td>9b98b8c7a33c4b65b9aebfe6a799e6d9</td>\n",
              "      <td>[web, email, mobile]</td>\n",
              "      <td>5</td>\n",
              "      <td>7</td>\n",
              "      <td>bogo</td>\n",
              "      <td>5</td>\n",
              "      <td>61_80</td>\n",
              "      <td>307</td>\n",
              "      <td>1</td>\n",
              "      <td>1</td>\n",
              "      <td>0</td>\n",
              "      <td>1</td>\n",
              "      <td>1</td>\n",
              "      <td>0</td>\n",
              "      <td>0</td>\n",
              "      <td>0</td>\n",
              "      <td>0</td>\n",
              "      <td>1</td>\n",
              "      <td>0</td>\n",
              "      <td>0</td>\n",
              "      <td>0</td>\n",
              "      <td>1</td>\n",
              "      <td>0</td>\n",
              "      <td>1</td>\n",
              "    </tr>\n",
              "    <tr>\n",
              "      <th>15</th>\n",
              "      <td>57</td>\n",
              "      <td>20171231</td>\n",
              "      <td>M</td>\n",
              "      <td>6445de3b47274c759400cd68131d91b4</td>\n",
              "      <td>42000.0</td>\n",
              "      <td>offer completed</td>\n",
              "      <td>516</td>\n",
              "      <td>9b98b8c7a33c4b65b9aebfe6a799e6d9</td>\n",
              "      <td>[web, email, mobile]</td>\n",
              "      <td>5</td>\n",
              "      <td>7</td>\n",
              "      <td>bogo</td>\n",
              "      <td>5</td>\n",
              "      <td>41_60</td>\n",
              "      <td>397</td>\n",
              "      <td>1</td>\n",
              "      <td>1</td>\n",
              "      <td>0</td>\n",
              "      <td>1</td>\n",
              "      <td>1</td>\n",
              "      <td>0</td>\n",
              "      <td>0</td>\n",
              "      <td>0</td>\n",
              "      <td>1</td>\n",
              "      <td>0</td>\n",
              "      <td>0</td>\n",
              "      <td>0</td>\n",
              "      <td>0</td>\n",
              "      <td>1</td>\n",
              "      <td>0</td>\n",
              "      <td>1</td>\n",
              "    </tr>\n",
              "  </tbody>\n",
              "</table>\n",
              "</div>"
            ],
            "text/plain": [
              "    age  became_member_on gender  ...  M  O event_enc\n",
              "1    55          20170715      F  ...  0  0         1\n",
              "4    75          20170509      F  ...  0  0         1\n",
              "7    68          20180426      M  ...  1  0         1\n",
              "12   65          20180209      M  ...  1  0         1\n",
              "15   57          20171231      M  ...  1  0         1\n",
              "\n",
              "[5 rows x 31 columns]"
            ]
          },
          "metadata": {},
          "execution_count": 52
        }
      ]
    },
    {
      "cell_type": "markdown",
      "metadata": {
        "id": "Hv_tbwb8xTbq"
      },
      "source": [
        "**Scale data**"
      ]
    },
    {
      "cell_type": "code",
      "metadata": {
        "id": "JbUMOmRGxShx"
      },
      "source": [
        "from sklearn.preprocessing import MinMaxScaler, StandardScaler\n",
        "def scale_data(X, y):\n",
        "  scaler = MinMaxScaler()\n",
        "  X_enc = scaler.fit_transform(X)\n",
        "  y_enc = y.values\n",
        "  return X_enc, y_enc"
      ],
      "execution_count": 53,
      "outputs": []
    },
    {
      "cell_type": "code",
      "metadata": {
        "id": "3yb4wKjIs_-4"
      },
      "source": [
        "df = df.sample(frac=1).reset_index(drop=True)"
      ],
      "execution_count": 54,
      "outputs": []
    },
    {
      "cell_type": "code",
      "metadata": {
        "colab": {
          "base_uri": "https://localhost:8080/",
          "height": 442
        },
        "id": "q_JirNBMt0AK",
        "outputId": "304fef78-bc42-48c7-e32d-1c79f785845e"
      },
      "source": [
        "df.head(5)"
      ],
      "execution_count": 55,
      "outputs": [
        {
          "output_type": "execute_result",
          "data": {
            "text/html": [
              "<div>\n",
              "<style scoped>\n",
              "    .dataframe tbody tr th:only-of-type {\n",
              "        vertical-align: middle;\n",
              "    }\n",
              "\n",
              "    .dataframe tbody tr th {\n",
              "        vertical-align: top;\n",
              "    }\n",
              "\n",
              "    .dataframe thead th {\n",
              "        text-align: right;\n",
              "    }\n",
              "</style>\n",
              "<table border=\"1\" class=\"dataframe\">\n",
              "  <thead>\n",
              "    <tr style=\"text-align: right;\">\n",
              "      <th></th>\n",
              "      <th>age</th>\n",
              "      <th>became_member_on</th>\n",
              "      <th>gender</th>\n",
              "      <th>person_id</th>\n",
              "      <th>income</th>\n",
              "      <th>event</th>\n",
              "      <th>time</th>\n",
              "      <th>off_id</th>\n",
              "      <th>channels</th>\n",
              "      <th>difficulty</th>\n",
              "      <th>duration</th>\n",
              "      <th>offer_type</th>\n",
              "      <th>reward</th>\n",
              "      <th>age_group</th>\n",
              "      <th>membership_age</th>\n",
              "      <th>email</th>\n",
              "      <th>mobile</th>\n",
              "      <th>social</th>\n",
              "      <th>web</th>\n",
              "      <th>bogo</th>\n",
              "      <th>discount</th>\n",
              "      <th>informational</th>\n",
              "      <th>20_40</th>\n",
              "      <th>41_60</th>\n",
              "      <th>61_80</th>\n",
              "      <th>ABOVE_80</th>\n",
              "      <th>UNDER_20</th>\n",
              "      <th>F</th>\n",
              "      <th>M</th>\n",
              "      <th>O</th>\n",
              "      <th>event_enc</th>\n",
              "    </tr>\n",
              "  </thead>\n",
              "  <tbody>\n",
              "    <tr>\n",
              "      <th>0</th>\n",
              "      <td>58</td>\n",
              "      <td>20151221</td>\n",
              "      <td>M</td>\n",
              "      <td>a53e7bd4a5ed4f02a65ac0b4b3fc9234</td>\n",
              "      <td>70000.0</td>\n",
              "      <td>offer completed</td>\n",
              "      <td>180</td>\n",
              "      <td>fafdcd668e3743c1bb461111dcafc2a4</td>\n",
              "      <td>[web, email, mobile, social]</td>\n",
              "      <td>10</td>\n",
              "      <td>10</td>\n",
              "      <td>discount</td>\n",
              "      <td>2</td>\n",
              "      <td>41_60</td>\n",
              "      <td>597</td>\n",
              "      <td>1</td>\n",
              "      <td>1</td>\n",
              "      <td>1</td>\n",
              "      <td>1</td>\n",
              "      <td>0</td>\n",
              "      <td>1</td>\n",
              "      <td>0</td>\n",
              "      <td>0</td>\n",
              "      <td>1</td>\n",
              "      <td>0</td>\n",
              "      <td>0</td>\n",
              "      <td>0</td>\n",
              "      <td>0</td>\n",
              "      <td>1</td>\n",
              "      <td>0</td>\n",
              "      <td>1</td>\n",
              "    </tr>\n",
              "    <tr>\n",
              "      <th>1</th>\n",
              "      <td>52</td>\n",
              "      <td>20170506</td>\n",
              "      <td>M</td>\n",
              "      <td>6994d35034504f6caeacc956d95b3eaa</td>\n",
              "      <td>68000.0</td>\n",
              "      <td>offer completed</td>\n",
              "      <td>552</td>\n",
              "      <td>f19421c1d4aa40978ebb69ca19b0e20d</td>\n",
              "      <td>[web, email, mobile, social]</td>\n",
              "      <td>5</td>\n",
              "      <td>5</td>\n",
              "      <td>bogo</td>\n",
              "      <td>5</td>\n",
              "      <td>41_60</td>\n",
              "      <td>404</td>\n",
              "      <td>1</td>\n",
              "      <td>1</td>\n",
              "      <td>1</td>\n",
              "      <td>1</td>\n",
              "      <td>1</td>\n",
              "      <td>0</td>\n",
              "      <td>0</td>\n",
              "      <td>0</td>\n",
              "      <td>1</td>\n",
              "      <td>0</td>\n",
              "      <td>0</td>\n",
              "      <td>0</td>\n",
              "      <td>0</td>\n",
              "      <td>1</td>\n",
              "      <td>0</td>\n",
              "      <td>1</td>\n",
              "    </tr>\n",
              "    <tr>\n",
              "      <th>2</th>\n",
              "      <td>40</td>\n",
              "      <td>20180310</td>\n",
              "      <td>M</td>\n",
              "      <td>6e1a80d19c8c446e88c582e7b99eeecd</td>\n",
              "      <td>57000.0</td>\n",
              "      <td>offer received</td>\n",
              "      <td>168</td>\n",
              "      <td>9b98b8c7a33c4b65b9aebfe6a799e6d9</td>\n",
              "      <td>[web, email, mobile]</td>\n",
              "      <td>5</td>\n",
              "      <td>7</td>\n",
              "      <td>bogo</td>\n",
              "      <td>5</td>\n",
              "      <td>20_40</td>\n",
              "      <td>306</td>\n",
              "      <td>1</td>\n",
              "      <td>1</td>\n",
              "      <td>0</td>\n",
              "      <td>1</td>\n",
              "      <td>1</td>\n",
              "      <td>0</td>\n",
              "      <td>0</td>\n",
              "      <td>1</td>\n",
              "      <td>0</td>\n",
              "      <td>0</td>\n",
              "      <td>0</td>\n",
              "      <td>0</td>\n",
              "      <td>0</td>\n",
              "      <td>1</td>\n",
              "      <td>0</td>\n",
              "      <td>0</td>\n",
              "    </tr>\n",
              "    <tr>\n",
              "      <th>3</th>\n",
              "      <td>49</td>\n",
              "      <td>20150813</td>\n",
              "      <td>M</td>\n",
              "      <td>42ef6b1a574d43e69750a3c7fd378ef4</td>\n",
              "      <td>112000.0</td>\n",
              "      <td>offer completed</td>\n",
              "      <td>474</td>\n",
              "      <td>ae264e3637204a6fb9bb56bc8210ddfd</td>\n",
              "      <td>[email, mobile, social]</td>\n",
              "      <td>10</td>\n",
              "      <td>7</td>\n",
              "      <td>bogo</td>\n",
              "      <td>10</td>\n",
              "      <td>41_60</td>\n",
              "      <td>601</td>\n",
              "      <td>1</td>\n",
              "      <td>1</td>\n",
              "      <td>1</td>\n",
              "      <td>0</td>\n",
              "      <td>1</td>\n",
              "      <td>0</td>\n",
              "      <td>0</td>\n",
              "      <td>0</td>\n",
              "      <td>1</td>\n",
              "      <td>0</td>\n",
              "      <td>0</td>\n",
              "      <td>0</td>\n",
              "      <td>0</td>\n",
              "      <td>1</td>\n",
              "      <td>0</td>\n",
              "      <td>1</td>\n",
              "    </tr>\n",
              "    <tr>\n",
              "      <th>4</th>\n",
              "      <td>67</td>\n",
              "      <td>20160817</td>\n",
              "      <td>M</td>\n",
              "      <td>e61fb01fd4d044679e065eb3e3eef1f9</td>\n",
              "      <td>75000.0</td>\n",
              "      <td>offer completed</td>\n",
              "      <td>366</td>\n",
              "      <td>fafdcd668e3743c1bb461111dcafc2a4</td>\n",
              "      <td>[web, email, mobile, social]</td>\n",
              "      <td>10</td>\n",
              "      <td>10</td>\n",
              "      <td>discount</td>\n",
              "      <td>2</td>\n",
              "      <td>61_80</td>\n",
              "      <td>501</td>\n",
              "      <td>1</td>\n",
              "      <td>1</td>\n",
              "      <td>1</td>\n",
              "      <td>1</td>\n",
              "      <td>0</td>\n",
              "      <td>1</td>\n",
              "      <td>0</td>\n",
              "      <td>0</td>\n",
              "      <td>0</td>\n",
              "      <td>1</td>\n",
              "      <td>0</td>\n",
              "      <td>0</td>\n",
              "      <td>0</td>\n",
              "      <td>1</td>\n",
              "      <td>0</td>\n",
              "      <td>1</td>\n",
              "    </tr>\n",
              "  </tbody>\n",
              "</table>\n",
              "</div>"
            ],
            "text/plain": [
              "   age  became_member_on gender  ...  M  O event_enc\n",
              "0   58          20151221      M  ...  1  0         1\n",
              "1   52          20170506      M  ...  1  0         1\n",
              "2   40          20180310      M  ...  1  0         0\n",
              "3   49          20150813      M  ...  1  0         1\n",
              "4   67          20160817      M  ...  1  0         1\n",
              "\n",
              "[5 rows x 31 columns]"
            ]
          },
          "metadata": {},
          "execution_count": 55
        }
      ]
    },
    {
      "cell_type": "code",
      "metadata": {
        "colab": {
          "base_uri": "https://localhost:8080/"
        },
        "id": "YHh4vEC4sjYR",
        "outputId": "8f8e7749-fd18-496d-df10-86e2b5c036b8"
      },
      "source": [
        "X = df.drop(columns=['age', 'became_member_on',\t'gender',\t'person_id',\t'event',\t'off_id',\t\n",
        "                     'offer_type', 'channels', 'age_group', 'event_enc'], axis=1)\n",
        "print(X.columns)\n",
        "y = df['event_enc']\n",
        "X, y = scale_data(X, y)\n",
        "print(f\"X:\\n{X}\\ny:\\n{y}\")"
      ],
      "execution_count": 56,
      "outputs": [
        {
          "output_type": "stream",
          "name": "stdout",
          "text": [
            "Index(['income', 'time', 'difficulty', 'duration', 'reward', 'membership_age',\n",
            "       'email', 'mobile', 'social', 'web', 'bogo', 'discount', 'informational',\n",
            "       '20_40', '41_60', '61_80', 'ABOVE_80', 'UNDER_20', 'F', 'M', 'O'],\n",
            "      dtype='object')\n",
            "X:\n",
            "[[0.44444444 0.25210084 0.5        ... 0.         1.         0.        ]\n",
            " [0.42222222 0.77310924 0.25       ... 0.         1.         0.        ]\n",
            " [0.3        0.23529412 0.25       ... 0.         1.         0.        ]\n",
            " ...\n",
            " [0.11111111 0.         0.5        ... 0.         1.         0.        ]\n",
            " [0.23333333 0.8487395  0.5        ... 1.         0.         0.        ]\n",
            " [0.48888889 0.57142857 0.         ... 0.         1.         0.        ]]\n",
            "y:\n",
            "[1 1 0 ... 0 1 0]\n"
          ]
        }
      ]
    },
    {
      "cell_type": "markdown",
      "metadata": {
        "id": "NovNtRORtPpl"
      },
      "source": [
        "**For Training the model** - Initial Start\n",
        "\n",
        "With columns (Features): \n",
        "```\n",
        "['income', 'time', 'difficulty', 'duration', 'reward', 'membership_age', 'email', 'mobile', 'social', 'web', 'bogo', 'discount',\n",
        "'informational', '20_40', '41_60', '61_80', 'ABOVE_80', 'UNDER_20', 'F','M', 'O']\n",
        "```\n",
        "With Label: `event_enc`"
      ]
    },
    {
      "cell_type": "markdown",
      "metadata": {
        "id": "6KQniVo1tnQC"
      },
      "source": [
        "**Shuffle data** - return all records with frac=1 with updated index.\n",
        "For better training and testing."
      ]
    },
    {
      "cell_type": "code",
      "metadata": {
        "id": "LvMmp42VuKfJ"
      },
      "source": [
        "X_train, X_test, y_train, y_test = train_test_split(X, y, test_size = 0.2, random_state = 42)"
      ],
      "execution_count": 57,
      "outputs": []
    },
    {
      "cell_type": "code",
      "metadata": {
        "colab": {
          "base_uri": "https://localhost:8080/"
        },
        "id": "YSM5YI4eus2x",
        "outputId": "1232d35e-1746-4e79-b2e7-c410ef396206"
      },
      "source": [
        "X_train[0]"
      ],
      "execution_count": 58,
      "outputs": [
        {
          "output_type": "execute_result",
          "data": {
            "text/plain": [
              "array([0.68888889, 0.60504202, 1.        , 1.        , 0.5       ,\n",
              "       0.402     , 0.        , 0.        , 0.        , 1.        ,\n",
              "       0.        , 1.        , 0.        , 0.        , 0.        ,\n",
              "       0.        , 1.        , 0.        , 0.        , 1.        ,\n",
              "       0.        ])"
            ]
          },
          "metadata": {},
          "execution_count": 58
        }
      ]
    },
    {
      "cell_type": "code",
      "metadata": {
        "colab": {
          "base_uri": "https://localhost:8080/"
        },
        "id": "sbTAPGKgvDMz",
        "outputId": "c56f0814-cd37-47fe-a583-7a289d90558f"
      },
      "source": [
        "y_train[0]"
      ],
      "execution_count": 59,
      "outputs": [
        {
          "output_type": "execute_result",
          "data": {
            "text/plain": [
              "1"
            ]
          },
          "metadata": {},
          "execution_count": 59
        }
      ]
    },
    {
      "cell_type": "code",
      "metadata": {
        "colab": {
          "base_uri": "https://localhost:8080/"
        },
        "id": "GHkLvtePyiKo",
        "outputId": "f588fe38-1b4c-40c5-fbff-b1f9d898a404"
      },
      "source": [
        "print(f\"X_train shape: {X_train.shape}\\nY_train shape: {y_train.shape}\\nX_test shape: {X_test.shape}\\ny_test shape: {y_test.shape}\")"
      ],
      "execution_count": 60,
      "outputs": [
        {
          "output_type": "stream",
          "name": "stdout",
          "text": [
            "X_train shape: (35602, 21)\n",
            "Y_train shape: (35602,)\n",
            "X_test shape: (8901, 21)\n",
            "y_test shape: (8901,)\n"
          ]
        }
      ]
    },
    {
      "cell_type": "markdown",
      "metadata": {
        "id": "eB7GXa4u0ESE"
      },
      "source": [
        "StandardScaler generates negative data.\n",
        "\n",
        "Negative values are not allowed in MultinomialNB classifier hence we go with MinMaxScaler which ranges between 0 to 1\n",
        "\n",
        "\n",
        "\n"
      ]
    },
    {
      "cell_type": "markdown",
      "metadata": {
        "id": "6jJxlTT01d9V"
      },
      "source": [
        "# Modelling - MultinomialNB"
      ]
    },
    {
      "cell_type": "code",
      "metadata": {
        "colab": {
          "base_uri": "https://localhost:8080/"
        },
        "id": "qw_dHvJfvMUB",
        "outputId": "dc8fabf3-1221-4b71-90d0-5c49336e4490"
      },
      "source": [
        "from sklearn.naive_bayes import MultinomialNB\n",
        "classifier = MultinomialNB()\n",
        "classifier.fit(X_train, y_train)\n",
        "y_pred = classifier.predict(X_test)\n",
        "cm = confusion_matrix(y_test, y_pred)\n",
        "print(f\"Confusion Matrix:\\n{cm}\")\n",
        "accuracy = accuracy_score(y_test, y_pred)\n",
        "print(f\"Accuracy: {accuracy}\")\n",
        "print(f\"Classification Report:\\n{classification_report(y_test, y_pred)}\")"
      ],
      "execution_count": 61,
      "outputs": [
        {
          "output_type": "stream",
          "name": "stdout",
          "text": [
            "Confusion Matrix:\n",
            "[[ 632 1781]\n",
            " [  23 6465]]\n",
            "Accuracy: 0.7973261431299854\n",
            "Classification Report:\n",
            "              precision    recall  f1-score   support\n",
            "\n",
            "           0       0.96      0.26      0.41      2413\n",
            "           1       0.78      1.00      0.88      6488\n",
            "\n",
            "    accuracy                           0.80      8901\n",
            "   macro avg       0.87      0.63      0.64      8901\n",
            "weighted avg       0.83      0.80      0.75      8901\n",
            "\n"
          ]
        }
      ]
    },
    {
      "cell_type": "markdown",
      "metadata": {
        "id": "744A3H83MrOo"
      },
      "source": [
        "**Predicting for first record from test set**"
      ]
    },
    {
      "cell_type": "code",
      "metadata": {
        "colab": {
          "base_uri": "https://localhost:8080/"
        },
        "id": "BXRs7w2IMrOo",
        "outputId": "5889e5bf-c1d5-4e96-9d96-cf09fb2318df"
      },
      "source": [
        "classifier.predict(X_test[0].reshape(1, -1)) == y_pred[0]"
      ],
      "execution_count": 62,
      "outputs": [
        {
          "output_type": "execute_result",
          "data": {
            "text/plain": [
              "array([ True])"
            ]
          },
          "metadata": {},
          "execution_count": 62
        }
      ]
    },
    {
      "cell_type": "markdown",
      "metadata": {
        "id": "s8Wf-m2LMrOp"
      },
      "source": [
        "**Predicting for random records from test set**"
      ]
    },
    {
      "cell_type": "code",
      "metadata": {
        "colab": {
          "base_uri": "https://localhost:8080/"
        },
        "id": "dh3sstsSMrOp",
        "outputId": "c3000c53-9d92-45a5-f05e-a2c4412d52cd"
      },
      "source": [
        "classifier.predict(X_test[30:200]), y_pred[30:200], classifier.predict(X_test[30:200]) == y_pred[30:200]"
      ],
      "execution_count": 63,
      "outputs": [
        {
          "output_type": "execute_result",
          "data": {
            "text/plain": [
              "(array([1, 1, 1, 1, 1, 1, 1, 1, 1, 1, 1, 1, 1, 1, 1, 1, 0, 1, 1, 1, 1, 1,\n",
              "        1, 1, 1, 1, 1, 1, 1, 1, 1, 1, 1, 1, 1, 1, 1, 1, 1, 1, 1, 1, 1, 1,\n",
              "        1, 1, 1, 1, 1, 0, 1, 1, 0, 1, 1, 1, 1, 0, 1, 1, 1, 1, 1, 1, 0, 1,\n",
              "        1, 1, 1, 0, 1, 1, 1, 1, 1, 1, 1, 0, 1, 1, 0, 1, 0, 1, 1, 1, 1, 0,\n",
              "        1, 1, 1, 1, 1, 0, 1, 0, 1, 1, 1, 1, 1, 1, 1, 1, 1, 1, 1, 1, 1, 1,\n",
              "        1, 1, 1, 1, 0, 1, 1, 1, 1, 1, 1, 1, 1, 1, 1, 1, 1, 1, 1, 1, 1, 1,\n",
              "        1, 1, 1, 1, 1, 1, 1, 0, 1, 1, 1, 1, 1, 1, 1, 1, 1, 1, 1, 1, 1, 1,\n",
              "        0, 1, 1, 1, 1, 1, 1, 1, 1, 1, 1, 1, 1, 1, 1, 1], dtype=int64),\n",
              " array([1, 1, 1, 1, 1, 1, 1, 1, 1, 1, 1, 1, 1, 1, 1, 1, 0, 1, 1, 1, 1, 1,\n",
              "        1, 1, 1, 1, 1, 1, 1, 1, 1, 1, 1, 1, 1, 1, 1, 1, 1, 1, 1, 1, 1, 1,\n",
              "        1, 1, 1, 1, 1, 0, 1, 1, 0, 1, 1, 1, 1, 0, 1, 1, 1, 1, 1, 1, 0, 1,\n",
              "        1, 1, 1, 0, 1, 1, 1, 1, 1, 1, 1, 0, 1, 1, 0, 1, 0, 1, 1, 1, 1, 0,\n",
              "        1, 1, 1, 1, 1, 0, 1, 0, 1, 1, 1, 1, 1, 1, 1, 1, 1, 1, 1, 1, 1, 1,\n",
              "        1, 1, 1, 1, 0, 1, 1, 1, 1, 1, 1, 1, 1, 1, 1, 1, 1, 1, 1, 1, 1, 1,\n",
              "        1, 1, 1, 1, 1, 1, 1, 0, 1, 1, 1, 1, 1, 1, 1, 1, 1, 1, 1, 1, 1, 1,\n",
              "        0, 1, 1, 1, 1, 1, 1, 1, 1, 1, 1, 1, 1, 1, 1, 1], dtype=int64),\n",
              " array([ True,  True,  True,  True,  True,  True,  True,  True,  True,\n",
              "         True,  True,  True,  True,  True,  True,  True,  True,  True,\n",
              "         True,  True,  True,  True,  True,  True,  True,  True,  True,\n",
              "         True,  True,  True,  True,  True,  True,  True,  True,  True,\n",
              "         True,  True,  True,  True,  True,  True,  True,  True,  True,\n",
              "         True,  True,  True,  True,  True,  True,  True,  True,  True,\n",
              "         True,  True,  True,  True,  True,  True,  True,  True,  True,\n",
              "         True,  True,  True,  True,  True,  True,  True,  True,  True,\n",
              "         True,  True,  True,  True,  True,  True,  True,  True,  True,\n",
              "         True,  True,  True,  True,  True,  True,  True,  True,  True,\n",
              "         True,  True,  True,  True,  True,  True,  True,  True,  True,\n",
              "         True,  True,  True,  True,  True,  True,  True,  True,  True,\n",
              "         True,  True,  True,  True,  True,  True,  True,  True,  True,\n",
              "         True,  True,  True,  True,  True,  True,  True,  True,  True,\n",
              "         True,  True,  True,  True,  True,  True,  True,  True,  True,\n",
              "         True,  True,  True,  True,  True,  True,  True,  True,  True,\n",
              "         True,  True,  True,  True,  True,  True,  True,  True,  True,\n",
              "         True,  True,  True,  True,  True,  True,  True,  True,  True,\n",
              "         True,  True,  True,  True,  True,  True,  True,  True]))"
            ]
          },
          "metadata": {},
          "execution_count": 63
        }
      ]
    },
    {
      "cell_type": "markdown",
      "metadata": {
        "id": "yNDm-iqAI6SV"
      },
      "source": [
        "# Modelling - DecisionTreeClassifier"
      ]
    },
    {
      "cell_type": "code",
      "metadata": {
        "colab": {
          "base_uri": "https://localhost:8080/"
        },
        "id": "EtBgA3cFI0z5",
        "outputId": "786932ac-9883-43cd-8730-2386917f1c2c"
      },
      "source": [
        "from sklearn.tree import DecisionTreeClassifier\n",
        "classifier = DecisionTreeClassifier()\n",
        "classifier.fit(X_train, y_train)\n",
        "y_pred = classifier.predict(X_test)\n",
        "cm = confusion_matrix(y_test, y_pred)\n",
        "print(f\"Confusion Matrix:\\n{cm}\")\n",
        "accuracy = accuracy_score(y_test, y_pred)\n",
        "print(f\"Accuracy: {accuracy}\")\n",
        "print(f\"Classification Report:\\n{classification_report(y_test, y_pred)}\")"
      ],
      "execution_count": 64,
      "outputs": [
        {
          "output_type": "stream",
          "name": "stdout",
          "text": [
            "Confusion Matrix:\n",
            "[[2128  285]\n",
            " [ 251 6237]]\n",
            "Accuracy: 0.9397820469610156\n",
            "Classification Report:\n",
            "              precision    recall  f1-score   support\n",
            "\n",
            "           0       0.89      0.88      0.89      2413\n",
            "           1       0.96      0.96      0.96      6488\n",
            "\n",
            "    accuracy                           0.94      8901\n",
            "   macro avg       0.93      0.92      0.92      8901\n",
            "weighted avg       0.94      0.94      0.94      8901\n",
            "\n"
          ]
        }
      ]
    },
    {
      "cell_type": "code",
      "metadata": {
        "colab": {
          "base_uri": "https://localhost:8080/"
        },
        "id": "q1QibWhqKKPJ",
        "outputId": "3480812e-0f5e-4795-e0c7-2ef24c468515"
      },
      "source": [
        "X_test.shape, X_test[0].shape, y_test[0]"
      ],
      "execution_count": 65,
      "outputs": [
        {
          "output_type": "execute_result",
          "data": {
            "text/plain": [
              "((8901, 21), (21,), 1)"
            ]
          },
          "metadata": {},
          "execution_count": 65
        }
      ]
    },
    {
      "cell_type": "markdown",
      "metadata": {
        "id": "cLFdszW3Ksdo"
      },
      "source": [
        "Reshape the data in case of single record so that the dimensionality remains constant while we try to predict on this particular record.\n",
        "\n",
        "As we see X_test shape = 8901, 21 which means there are 8901 records each having 21 columns\n",
        "After reshape X_test[0] = 1, 21 which is 1 record with 21 columns and thus both are aligned."
      ]
    },
    {
      "cell_type": "code",
      "metadata": {
        "colab": {
          "base_uri": "https://localhost:8080/"
        },
        "id": "-k7y1P5kKhvF",
        "outputId": "a33fe39b-71c5-4d16-d174-27567ef0ce96"
      },
      "source": [
        "X_test[0].reshape(1, -1).shape"
      ],
      "execution_count": 66,
      "outputs": [
        {
          "output_type": "execute_result",
          "data": {
            "text/plain": [
              "(1, 21)"
            ]
          },
          "metadata": {},
          "execution_count": 66
        }
      ]
    },
    {
      "cell_type": "markdown",
      "metadata": {
        "id": "ul6_9gYmMLLK"
      },
      "source": [
        "**Predicting for first record**"
      ]
    },
    {
      "cell_type": "code",
      "metadata": {
        "colab": {
          "base_uri": "https://localhost:8080/"
        },
        "id": "8zymLmwrKQzi",
        "outputId": "d7026c39-bfcc-44a4-e54a-ba9098fa5d69"
      },
      "source": [
        "classifier.predict(X_test[0].reshape(1, -1)) == y_pred[0]"
      ],
      "execution_count": 67,
      "outputs": [
        {
          "output_type": "execute_result",
          "data": {
            "text/plain": [
              "array([ True])"
            ]
          },
          "metadata": {},
          "execution_count": 67
        }
      ]
    },
    {
      "cell_type": "markdown",
      "metadata": {
        "id": "lGbF4G7QMQiK"
      },
      "source": [
        "**Predicting for random 50 records**"
      ]
    },
    {
      "cell_type": "code",
      "metadata": {
        "colab": {
          "base_uri": "https://localhost:8080/"
        },
        "id": "91nuzaavMP3b",
        "outputId": "87f26b29-193a-428b-d4b5-03d407f089df"
      },
      "source": [
        "classifier.predict(X_test[30:80]) == y_pred[30:80]"
      ],
      "execution_count": 68,
      "outputs": [
        {
          "output_type": "execute_result",
          "data": {
            "text/plain": [
              "array([ True,  True,  True,  True,  True,  True,  True,  True,  True,\n",
              "        True,  True,  True,  True,  True,  True,  True,  True,  True,\n",
              "        True,  True,  True,  True,  True,  True,  True,  True,  True,\n",
              "        True,  True,  True,  True,  True,  True,  True,  True,  True,\n",
              "        True,  True,  True,  True,  True,  True,  True,  True,  True,\n",
              "        True,  True,  True,  True,  True])"
            ]
          },
          "metadata": {},
          "execution_count": 68
        }
      ]
    },
    {
      "cell_type": "markdown",
      "metadata": {
        "id": "ALl_rkUKNRsf"
      },
      "source": [
        "# Modelling - XGBOOST"
      ]
    },
    {
      "cell_type": "code",
      "metadata": {
        "colab": {
          "base_uri": "https://localhost:8080/"
        },
        "id": "KQMhbTRoNayT",
        "outputId": "fb9ebdc3-c250-4a9f-a5f9-ca61b9ce6b0c"
      },
      "source": [
        "from xgboost import XGBClassifier\n",
        "classifier = XGBClassifier()\n",
        "classifier.fit(X_train, y_train)\n",
        "y_pred = classifier.predict(X_test)\n",
        "cm = confusion_matrix(y_test, y_pred)\n",
        "print(f\"Confusion Matrix:\\n{cm}\")\n",
        "accuracy = accuracy_score(y_test, y_pred)\n",
        "print(f\"Accuracy: {accuracy}\")\n",
        "print(f\"Classification Report:\\n{classification_report(y_test, y_pred)}\")"
      ],
      "execution_count": 76,
      "outputs": [
        {
          "output_type": "stream",
          "name": "stdout",
          "text": [
            "Confusion Matrix:\n",
            "[[2272  141]\n",
            " [ 181 6307]]\n",
            "Accuracy: 0.9638242894056848\n",
            "Classification Report:\n",
            "              precision    recall  f1-score   support\n",
            "\n",
            "           0       0.93      0.94      0.93      2413\n",
            "           1       0.98      0.97      0.98      6488\n",
            "\n",
            "    accuracy                           0.96      8901\n",
            "   macro avg       0.95      0.96      0.95      8901\n",
            "weighted avg       0.96      0.96      0.96      8901\n",
            "\n"
          ]
        }
      ]
    },
    {
      "cell_type": "markdown",
      "metadata": {
        "id": "xn5Z36GaOAFh"
      },
      "source": [
        "# Modelling - KNeighborsClassifier"
      ]
    },
    {
      "cell_type": "code",
      "metadata": {
        "colab": {
          "base_uri": "https://localhost:8080/"
        },
        "id": "AnB2JPAuOG70",
        "outputId": "4546ab4d-63f5-4fb7-f6cf-0150a8e286dd"
      },
      "source": [
        "from sklearn.neighbors import KNeighborsClassifier\n",
        "classifier = KNeighborsClassifier(n_neighbors=3)\n",
        "classifier.fit(X_train, y_train)\n",
        "y_pred = classifier.predict(X_test)\n",
        "cm = confusion_matrix(y_test, y_pred)\n",
        "print(f\"Confusion Matrix:\\n{cm}\")\n",
        "accuracy = accuracy_score(y_test, y_pred)\n",
        "print(f\"Accuracy: {accuracy}\")\n",
        "print(f\"Classification Report:\\n{classification_report(y_test, y_pred)}\")"
      ],
      "execution_count": 70,
      "outputs": [
        {
          "output_type": "stream",
          "name": "stdout",
          "text": [
            "Confusion Matrix:\n",
            "[[1646  767]\n",
            " [ 731 5757]]\n",
            "Accuracy: 0.831704302887316\n",
            "Classification Report:\n",
            "              precision    recall  f1-score   support\n",
            "\n",
            "           0       0.69      0.68      0.69      2413\n",
            "           1       0.88      0.89      0.88      6488\n",
            "\n",
            "    accuracy                           0.83      8901\n",
            "   macro avg       0.79      0.78      0.79      8901\n",
            "weighted avg       0.83      0.83      0.83      8901\n",
            "\n"
          ]
        }
      ]
    },
    {
      "cell_type": "markdown",
      "metadata": {
        "id": "T8YSWCMyO0iD"
      },
      "source": [
        "# Modelling - SVM"
      ]
    },
    {
      "cell_type": "code",
      "metadata": {
        "colab": {
          "base_uri": "https://localhost:8080/"
        },
        "id": "-zG8LaxIO4TR",
        "outputId": "72bf68b4-e863-4bc9-f584-99bd0afdb339"
      },
      "source": [
        "from sklearn.svm import SVC\n",
        "classifier = SVC(kernel='linear', random_state=42)\n",
        "classifier.fit(X_train, y_train)\n",
        "y_pred = classifier.predict(X_test)\n",
        "cm = confusion_matrix(y_test, y_pred)\n",
        "print(f\"Confusion Matrix:\\n{cm}\")\n",
        "accuracy = accuracy_score(y_test, y_pred)\n",
        "print(f\"Accuracy: {accuracy}\")\n",
        "print(f\"Classification Report:\\n{classification_report(y_test, y_pred)}\")"
      ],
      "execution_count": 71,
      "outputs": [
        {
          "output_type": "stream",
          "name": "stdout",
          "text": [
            "Confusion Matrix:\n",
            "[[1091 1322]\n",
            " [ 201 6287]]\n",
            "Accuracy: 0.8288956297045276\n",
            "Classification Report:\n",
            "              precision    recall  f1-score   support\n",
            "\n",
            "           0       0.84      0.45      0.59      2413\n",
            "           1       0.83      0.97      0.89      6488\n",
            "\n",
            "    accuracy                           0.83      8901\n",
            "   macro avg       0.84      0.71      0.74      8901\n",
            "weighted avg       0.83      0.83      0.81      8901\n",
            "\n"
          ]
        }
      ]
    },
    {
      "cell_type": "markdown",
      "metadata": {
        "id": "0pnvkoDgPZzZ"
      },
      "source": [
        "# Modelling - Kernel SVM"
      ]
    },
    {
      "cell_type": "code",
      "metadata": {
        "colab": {
          "base_uri": "https://localhost:8080/"
        },
        "id": "6lBW5sXaPYEs",
        "outputId": "db2764eb-eda1-4a06-e5a2-8cf612a8f2e8"
      },
      "source": [
        "from sklearn.svm import SVC\n",
        "classifier = SVC(kernel='rbf', random_state=42)\n",
        "classifier.fit(X_train, y_train)\n",
        "y_pred = classifier.predict(X_test)\n",
        "cm = confusion_matrix(y_test, y_pred)\n",
        "print(f\"Confusion Matrix:\\n{cm}\")\n",
        "accuracy = accuracy_score(y_test, y_pred)\n",
        "print(f\"Accuracy: {accuracy}\")\n",
        "print(f\"Classification Report:\\n{classification_report(y_test, y_pred)}\")"
      ],
      "execution_count": 72,
      "outputs": [
        {
          "output_type": "stream",
          "name": "stdout",
          "text": [
            "Confusion Matrix:\n",
            "[[1121 1292]\n",
            " [ 246 6242]]\n",
            "Accuracy: 0.8272104257948545\n",
            "Classification Report:\n",
            "              precision    recall  f1-score   support\n",
            "\n",
            "           0       0.82      0.46      0.59      2413\n",
            "           1       0.83      0.96      0.89      6488\n",
            "\n",
            "    accuracy                           0.83      8901\n",
            "   macro avg       0.82      0.71      0.74      8901\n",
            "weighted avg       0.83      0.83      0.81      8901\n",
            "\n"
          ]
        }
      ]
    },
    {
      "cell_type": "markdown",
      "metadata": {
        "id": "cv4cNsgKP41Q"
      },
      "source": [
        "# Modelling - RandomForrestClassifier"
      ]
    },
    {
      "cell_type": "code",
      "metadata": {
        "colab": {
          "base_uri": "https://localhost:8080/"
        },
        "id": "nw0leEztP-NG",
        "outputId": "ca3a0abc-3352-4ad7-af71-e52042fb2709"
      },
      "source": [
        "from sklearn.ensemble import RandomForestClassifier\n",
        "classifier = RandomForestClassifier(n_estimators=10, criterion='entropy', random_state=42)\n",
        "classifier.fit(X_train, y_train)\n",
        "y_pred = classifier.predict(X_test)\n",
        "cm = confusion_matrix(y_test, y_pred)\n",
        "print(f\"Confusion Matrix:\\n{cm}\")\n",
        "accuracy = accuracy_score(y_test, y_pred)\n",
        "print(f\"Accuracy: {accuracy}\")\n",
        "print(f\"Classification Report:\\n{classification_report(y_test, y_pred)}\")"
      ],
      "execution_count": 73,
      "outputs": [
        {
          "output_type": "stream",
          "name": "stdout",
          "text": [
            "Confusion Matrix:\n",
            "[[1894  519]\n",
            " [ 518 5970]]\n",
            "Accuracy: 0.8834962363779351\n",
            "Classification Report:\n",
            "              precision    recall  f1-score   support\n",
            "\n",
            "           0       0.79      0.78      0.79      2413\n",
            "           1       0.92      0.92      0.92      6488\n",
            "\n",
            "    accuracy                           0.88      8901\n",
            "   macro avg       0.85      0.85      0.85      8901\n",
            "weighted avg       0.88      0.88      0.88      8901\n",
            "\n"
          ]
        }
      ]
    },
    {
      "cell_type": "markdown",
      "metadata": {
        "id": "eMtA5EnmRZ8i"
      },
      "source": [
        "# Visualization"
      ]
    },
    {
      "cell_type": "markdown",
      "metadata": {
        "id": "GvmpGiRoRgcn"
      },
      "source": [
        "## Visualize Predictions\n",
        "XGBoost is giving the best results out of the models trained above."
      ]
    },
    {
      "cell_type": "code",
      "metadata": {
        "colab": {
          "base_uri": "https://localhost:8080/",
          "height": 298
        },
        "id": "_Guu-h64RmJk",
        "outputId": "53dc9a79-ca57-45e7-b7ab-41cf68f5ca85"
      },
      "source": [
        "from matplotlib.colors import ListedColormap\n",
        "import random as rnd\n",
        "\n",
        "print(len(X_test))\n",
        "true_start = 1.1\n",
        "false_start = 2.1\n",
        "true_tup = []\n",
        "false_tup = []\n",
        "for idx in range(len(X_test)):\n",
        "  if classifier.predict(X_test[idx].reshape(1, -1)) == y_test[idx]:\n",
        "    true_start = true_start + 0.2\n",
        "    true_tup.append((rnd.uniform(1, 3), rnd.uniform(1, 3)))\n",
        "  else:\n",
        "    false_start = false_start + 0.2\n",
        "    false_tup.append((rnd.uniform(4, 6), rnd.uniform(4, 6)))\n",
        "# print(true_tup)\n",
        "# print(false_tup)\n",
        "plt.scatter(*zip(*true_tup), color='green')\n",
        "plt.scatter(*zip(*false_tup), color='orange')\n",
        "plt.scatter(2, 5, len(false_tup), color='orange')\n",
        "plt.text(2, 5, len(false_tup))\n",
        "plt.scatter(5, 2.5, len(true_tup), color='green')\n",
        "plt.text(5, 2.5, len(true_tup))\n",
        "plt.legend([\"True\", \"False\"], loc =\"lower right\")\n",
        "plt.title(\"XGBoost Correct vs Incorrect Predictions\")\n",
        "plt.show()"
      ],
      "execution_count": 78,
      "outputs": [
        {
          "output_type": "stream",
          "name": "stdout",
          "text": [
            "8901\n"
          ]
        },
        {
          "output_type": "display_data",
          "data": {
            "image/png": "[encoded data removed]",
            "text/plain": [
              "<Figure size 432x288 with 1 Axes>"
            ]
          },
          "metadata": {
            "needs_background": "light"
          }
        }
      ]
    },
    {
      "cell_type": "markdown",
      "metadata": {
        "id": "-gPWsZAq4L2x"
      },
      "source": [
        "# Applying PCA\n",
        "Let's reduce the dimensionality to figure out the optimal number of features which can improve the performance."
      ]
    },
    {
      "cell_type": "code",
      "metadata": {
        "colab": {
          "base_uri": "https://localhost:8080/"
        },
        "id": "IwXTI8vv46nv",
        "outputId": "c77ec223-06bb-4d6f-d92f-a0b3dc2e9470"
      },
      "source": [
        "X_train"
      ],
      "execution_count": 75,
      "outputs": [
        {
          "output_type": "execute_result",
          "data": {
            "text/plain": [
              "array([[0.68888889, 0.60504202, 1.        , ..., 0.        , 1.        ,\n",
              "        0.        ],\n",
              "       [0.28888889, 0.91596639, 0.35      , ..., 1.        , 0.        ,\n",
              "        0.        ],\n",
              "       [0.88888889, 0.63865546, 0.35      , ..., 1.        , 0.        ,\n",
              "        0.        ],\n",
              "       ...,\n",
              "       [0.58888889, 0.64705882, 0.5       , ..., 0.        , 1.        ,\n",
              "        0.        ],\n",
              "       [0.75555556, 0.5210084 , 0.25      , ..., 1.        , 0.        ,\n",
              "        0.        ],\n",
              "       [0.45555556, 0.77310924, 0.25      , ..., 0.        , 1.        ,\n",
              "        0.        ]])"
            ]
          },
          "metadata": {},
          "execution_count": 75
        }
      ]
    },
    {
      "cell_type": "code",
      "metadata": {
        "id": "ylRvf0WP19Xv"
      },
      "source": [
        "from sklearn.decomposition import PCA\n",
        "pca = PCA(n_components=18)\n",
        "X_train_pca = pca.fit_transform(X_train)\n",
        "X_test_pca = pca.transform(X_test)"
      ],
      "execution_count": 97,
      "outputs": []
    },
    {
      "cell_type": "code",
      "metadata": {
        "colab": {
          "base_uri": "https://localhost:8080/"
        },
        "id": "KNmtUKpT4xRI",
        "outputId": "8fb9a152-9358-4b96-d768-b33cae5c0640"
      },
      "source": [
        "X_train_pca, X_test_pca"
      ],
      "execution_count": 80,
      "outputs": [
        {
          "output_type": "execute_result",
          "data": {
            "text/plain": [
              "(array([[ 1.13690342, -0.41956778,  0.10783748, -0.45067564],\n",
              "        [ 0.49468185,  0.68514108,  0.21978142,  1.17339377],\n",
              "        [ 0.46501728,  0.86024153, -0.70669867,  0.30493089],\n",
              "        ...,\n",
              "        [-1.01097593, -0.61995464, -0.65737537, -0.1569667 ],\n",
              "        [-0.53688613,  0.89635284,  0.64357756, -0.71958009],\n",
              "        [-0.44052199, -0.61091517, -0.67483141, -0.67939433]]),\n",
              " array([[-0.78227015, -0.55596644,  0.7395077 , -0.34295644],\n",
              "        [ 0.53203452, -0.47755152,  0.75050332, -0.04056026],\n",
              "        [-0.45141281, -0.64500344, -0.67272542, -0.63590813],\n",
              "        ...,\n",
              "        [ 0.65623723,  0.13207967, -0.67566044,  0.25265907],\n",
              "        [-0.44623785, -0.54274506,  0.71521271, -0.85095177],\n",
              "        [ 1.13760852, -0.51481615, -0.68306318, -0.63310126]]))"
            ]
          },
          "metadata": {},
          "execution_count": 80
        }
      ]
    },
    {
      "cell_type": "markdown",
      "metadata": {
        "id": "zTu0lzsm5H9_"
      },
      "source": [
        "Trying XGboost with reduced features"
      ]
    },
    {
      "cell_type": "code",
      "metadata": {
        "colab": {
          "base_uri": "https://localhost:8080/"
        },
        "id": "SiEy7Xhp5G7u",
        "outputId": "cd6641eb-4852-4e1c-a7fa-19ce9372c633"
      },
      "source": [
        "from xgboost import XGBClassifier\n",
        "classifier = XGBClassifier()\n",
        "classifier.fit(X_train_pca, y_train)\n",
        "y_pred = classifier.predict(X_test_pca)\n",
        "cm = confusion_matrix(y_test, y_pred)\n",
        "print(f\"Confusion Matrix:\\n{cm}\")\n",
        "accuracy = accuracy_score(y_test, y_pred)\n",
        "print(f\"Accuracy: {accuracy}\")\n",
        "print(f\"Classification Report:\\n{classification_report(y_test, y_pred)}\")"
      ],
      "execution_count": 98,
      "outputs": [
        {
          "output_type": "stream",
          "name": "stdout",
          "text": [
            "Confusion Matrix:\n",
            "[[1417  996]\n",
            " [ 326 6162]]\n",
            "Accuracy: 0.8514773620941467\n",
            "Classification Report:\n",
            "              precision    recall  f1-score   support\n",
            "\n",
            "           0       0.81      0.59      0.68      2413\n",
            "           1       0.86      0.95      0.90      6488\n",
            "\n",
            "    accuracy                           0.85      8901\n",
            "   macro avg       0.84      0.77      0.79      8901\n",
            "weighted avg       0.85      0.85      0.84      8901\n",
            "\n"
          ]
        }
      ]
    },
    {
      "cell_type": "markdown",
      "metadata": {
        "id": "C1uzgHzi_-qT"
      },
      "source": [
        "### **Observations**\n",
        "Applying PCA on this datasets did not improve the accuracy.\n",
        "\n",
        "Hence, going ahead with XGBoost as the chosen model (best fit) without PCA.\n",
        "\n",
        "**XGBoost** Accuracy score = ~**96%**"
      ]
    },
    {
      "cell_type": "code",
      "metadata": {
        "colab": {
          "base_uri": "https://localhost:8080/"
        },
        "id": "HHQ0_LJwAigD",
        "outputId": "4e8005be-8738-4aca-b04e-d573463249fc"
      },
      "source": [
        "from xgboost import XGBClassifier\n",
        "classifier = XGBClassifier()\n",
        "classifier.fit(X_train, y_train)\n",
        "y_pred = classifier.predict(X_test)\n",
        "cm = confusion_matrix(y_test, y_pred)\n",
        "print(f\"Confusion Matrix:\\n{cm}\")\n",
        "accuracy = accuracy_score(y_test, y_pred)\n",
        "print(f\"Accuracy: {accuracy}\")\n",
        "print(f\"Classification Report:\\n{classification_report(y_test, y_pred)}\")"
      ],
      "execution_count": 99,
      "outputs": [
        {
          "output_type": "stream",
          "name": "stdout",
          "text": [
            "Confusion Matrix:\n",
            "[[2272  141]\n",
            " [ 181 6307]]\n",
            "Accuracy: 0.9638242894056848\n",
            "Classification Report:\n",
            "              precision    recall  f1-score   support\n",
            "\n",
            "           0       0.93      0.94      0.93      2413\n",
            "           1       0.98      0.97      0.98      6488\n",
            "\n",
            "    accuracy                           0.96      8901\n",
            "   macro avg       0.95      0.96      0.95      8901\n",
            "weighted avg       0.96      0.96      0.96      8901\n",
            "\n"
          ]
        }
      ]
    },
    {
      "cell_type": "markdown",
      "metadata": {
        "id": "onPXHJs5BI7y"
      },
      "source": [
        "### **Save Model**\n",
        "There are other file formats like json, txt, but pkl works best is what I've observed."
      ]
    },
    {
      "cell_type": "code",
      "metadata": {
        "id": "P-6HnxQNBIQ-"
      },
      "source": [
        "import pickle\n",
        "model_name = \"xgboost_classifier_model.pkl\"\n",
        "pickle.dump(classifier, open(model_name, \"wb\"))"
      ],
      "execution_count": 109,
      "outputs": []
    },
    {
      "cell_type": "markdown",
      "metadata": {
        "id": "X__iys8IBiG4"
      },
      "source": [
        "### **Load from saved Model**"
      ]
    },
    {
      "cell_type": "code",
      "metadata": {
        "id": "Qk2ad9SmBuDf"
      },
      "source": [
        "model = pickle.load(open(model_name, \"rb\"))"
      ],
      "execution_count": 110,
      "outputs": []
    },
    {
      "cell_type": "markdown",
      "metadata": {
        "id": "xU155cboEB7W"
      },
      "source": [
        "Predict and validate the results of the loaded model is same as the unsaved one."
      ]
    },
    {
      "cell_type": "code",
      "metadata": {
        "colab": {
          "base_uri": "https://localhost:8080/"
        },
        "id": "bpleqWEsCA9Z",
        "outputId": "58f2ae13-443c-4fdb-b8a7-b58ad55a29fb"
      },
      "source": [
        "y_pred = model.predict(X_test)\n",
        "cm = confusion_matrix(y_test, y_pred)\n",
        "print(f\"Confusion Matrix:\\n{cm}\")\n",
        "accuracy = accuracy_score(y_test, y_pred)\n",
        "print(f\"Accuracy: {accuracy}\")\n",
        "print(f\"Classification Report:\\n{classification_report(y_test, y_pred)}\")"
      ],
      "execution_count": 111,
      "outputs": [
        {
          "output_type": "stream",
          "name": "stdout",
          "text": [
            "Confusion Matrix:\n",
            "[[2272  141]\n",
            " [ 181 6307]]\n",
            "Accuracy: 0.9638242894056848\n",
            "Classification Report:\n",
            "              precision    recall  f1-score   support\n",
            "\n",
            "           0       0.93      0.94      0.93      2413\n",
            "           1       0.98      0.97      0.98      6488\n",
            "\n",
            "    accuracy                           0.96      8901\n",
            "   macro avg       0.95      0.96      0.95      8901\n",
            "weighted avg       0.96      0.96      0.96      8901\n",
            "\n"
          ]
        }
      ]
    },
    {
      "cell_type": "markdown",
      "metadata": {
        "id": "nRrh8M321EMY"
      },
      "source": [
        "## **For Data Validation**"
      ]
    },
    {
      "cell_type": "markdown",
      "metadata": {
        "id": "m7JqR41UHPRR"
      },
      "source": [
        "**Transformation Function** to transform the new data"
      ]
    },
    {
      "cell_type": "code",
      "metadata": {
        "id": "gElgiCPOFPT6"
      },
      "source": [
        "def transform_data(profile, transcript, portfolio):\n",
        "    cust_trans = pd.merge(profile, transcript, how='inner', left_on=['id'], right_on=['person']).rename(columns={'id': 'person_id'})\n",
        "    offer_val = pd.json_normalize(cust_trans['value'])\n",
        "    offer_val['off_id'] = offer_val['offer id'].combine_first(offer_val['offer_id'])\n",
        "\n",
        "    combo_df = pd.concat([cust_trans, offer_val], axis=1)\n",
        "    event_combo = pd.merge(combo_df, portfolio, how='inner', left_on=['off_id'], right_on=['id']).rename(columns={'reward_y': 'reward'})\n",
        "    event_combo = event_combo[['age', 'became_member_on', 'gender',\n",
        "                               'person_id', 'income', 'event', 'time', 'off_id', 'channels', \n",
        "                               'difficulty', 'duration', 'offer_type', 'reward']]\n",
        "    event_combo.loc[(event_combo['age'] < 20), 'age_group'] = 'UNDER_20'\n",
        "    event_combo.loc[(event_combo['age'] >= 20) & (event_combo['age'] <= 40), 'age_group'] = '20_40'\n",
        "    event_combo.loc[(event_combo['age'] > 40) & (event_combo['age'] <= 60), 'age_group'] = '41_60'\n",
        "    event_combo.loc[(event_combo['age'] > 60) & (event_combo['age'] <= 80), 'age_group'] = '61_80'\n",
        "    event_combo.loc[(event_combo['age'] > 80), 'age_group'] = 'ABOVE_80'\n",
        "\n",
        "    current_year_month = int(datetime.today().strftime(\"%Y%m\"))\n",
        "    event_combo['membership_age'] = current_year_month - event_combo['became_member_on'].apply(lambda x: int(str(x)[:6]))\n",
        "\n",
        "    df_completed = event_combo[event_combo['event']=='offer completed']\n",
        "    df_interim = event_combo[~event_combo['person_id'].isin(df_completed['person_id'].values)]\n",
        "    df_received = df_interim[df_interim['event'] == 'offer received']\n",
        "    df = df_completed.append(df_received)\n",
        "\n",
        "    df = df.join(df.channels.str.join('|').str.get_dummies())\n",
        "    if 'web' not in df:\n",
        "      df['web'] = 0\n",
        "    if 'email' not in df:\n",
        "      df['email'] = 0\n",
        "    if 'mobile' not in df:\n",
        "      df['mobile'] = 0\n",
        "    if 'social' not in df:\n",
        "      df['social'] = 0\n",
        "      \n",
        "    df = df.join(df.offer_type.str.get_dummies())\n",
        "    if 'bogo' not in df:\n",
        "      df['bogo'] = 0\n",
        "    if 'discount' not in df:\n",
        "      df['discount'] = 0\n",
        "    if 'informational' not in df:\n",
        "      df['informational'] = 0\n",
        "\n",
        "    df = df.join(df.age_group.str.get_dummies())\n",
        "    if 'UNDER_20' not in df:\n",
        "      df['UNDER_20'] = 0\n",
        "    if '20_40' not in df:\n",
        "      df['20_40'] = 0\n",
        "    if '41_60' not in df:\n",
        "      df['41_60'] = 0\n",
        "    if '61_80' not in df:\n",
        "      df['61_80'] = 0\n",
        "    if 'ABOVE_80' not in df:\n",
        "      df['ABOVE_80'] = 0\n",
        "      \n",
        "    df = df.join(df.gender.str.get_dummies())\n",
        "    if 'M' not in df:\n",
        "      df['M'] = 0\n",
        "    if 'F' not in df:\n",
        "      df['F'] = 0\n",
        "    if 'O' not in df:\n",
        "      df['O'] = 0\n",
        "      \n",
        "    df['event_enc'] = df['event'].map({'offer received':0, 'offer completed':1})\n",
        "\n",
        "    from sklearn.preprocessing import MinMaxScaler, StandardScaler\n",
        "    def scale_data(X, y):\n",
        "      scaler = MinMaxScaler()\n",
        "      X_enc = scaler.fit_transform(X)\n",
        "      y_enc = y.values\n",
        "      return X_enc, y_enc\n",
        "    X = df.drop(columns=['age', 'became_member_on',\t'gender',\t'person_id',\t'event',\t'off_id',\t\n",
        "                         'offer_type', 'channels', 'age_group', 'event_enc'], axis=1)\n",
        "    print(X.columns)\n",
        "    y = df['event_enc']\n",
        "    X, y = scale_data(X, y)\n",
        "    print(f\"X:\\n{X}\\ny:\\n{y}\")\n",
        "    return X, y\n"
      ],
      "execution_count": 117,
      "outputs": []
    },
    {
      "cell_type": "markdown",
      "metadata": {
        "id": "GFkfOQI9HXrD"
      },
      "source": [
        "**Some mocked up data for validation**"
      ]
    },
    {
      "cell_type": "code",
      "metadata": {
        "id": "fnenGNjkwxyj"
      },
      "source": [
        "prof = [{\"gender\": \"M\", \"age\": 32, \"id\": \"0b486422d4921ae7d2\", \n",
        "                            \"became_member_on\": \"20210627\", \"income\": 20982322},\n",
        "                            {\"gender\": \"F\", \"age\": 31, \"id\": \"0b4864225645ae7d2\", \n",
        "                            \"became_member_on\": \"20210627\", \"income\": 342324}]\n",
        "new_profile = pd.DataFrame(prof)\n",
        "trans = [{\"person\": \"0b486422d4921ae7d2\", \"event\": \"offer received\", \"time\": 0,\n",
        "                                \"value\": {'offer id': '9b98b8c7a33c4b65b9aebfe6a799e6d9'}}, \n",
        "         {\"person\": \"0b486422d4921ae7d2\", \"event\": \"offer viewed\", \"time\": 10,\n",
        "                                \"value\": {'offer id': '9b98b8c7a33c4b65b9aebfe6a799e6d9'}},\n",
        "         {\"person\": \"0b486422d4921ae7d2\", \"event\": \"offer received\", \"time\": 200,\n",
        "                                \"value\": {'offer_id': '0b1e1539f2cc45b7b9fa7c272da2e1d7'}},\n",
        "         {\"person\": \"0b4864225645ae7d2\", \"event\": \"offer received\", \"time\": 0,\n",
        "                                \"value\": {'offer_id': '9b98b8c7a33c4b65b9aebfe6a799e6d9'}},\n",
        "         {\"person\": \"0b4864225645ae7d2\", \"event\": \"offer completed\", \"time\": 23,\n",
        "                                \"value\": {'offer_id': '9b98b8c7a33c4b65b9aebfe6a799e6d9'}}]\n",
        "new_transaction = pd.DataFrame.from_dict(trans)"
      ],
      "execution_count": 114,
      "outputs": []
    },
    {
      "cell_type": "markdown",
      "metadata": {
        "id": "HBJtLH6AHc-x"
      },
      "source": [
        "**Transformation**"
      ]
    },
    {
      "cell_type": "code",
      "metadata": {
        "colab": {
          "base_uri": "https://localhost:8080/"
        },
        "id": "GZCwbpIUGRZY",
        "outputId": "281c9da1-cff7-4141-b866-299ad08ac2e8"
      },
      "source": [
        "X_new, y_new = transform_data(profile=new_profile, transcript=new_transaction, portfolio=portfolio)"
      ],
      "execution_count": 118,
      "outputs": [
        {
          "output_type": "stream",
          "name": "stdout",
          "text": [
            "Index(['income', 'time', 'difficulty', 'duration', 'reward', 'membership_age',\n",
            "       'email', 'mobile', 'web', 'social', 'bogo', 'discount', 'informational',\n",
            "       '20_40', 'UNDER_20', '41_60', '61_80', 'ABOVE_80', 'F', 'M', 'O'],\n",
            "      dtype='object')\n",
            "X:\n",
            "[[0.    0.115 0.    0.    0.    0.    0.    1.    0.    0.    1.    0.\n",
            "  0.    0.    0.    0.    0.    0.    1.    0.    0.   ]\n",
            " [1.    0.    0.    0.    0.    0.    0.    1.    0.    0.    1.    0.\n",
            "  0.    0.    0.    0.    0.    0.    0.    1.    0.   ]\n",
            " [1.    1.    1.    1.    0.    0.    0.    0.    0.    0.    0.    1.\n",
            "  0.    0.    0.    0.    0.    0.    0.    1.    0.   ]]\n",
            "y:\n",
            "[1 0 0]\n"
          ]
        }
      ]
    },
    {
      "cell_type": "markdown",
      "metadata": {
        "id": "wOYoTG6KHgCQ"
      },
      "source": [
        "**Prediction on the new data**"
      ]
    },
    {
      "cell_type": "code",
      "metadata": {
        "colab": {
          "base_uri": "https://localhost:8080/"
        },
        "id": "W5ACR9mCFxhK",
        "outputId": "3e0276a1-4fc9-4476-bd1b-2fe97cf34b12"
      },
      "source": [
        "y_pred_new = model.predict(X_new)\n",
        "y_pred_new"
      ],
      "execution_count": 119,
      "outputs": [
        {
          "output_type": "execute_result",
          "data": {
            "text/plain": [
              "array([0, 0, 1])"
            ]
          },
          "metadata": {},
          "execution_count": 119
        }
      ]
    },
    {
      "cell_type": "markdown",
      "metadata": {
        "id": "zKhnadMXHi6M"
      },
      "source": [
        "**Check the accuracy on new data**"
      ]
    },
    {
      "cell_type": "code",
      "metadata": {
        "colab": {
          "base_uri": "https://localhost:8080/"
        },
        "id": "jMbL8n48G32B",
        "outputId": "a373ab6f-39ee-46fc-ee7e-f1b0d0869844"
      },
      "source": [
        "cm = confusion_matrix(y_new, y_pred_new)\n",
        "print(f\"Confusion Matrix:\\n{cm}\")\n",
        "accuracy = accuracy_score(y_new, y_pred_new)\n",
        "print(f\"Accuracy: {accuracy}\")\n",
        "print(f\"Classification Report:\\n{classification_report(y_new, y_pred_new)}\")"
      ],
      "execution_count": 120,
      "outputs": [
        {
          "output_type": "stream",
          "name": "stdout",
          "text": [
            "Confusion Matrix:\n",
            "[[1 1]\n",
            " [1 0]]\n",
            "Accuracy: 0.3333333333333333\n",
            "Classification Report:\n",
            "              precision    recall  f1-score   support\n",
            "\n",
            "           0       0.50      0.50      0.50         2\n",
            "           1       0.00      0.00      0.00         1\n",
            "\n",
            "    accuracy                           0.33         3\n",
            "   macro avg       0.25      0.25      0.25         3\n",
            "weighted avg       0.33      0.33      0.33         3\n",
            "\n"
          ]
        }
      ]
    },
    {
      "cell_type": "markdown",
      "metadata": {
        "id": "bGxtHTx1RHZm"
      },
      "source": [
        "## Conclusion\n",
        "\n",
        "Although the trained model gave `~96%` accuracy on the test data, it's accuracy was very poor (`~33%`) when new data was fed in for prediction on the same trained model.\n"
      ]
    },
    {
      "cell_type": "code",
      "metadata": {
        "id": "B8k4xCjzHFNy"
      },
      "source": [
        ""
      ],
      "execution_count": null,
      "outputs": []
    }
  ]
}