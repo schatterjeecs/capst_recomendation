{
  "nbformat": 4,
  "nbformat_minor": 0,
  "metadata": {
    "kernelspec": {
      "display_name": "Python 3",
      "language": "python",
      "name": "python3"
    },
    "language_info": {
      "codemirror_mode": {
        "name": "ipython",
        "version": 3
      },
      "file_extension": ".py",
      "mimetype": "text/x-python",
      "name": "python",
      "nbconvert_exporter": "python",
      "pygments_lexer": "ipython3",
      "version": "3.6.3"
    },
    "colab": {
      "name": "Starbucks_Capstone_notebook_roughwork.ipynb",
      "provenance": []
    }
  },
  "cells": [
    {
      "cell_type": "markdown",
      "metadata": {
        "id": "FNH2zfO5GGYV"
      },
      "source": [
        "# Starbucks Capstone Challenge\n",
        "\n",
        "### Introduction\n",
        "\n",
        "This data set contains simulated data that mimics customer behavior on the Starbucks rewards mobile app. Once every few days, Starbucks sends out an offer to users of the mobile app. An offer can be merely an advertisement for a drink or an actual offer such as a discount or BOGO (buy one get one free). Some users might not receive any offer during certain weeks. \n",
        "\n",
        "Not all users receive the same offer, and that is the challenge to solve with this data set.\n",
        "\n",
        "Your task is to combine transaction, demographic and offer data to determine which demographic groups respond best to which offer type. This data set is a simplified version of the real Starbucks app because the underlying simulator only has one product whereas Starbucks actually sells dozens of products.\n",
        "\n",
        "Every offer has a validity period before the offer expires. As an example, a BOGO offer might be valid for only 5 days. You'll see in the data set that informational offers have a validity period even though these ads are merely providing information about a product; for example, if an informational offer has 7 days of validity, you can assume the customer is feeling the influence of the offer for 7 days after receiving the advertisement.\n",
        "\n",
        "You'll be given transactional data showing user purchases made on the app including the timestamp of purchase and the amount of money spent on a purchase. This transactional data also has a record for each offer that a user receives as well as a record for when a user actually views the offer. There are also records for when a user completes an offer. \n",
        "\n",
        "Keep in mind as well that someone using the app might make a purchase through the app without having received an offer or seen an offer.\n",
        "\n",
        "### Example\n",
        "\n",
        "To give an example, a user could receive a discount offer buy 10 dollars get 2 off on Monday. The offer is valid for 10 days from receipt. If the customer accumulates at least 10 dollars in purchases during the validity period, the customer completes the offer.\n",
        "\n",
        "However, there are a few things to watch out for in this data set. Customers do not opt into the offers that they receive; in other words, a user can receive an offer, never actually view the offer, and still complete the offer. For example, a user might receive the \"buy 10 dollars get 2 dollars off offer\", but the user never opens the offer during the 10 day validity period. The customer spends 15 dollars during those ten days. There will be an offer completion record in the data set; however, the customer was not influenced by the offer because the customer never viewed the offer.\n",
        "\n",
        "### Cleaning\n",
        "\n",
        "This makes data cleaning especially important and tricky.\n",
        "\n",
        "You'll also want to take into account that some demographic groups will make purchases even if they don't receive an offer. From a business perspective, if a customer is going to make a 10 dollar purchase without an offer anyway, you wouldn't want to send a buy 10 dollars get 2 dollars off offer. You'll want to try to assess what a certain demographic group will buy when not receiving any offers.\n",
        "\n",
        "### Final Advice\n",
        "\n",
        "Because this is a capstone project, you are free to analyze the data any way you see fit. For example, you could build a machine learning model that predicts how much someone will spend based on demographics and offer type. Or you could build a model that predicts whether or not someone will respond to an offer. Or, you don't need to build a machine learning model at all. You could develop a set of heuristics that determine what offer you should send to each customer (i.e., 75 percent of women customers who were 35 years old responded to offer A vs 40 percent from the same demographic to offer B, so send offer A)."
      ]
    },
    {
      "cell_type": "markdown",
      "metadata": {
        "id": "t6tVvPBmGGYb"
      },
      "source": [
        "# Data Sets\n",
        "\n",
        "The data is contained in three files:\n",
        "\n",
        "* portfolio.json - containing offer ids and meta data about each offer (duration, type, etc.)\n",
        "* profile.json - demographic data for each customer\n",
        "* transcript.json - records for transactions, offers received, offers viewed, and offers completed\n",
        "\n",
        "Here is the schema and explanation of each variable in the files:\n",
        "\n",
        "**portfolio.json**\n",
        "* id (string) - offer id\n",
        "* offer_type (string) - type of offer ie BOGO, discount, informational\n",
        "* difficulty (int) - minimum required spend to complete an offer\n",
        "* reward (int) - reward given for completing an offer\n",
        "* duration (int) - time for offer to be open, in days\n",
        "* channels (list of strings)\n",
        "\n",
        "**profile.json**\n",
        "* age (int) - age of the customer \n",
        "* became_member_on (int) - date when customer created an app account\n",
        "* gender (str) - gender of the customer (note some entries contain 'O' for other rather than M or F)\n",
        "* id (str) - customer id\n",
        "* income (float) - customer's income\n",
        "\n",
        "**transcript.json**\n",
        "* event (str) - record description (ie transaction, offer received, offer viewed, etc.)\n",
        "* person (str) - customer id\n",
        "* time (int) - time in hours since start of test. The data begins at time t=0\n",
        "* value - (dict of strings) - either an offer id or transaction amount depending on the record\n",
        "\n",
        "**Note:** If you are using the workspace, you will need to go to the terminal and run the command `conda update pandas` before reading in the files. This is because the version of pandas in the workspace cannot read in the transcript.json file correctly, but the newest version of pandas can. You can access the termnal from the orange icon in the top left of this notebook.  \n",
        "\n",
        "You can see how to access the terminal and how the install works using the two images below.  First you need to access the terminal:\n",
        "\n",
        "<img src=\"https://github.com/schatterjeecs/capst_recomendation/blob/master/pic1.png?raw=1\"/>\n",
        "\n",
        "Then you will want to run the above command:\n",
        "\n",
        "<img src=\"https://github.com/schatterjeecs/capst_recomendation/blob/master/pic2.png?raw=1\"/>\n",
        "\n",
        "Finally, when you enter back into the notebook (use the jupyter icon again), you should be able to run the below cell without any errors."
      ]
    },
    {
      "cell_type": "code",
      "metadata": {
        "colab": {
          "base_uri": "https://localhost:8080/"
        },
        "id": "e_DfFkEeGM6N",
        "outputId": "06199d40-37ca-43c4-bd92-0e30caa45dd2"
      },
      "source": [
        "!git clone https://github.com/schatterjeecs/capst_recomendation.git"
      ],
      "execution_count": 3,
      "outputs": [
        {
          "output_type": "stream",
          "name": "stdout",
          "text": [
            "fatal: destination path 'capst_recomendation' already exists and is not an empty directory.\n"
          ]
        }
      ]
    },
    {
      "cell_type": "code",
      "metadata": {
        "id": "Y9_KUu__GGYc"
      },
      "source": [
        "import pandas as pd\n",
        "import numpy as np\n",
        "import math\n",
        "import json\n",
        "\n",
        "# read in the json files\n",
        "portfolio = pd.read_json('data/portfolio.json', orient='records', lines=True)\n",
        "profile = pd.read_json('data/profile.json', orient='records', lines=True)\n",
        "transcript = pd.read_json('data/transcript.json', orient='records', lines=True)"
      ],
      "execution_count": 4,
      "outputs": []
    },
    {
      "cell_type": "code",
      "metadata": {
        "colab": {
          "base_uri": "https://localhost:8080/",
          "height": 357
        },
        "id": "5qOYO043GGYd",
        "outputId": "384f3943-d115-480c-9975-7f36df1d4b52"
      },
      "source": [
        "portfolio"
      ],
      "execution_count": 5,
      "outputs": [
        {
          "output_type": "execute_result",
          "data": {
            "text/html": [
              "<div>\n",
              "<style scoped>\n",
              "    .dataframe tbody tr th:only-of-type {\n",
              "        vertical-align: middle;\n",
              "    }\n",
              "\n",
              "    .dataframe tbody tr th {\n",
              "        vertical-align: top;\n",
              "    }\n",
              "\n",
              "    .dataframe thead th {\n",
              "        text-align: right;\n",
              "    }\n",
              "</style>\n",
              "<table border=\"1\" class=\"dataframe\">\n",
              "  <thead>\n",
              "    <tr style=\"text-align: right;\">\n",
              "      <th></th>\n",
              "      <th>reward</th>\n",
              "      <th>channels</th>\n",
              "      <th>difficulty</th>\n",
              "      <th>duration</th>\n",
              "      <th>offer_type</th>\n",
              "      <th>id</th>\n",
              "    </tr>\n",
              "  </thead>\n",
              "  <tbody>\n",
              "    <tr>\n",
              "      <th>0</th>\n",
              "      <td>10</td>\n",
              "      <td>[email, mobile, social]</td>\n",
              "      <td>10</td>\n",
              "      <td>7</td>\n",
              "      <td>bogo</td>\n",
              "      <td>ae264e3637204a6fb9bb56bc8210ddfd</td>\n",
              "    </tr>\n",
              "    <tr>\n",
              "      <th>1</th>\n",
              "      <td>10</td>\n",
              "      <td>[web, email, mobile, social]</td>\n",
              "      <td>10</td>\n",
              "      <td>5</td>\n",
              "      <td>bogo</td>\n",
              "      <td>4d5c57ea9a6940dd891ad53e9dbe8da0</td>\n",
              "    </tr>\n",
              "    <tr>\n",
              "      <th>2</th>\n",
              "      <td>0</td>\n",
              "      <td>[web, email, mobile]</td>\n",
              "      <td>0</td>\n",
              "      <td>4</td>\n",
              "      <td>informational</td>\n",
              "      <td>3f207df678b143eea3cee63160fa8bed</td>\n",
              "    </tr>\n",
              "    <tr>\n",
              "      <th>3</th>\n",
              "      <td>5</td>\n",
              "      <td>[web, email, mobile]</td>\n",
              "      <td>5</td>\n",
              "      <td>7</td>\n",
              "      <td>bogo</td>\n",
              "      <td>9b98b8c7a33c4b65b9aebfe6a799e6d9</td>\n",
              "    </tr>\n",
              "    <tr>\n",
              "      <th>4</th>\n",
              "      <td>5</td>\n",
              "      <td>[web, email]</td>\n",
              "      <td>20</td>\n",
              "      <td>10</td>\n",
              "      <td>discount</td>\n",
              "      <td>0b1e1539f2cc45b7b9fa7c272da2e1d7</td>\n",
              "    </tr>\n",
              "    <tr>\n",
              "      <th>5</th>\n",
              "      <td>3</td>\n",
              "      <td>[web, email, mobile, social]</td>\n",
              "      <td>7</td>\n",
              "      <td>7</td>\n",
              "      <td>discount</td>\n",
              "      <td>2298d6c36e964ae4a3e7e9706d1fb8c2</td>\n",
              "    </tr>\n",
              "    <tr>\n",
              "      <th>6</th>\n",
              "      <td>2</td>\n",
              "      <td>[web, email, mobile, social]</td>\n",
              "      <td>10</td>\n",
              "      <td>10</td>\n",
              "      <td>discount</td>\n",
              "      <td>fafdcd668e3743c1bb461111dcafc2a4</td>\n",
              "    </tr>\n",
              "    <tr>\n",
              "      <th>7</th>\n",
              "      <td>0</td>\n",
              "      <td>[email, mobile, social]</td>\n",
              "      <td>0</td>\n",
              "      <td>3</td>\n",
              "      <td>informational</td>\n",
              "      <td>5a8bc65990b245e5a138643cd4eb9837</td>\n",
              "    </tr>\n",
              "    <tr>\n",
              "      <th>8</th>\n",
              "      <td>5</td>\n",
              "      <td>[web, email, mobile, social]</td>\n",
              "      <td>5</td>\n",
              "      <td>5</td>\n",
              "      <td>bogo</td>\n",
              "      <td>f19421c1d4aa40978ebb69ca19b0e20d</td>\n",
              "    </tr>\n",
              "    <tr>\n",
              "      <th>9</th>\n",
              "      <td>2</td>\n",
              "      <td>[web, email, mobile]</td>\n",
              "      <td>10</td>\n",
              "      <td>7</td>\n",
              "      <td>discount</td>\n",
              "      <td>2906b810c7d4411798c6938adc9daaa5</td>\n",
              "    </tr>\n",
              "  </tbody>\n",
              "</table>\n",
              "</div>"
            ],
            "text/plain": [
              "   reward  ...                                id\n",
              "0      10  ...  ae264e3637204a6fb9bb56bc8210ddfd\n",
              "1      10  ...  4d5c57ea9a6940dd891ad53e9dbe8da0\n",
              "2       0  ...  3f207df678b143eea3cee63160fa8bed\n",
              "3       5  ...  9b98b8c7a33c4b65b9aebfe6a799e6d9\n",
              "4       5  ...  0b1e1539f2cc45b7b9fa7c272da2e1d7\n",
              "5       3  ...  2298d6c36e964ae4a3e7e9706d1fb8c2\n",
              "6       2  ...  fafdcd668e3743c1bb461111dcafc2a4\n",
              "7       0  ...  5a8bc65990b245e5a138643cd4eb9837\n",
              "8       5  ...  f19421c1d4aa40978ebb69ca19b0e20d\n",
              "9       2  ...  2906b810c7d4411798c6938adc9daaa5\n",
              "\n",
              "[10 rows x 6 columns]"
            ]
          },
          "metadata": {},
          "execution_count": 5
        }
      ]
    },
    {
      "cell_type": "code",
      "metadata": {
        "id": "C4pKslUtGGYe"
      },
      "source": [
        "profile = profile[(profile['age']<100) & (profile['gender']!=None)]"
      ],
      "execution_count": 6,
      "outputs": []
    },
    {
      "cell_type": "code",
      "metadata": {
        "colab": {
          "base_uri": "https://localhost:8080/",
          "height": 203
        },
        "id": "8gP7qJ-FGGYf",
        "outputId": "553a9475-7018-4e23-c67a-5b2bd98fe1ce"
      },
      "source": [
        "profile.head()"
      ],
      "execution_count": 7,
      "outputs": [
        {
          "output_type": "execute_result",
          "data": {
            "text/html": [
              "<div>\n",
              "<style scoped>\n",
              "    .dataframe tbody tr th:only-of-type {\n",
              "        vertical-align: middle;\n",
              "    }\n",
              "\n",
              "    .dataframe tbody tr th {\n",
              "        vertical-align: top;\n",
              "    }\n",
              "\n",
              "    .dataframe thead th {\n",
              "        text-align: right;\n",
              "    }\n",
              "</style>\n",
              "<table border=\"1\" class=\"dataframe\">\n",
              "  <thead>\n",
              "    <tr style=\"text-align: right;\">\n",
              "      <th></th>\n",
              "      <th>gender</th>\n",
              "      <th>age</th>\n",
              "      <th>id</th>\n",
              "      <th>became_member_on</th>\n",
              "      <th>income</th>\n",
              "    </tr>\n",
              "  </thead>\n",
              "  <tbody>\n",
              "    <tr>\n",
              "      <th>1</th>\n",
              "      <td>F</td>\n",
              "      <td>55</td>\n",
              "      <td>0610b486422d4921ae7d2bf64640c50b</td>\n",
              "      <td>20170715</td>\n",
              "      <td>112000.0</td>\n",
              "    </tr>\n",
              "    <tr>\n",
              "      <th>3</th>\n",
              "      <td>F</td>\n",
              "      <td>75</td>\n",
              "      <td>78afa995795e4d85b5d9ceeca43f5fef</td>\n",
              "      <td>20170509</td>\n",
              "      <td>100000.0</td>\n",
              "    </tr>\n",
              "    <tr>\n",
              "      <th>5</th>\n",
              "      <td>M</td>\n",
              "      <td>68</td>\n",
              "      <td>e2127556f4f64592b11af22de27a7932</td>\n",
              "      <td>20180426</td>\n",
              "      <td>70000.0</td>\n",
              "    </tr>\n",
              "    <tr>\n",
              "      <th>8</th>\n",
              "      <td>M</td>\n",
              "      <td>65</td>\n",
              "      <td>389bc3fa690240e798340f5a15918d5c</td>\n",
              "      <td>20180209</td>\n",
              "      <td>53000.0</td>\n",
              "    </tr>\n",
              "    <tr>\n",
              "      <th>12</th>\n",
              "      <td>M</td>\n",
              "      <td>58</td>\n",
              "      <td>2eeac8d8feae4a8cad5a6af0499a211d</td>\n",
              "      <td>20171111</td>\n",
              "      <td>51000.0</td>\n",
              "    </tr>\n",
              "  </tbody>\n",
              "</table>\n",
              "</div>"
            ],
            "text/plain": [
              "   gender  age                                id  became_member_on    income\n",
              "1       F   55  0610b486422d4921ae7d2bf64640c50b          20170715  112000.0\n",
              "3       F   75  78afa995795e4d85b5d9ceeca43f5fef          20170509  100000.0\n",
              "5       M   68  e2127556f4f64592b11af22de27a7932          20180426   70000.0\n",
              "8       M   65  389bc3fa690240e798340f5a15918d5c          20180209   53000.0\n",
              "12      M   58  2eeac8d8feae4a8cad5a6af0499a211d          20171111   51000.0"
            ]
          },
          "metadata": {},
          "execution_count": 7
        }
      ]
    },
    {
      "cell_type": "code",
      "metadata": {
        "colab": {
          "base_uri": "https://localhost:8080/"
        },
        "id": "nqkGPfJAGGYf",
        "outputId": "93e4911e-fc73-4c72-a00d-4563c9f19b79"
      },
      "source": [
        "len(profile)"
      ],
      "execution_count": 8,
      "outputs": [
        {
          "output_type": "execute_result",
          "data": {
            "text/plain": [
              "14808"
            ]
          },
          "metadata": {},
          "execution_count": 8
        }
      ]
    },
    {
      "cell_type": "code",
      "metadata": {
        "colab": {
          "base_uri": "https://localhost:8080/",
          "height": 203
        },
        "id": "9O1XYx3PGGYg",
        "outputId": "0af5161d-beb8-448d-a42a-a2da624e599b"
      },
      "source": [
        "transcript.head()"
      ],
      "execution_count": 9,
      "outputs": [
        {
          "output_type": "execute_result",
          "data": {
            "text/html": [
              "<div>\n",
              "<style scoped>\n",
              "    .dataframe tbody tr th:only-of-type {\n",
              "        vertical-align: middle;\n",
              "    }\n",
              "\n",
              "    .dataframe tbody tr th {\n",
              "        vertical-align: top;\n",
              "    }\n",
              "\n",
              "    .dataframe thead th {\n",
              "        text-align: right;\n",
              "    }\n",
              "</style>\n",
              "<table border=\"1\" class=\"dataframe\">\n",
              "  <thead>\n",
              "    <tr style=\"text-align: right;\">\n",
              "      <th></th>\n",
              "      <th>person</th>\n",
              "      <th>event</th>\n",
              "      <th>value</th>\n",
              "      <th>time</th>\n",
              "    </tr>\n",
              "  </thead>\n",
              "  <tbody>\n",
              "    <tr>\n",
              "      <th>0</th>\n",
              "      <td>78afa995795e4d85b5d9ceeca43f5fef</td>\n",
              "      <td>offer received</td>\n",
              "      <td>{'offer id': '9b98b8c7a33c4b65b9aebfe6a799e6d9'}</td>\n",
              "      <td>0</td>\n",
              "    </tr>\n",
              "    <tr>\n",
              "      <th>1</th>\n",
              "      <td>a03223e636434f42ac4c3df47e8bac43</td>\n",
              "      <td>offer received</td>\n",
              "      <td>{'offer id': '0b1e1539f2cc45b7b9fa7c272da2e1d7'}</td>\n",
              "      <td>0</td>\n",
              "    </tr>\n",
              "    <tr>\n",
              "      <th>2</th>\n",
              "      <td>e2127556f4f64592b11af22de27a7932</td>\n",
              "      <td>offer received</td>\n",
              "      <td>{'offer id': '2906b810c7d4411798c6938adc9daaa5'}</td>\n",
              "      <td>0</td>\n",
              "    </tr>\n",
              "    <tr>\n",
              "      <th>3</th>\n",
              "      <td>8ec6ce2a7e7949b1bf142def7d0e0586</td>\n",
              "      <td>offer received</td>\n",
              "      <td>{'offer id': 'fafdcd668e3743c1bb461111dcafc2a4'}</td>\n",
              "      <td>0</td>\n",
              "    </tr>\n",
              "    <tr>\n",
              "      <th>4</th>\n",
              "      <td>68617ca6246f4fbc85e91a2a49552598</td>\n",
              "      <td>offer received</td>\n",
              "      <td>{'offer id': '4d5c57ea9a6940dd891ad53e9dbe8da0'}</td>\n",
              "      <td>0</td>\n",
              "    </tr>\n",
              "  </tbody>\n",
              "</table>\n",
              "</div>"
            ],
            "text/plain": [
              "                             person  ... time\n",
              "0  78afa995795e4d85b5d9ceeca43f5fef  ...    0\n",
              "1  a03223e636434f42ac4c3df47e8bac43  ...    0\n",
              "2  e2127556f4f64592b11af22de27a7932  ...    0\n",
              "3  8ec6ce2a7e7949b1bf142def7d0e0586  ...    0\n",
              "4  68617ca6246f4fbc85e91a2a49552598  ...    0\n",
              "\n",
              "[5 rows x 4 columns]"
            ]
          },
          "metadata": {},
          "execution_count": 9
        }
      ]
    },
    {
      "cell_type": "code",
      "metadata": {
        "colab": {
          "base_uri": "https://localhost:8080/"
        },
        "id": "sCNbck-fGGYg",
        "outputId": "cc2aceac-50f9-4ef7-fca6-0fa0280deb76"
      },
      "source": [
        "len(transcript)"
      ],
      "execution_count": 10,
      "outputs": [
        {
          "output_type": "execute_result",
          "data": {
            "text/plain": [
              "306534"
            ]
          },
          "metadata": {},
          "execution_count": 10
        }
      ]
    },
    {
      "cell_type": "code",
      "metadata": {
        "id": "sZiCRJqiGGYh"
      },
      "source": [
        "combo = pd.merge(profile, transcript, how='inner', left_on=['id'], right_on=['person']).rename(columns={'id': 'person_id'})"
      ],
      "execution_count": 11,
      "outputs": []
    },
    {
      "cell_type": "code",
      "metadata": {
        "colab": {
          "base_uri": "https://localhost:8080/"
        },
        "id": "hsGLiRtTGGYh",
        "outputId": "a288c513-06f1-46e8-ee8c-173d43e1ff96"
      },
      "source": [
        "len(combo)"
      ],
      "execution_count": 12,
      "outputs": [
        {
          "output_type": "execute_result",
          "data": {
            "text/plain": [
              "272430"
            ]
          },
          "metadata": {},
          "execution_count": 12
        }
      ]
    },
    {
      "cell_type": "code",
      "metadata": {
        "colab": {
          "base_uri": "https://localhost:8080/",
          "height": 203
        },
        "id": "p1fYAVKbGGYi",
        "outputId": "86be817a-c9d2-49c1-d7f7-3b4f6835bf8e"
      },
      "source": [
        "combo.head()"
      ],
      "execution_count": 13,
      "outputs": [
        {
          "output_type": "execute_result",
          "data": {
            "text/html": [
              "<div>\n",
              "<style scoped>\n",
              "    .dataframe tbody tr th:only-of-type {\n",
              "        vertical-align: middle;\n",
              "    }\n",
              "\n",
              "    .dataframe tbody tr th {\n",
              "        vertical-align: top;\n",
              "    }\n",
              "\n",
              "    .dataframe thead th {\n",
              "        text-align: right;\n",
              "    }\n",
              "</style>\n",
              "<table border=\"1\" class=\"dataframe\">\n",
              "  <thead>\n",
              "    <tr style=\"text-align: right;\">\n",
              "      <th></th>\n",
              "      <th>gender</th>\n",
              "      <th>age</th>\n",
              "      <th>person_id</th>\n",
              "      <th>became_member_on</th>\n",
              "      <th>income</th>\n",
              "      <th>person</th>\n",
              "      <th>event</th>\n",
              "      <th>value</th>\n",
              "      <th>time</th>\n",
              "    </tr>\n",
              "  </thead>\n",
              "  <tbody>\n",
              "    <tr>\n",
              "      <th>0</th>\n",
              "      <td>F</td>\n",
              "      <td>55</td>\n",
              "      <td>0610b486422d4921ae7d2bf64640c50b</td>\n",
              "      <td>20170715</td>\n",
              "      <td>112000.0</td>\n",
              "      <td>0610b486422d4921ae7d2bf64640c50b</td>\n",
              "      <td>transaction</td>\n",
              "      <td>{'amount': 21.51}</td>\n",
              "      <td>18</td>\n",
              "    </tr>\n",
              "    <tr>\n",
              "      <th>1</th>\n",
              "      <td>F</td>\n",
              "      <td>55</td>\n",
              "      <td>0610b486422d4921ae7d2bf64640c50b</td>\n",
              "      <td>20170715</td>\n",
              "      <td>112000.0</td>\n",
              "      <td>0610b486422d4921ae7d2bf64640c50b</td>\n",
              "      <td>transaction</td>\n",
              "      <td>{'amount': 32.28}</td>\n",
              "      <td>144</td>\n",
              "    </tr>\n",
              "    <tr>\n",
              "      <th>2</th>\n",
              "      <td>F</td>\n",
              "      <td>55</td>\n",
              "      <td>0610b486422d4921ae7d2bf64640c50b</td>\n",
              "      <td>20170715</td>\n",
              "      <td>112000.0</td>\n",
              "      <td>0610b486422d4921ae7d2bf64640c50b</td>\n",
              "      <td>offer received</td>\n",
              "      <td>{'offer id': '9b98b8c7a33c4b65b9aebfe6a799e6d9'}</td>\n",
              "      <td>408</td>\n",
              "    </tr>\n",
              "    <tr>\n",
              "      <th>3</th>\n",
              "      <td>F</td>\n",
              "      <td>55</td>\n",
              "      <td>0610b486422d4921ae7d2bf64640c50b</td>\n",
              "      <td>20170715</td>\n",
              "      <td>112000.0</td>\n",
              "      <td>0610b486422d4921ae7d2bf64640c50b</td>\n",
              "      <td>offer received</td>\n",
              "      <td>{'offer id': '3f207df678b143eea3cee63160fa8bed'}</td>\n",
              "      <td>504</td>\n",
              "    </tr>\n",
              "    <tr>\n",
              "      <th>4</th>\n",
              "      <td>F</td>\n",
              "      <td>55</td>\n",
              "      <td>0610b486422d4921ae7d2bf64640c50b</td>\n",
              "      <td>20170715</td>\n",
              "      <td>112000.0</td>\n",
              "      <td>0610b486422d4921ae7d2bf64640c50b</td>\n",
              "      <td>transaction</td>\n",
              "      <td>{'amount': 23.22}</td>\n",
              "      <td>528</td>\n",
              "    </tr>\n",
              "  </tbody>\n",
              "</table>\n",
              "</div>"
            ],
            "text/plain": [
              "  gender  age  ...                                             value  time\n",
              "0      F   55  ...                                 {'amount': 21.51}    18\n",
              "1      F   55  ...                                 {'amount': 32.28}   144\n",
              "2      F   55  ...  {'offer id': '9b98b8c7a33c4b65b9aebfe6a799e6d9'}   408\n",
              "3      F   55  ...  {'offer id': '3f207df678b143eea3cee63160fa8bed'}   504\n",
              "4      F   55  ...                                 {'amount': 23.22}   528\n",
              "\n",
              "[5 rows x 9 columns]"
            ]
          },
          "metadata": {},
          "execution_count": 13
        }
      ]
    },
    {
      "cell_type": "code",
      "metadata": {
        "colab": {
          "base_uri": "https://localhost:8080/"
        },
        "id": "GLme8PN3GGYi",
        "outputId": "38c24c21-9452-47a2-cbf7-7ab82e057b72"
      },
      "source": [
        "combo['age'].value_counts()"
      ],
      "execution_count": 14,
      "outputs": [
        {
          "output_type": "execute_result",
          "data": {
            "text/plain": [
              "58    7546\n",
              "53    6688\n",
              "51    6559\n",
              "54    6546\n",
              "57    6468\n",
              "      ... \n",
              "95     369\n",
              "97     239\n",
              "96     135\n",
              "99      99\n",
              "98      85\n",
              "Name: age, Length: 82, dtype: int64"
            ]
          },
          "metadata": {},
          "execution_count": 14
        }
      ]
    },
    {
      "cell_type": "code",
      "metadata": {
        "id": "ohY9n5OpGGYj"
      },
      "source": [
        "offer_df = pd.json_normalize(combo['value'])"
      ],
      "execution_count": 15,
      "outputs": []
    },
    {
      "cell_type": "code",
      "metadata": {
        "colab": {
          "base_uri": "https://localhost:8080/",
          "height": 203
        },
        "id": "014mgonxGGYj",
        "outputId": "79c24a7c-65e4-421a-ebf4-df2689d904e8"
      },
      "source": [
        "offer_df.head()"
      ],
      "execution_count": 16,
      "outputs": [
        {
          "output_type": "execute_result",
          "data": {
            "text/html": [
              "<div>\n",
              "<style scoped>\n",
              "    .dataframe tbody tr th:only-of-type {\n",
              "        vertical-align: middle;\n",
              "    }\n",
              "\n",
              "    .dataframe tbody tr th {\n",
              "        vertical-align: top;\n",
              "    }\n",
              "\n",
              "    .dataframe thead th {\n",
              "        text-align: right;\n",
              "    }\n",
              "</style>\n",
              "<table border=\"1\" class=\"dataframe\">\n",
              "  <thead>\n",
              "    <tr style=\"text-align: right;\">\n",
              "      <th></th>\n",
              "      <th>amount</th>\n",
              "      <th>offer id</th>\n",
              "      <th>offer_id</th>\n",
              "      <th>reward</th>\n",
              "    </tr>\n",
              "  </thead>\n",
              "  <tbody>\n",
              "    <tr>\n",
              "      <th>0</th>\n",
              "      <td>21.51</td>\n",
              "      <td>NaN</td>\n",
              "      <td>NaN</td>\n",
              "      <td>NaN</td>\n",
              "    </tr>\n",
              "    <tr>\n",
              "      <th>1</th>\n",
              "      <td>32.28</td>\n",
              "      <td>NaN</td>\n",
              "      <td>NaN</td>\n",
              "      <td>NaN</td>\n",
              "    </tr>\n",
              "    <tr>\n",
              "      <th>2</th>\n",
              "      <td>NaN</td>\n",
              "      <td>9b98b8c7a33c4b65b9aebfe6a799e6d9</td>\n",
              "      <td>NaN</td>\n",
              "      <td>NaN</td>\n",
              "    </tr>\n",
              "    <tr>\n",
              "      <th>3</th>\n",
              "      <td>NaN</td>\n",
              "      <td>3f207df678b143eea3cee63160fa8bed</td>\n",
              "      <td>NaN</td>\n",
              "      <td>NaN</td>\n",
              "    </tr>\n",
              "    <tr>\n",
              "      <th>4</th>\n",
              "      <td>23.22</td>\n",
              "      <td>NaN</td>\n",
              "      <td>NaN</td>\n",
              "      <td>NaN</td>\n",
              "    </tr>\n",
              "  </tbody>\n",
              "</table>\n",
              "</div>"
            ],
            "text/plain": [
              "   amount                          offer id offer_id  reward\n",
              "0   21.51                               NaN      NaN     NaN\n",
              "1   32.28                               NaN      NaN     NaN\n",
              "2     NaN  9b98b8c7a33c4b65b9aebfe6a799e6d9      NaN     NaN\n",
              "3     NaN  3f207df678b143eea3cee63160fa8bed      NaN     NaN\n",
              "4   23.22                               NaN      NaN     NaN"
            ]
          },
          "metadata": {},
          "execution_count": 16
        }
      ]
    },
    {
      "cell_type": "markdown",
      "metadata": {
        "id": "vPTbyLodaLlI"
      },
      "source": [
        "**value**: in order to clean up inconsitent name 'offer_id' & 'offer id'"
      ]
    },
    {
      "cell_type": "code",
      "metadata": {
        "id": "bHeyDwQvGGYk"
      },
      "source": [
        "offer_df['off_id'] = offer_df['offer id'].combine_first(offer_df['offer_id'])"
      ],
      "execution_count": 17,
      "outputs": []
    },
    {
      "cell_type": "code",
      "metadata": {
        "colab": {
          "base_uri": "https://localhost:8080/",
          "height": 357
        },
        "id": "iQpDWrxrGGYk",
        "outputId": "e1c30494-52eb-41df-a7c3-a3c62ca033eb"
      },
      "source": [
        "offer_df.head(10)"
      ],
      "execution_count": 18,
      "outputs": [
        {
          "output_type": "execute_result",
          "data": {
            "text/html": [
              "<div>\n",
              "<style scoped>\n",
              "    .dataframe tbody tr th:only-of-type {\n",
              "        vertical-align: middle;\n",
              "    }\n",
              "\n",
              "    .dataframe tbody tr th {\n",
              "        vertical-align: top;\n",
              "    }\n",
              "\n",
              "    .dataframe thead th {\n",
              "        text-align: right;\n",
              "    }\n",
              "</style>\n",
              "<table border=\"1\" class=\"dataframe\">\n",
              "  <thead>\n",
              "    <tr style=\"text-align: right;\">\n",
              "      <th></th>\n",
              "      <th>amount</th>\n",
              "      <th>offer id</th>\n",
              "      <th>offer_id</th>\n",
              "      <th>reward</th>\n",
              "      <th>off_id</th>\n",
              "    </tr>\n",
              "  </thead>\n",
              "  <tbody>\n",
              "    <tr>\n",
              "      <th>0</th>\n",
              "      <td>21.51</td>\n",
              "      <td>NaN</td>\n",
              "      <td>NaN</td>\n",
              "      <td>NaN</td>\n",
              "      <td>NaN</td>\n",
              "    </tr>\n",
              "    <tr>\n",
              "      <th>1</th>\n",
              "      <td>32.28</td>\n",
              "      <td>NaN</td>\n",
              "      <td>NaN</td>\n",
              "      <td>NaN</td>\n",
              "      <td>NaN</td>\n",
              "    </tr>\n",
              "    <tr>\n",
              "      <th>2</th>\n",
              "      <td>NaN</td>\n",
              "      <td>9b98b8c7a33c4b65b9aebfe6a799e6d9</td>\n",
              "      <td>NaN</td>\n",
              "      <td>NaN</td>\n",
              "      <td>9b98b8c7a33c4b65b9aebfe6a799e6d9</td>\n",
              "    </tr>\n",
              "    <tr>\n",
              "      <th>3</th>\n",
              "      <td>NaN</td>\n",
              "      <td>3f207df678b143eea3cee63160fa8bed</td>\n",
              "      <td>NaN</td>\n",
              "      <td>NaN</td>\n",
              "      <td>3f207df678b143eea3cee63160fa8bed</td>\n",
              "    </tr>\n",
              "    <tr>\n",
              "      <th>4</th>\n",
              "      <td>23.22</td>\n",
              "      <td>NaN</td>\n",
              "      <td>NaN</td>\n",
              "      <td>NaN</td>\n",
              "      <td>NaN</td>\n",
              "    </tr>\n",
              "    <tr>\n",
              "      <th>5</th>\n",
              "      <td>NaN</td>\n",
              "      <td>NaN</td>\n",
              "      <td>9b98b8c7a33c4b65b9aebfe6a799e6d9</td>\n",
              "      <td>5.0</td>\n",
              "      <td>9b98b8c7a33c4b65b9aebfe6a799e6d9</td>\n",
              "    </tr>\n",
              "    <tr>\n",
              "      <th>6</th>\n",
              "      <td>NaN</td>\n",
              "      <td>9b98b8c7a33c4b65b9aebfe6a799e6d9</td>\n",
              "      <td>NaN</td>\n",
              "      <td>NaN</td>\n",
              "      <td>9b98b8c7a33c4b65b9aebfe6a799e6d9</td>\n",
              "    </tr>\n",
              "    <tr>\n",
              "      <th>7</th>\n",
              "      <td>NaN</td>\n",
              "      <td>9b98b8c7a33c4b65b9aebfe6a799e6d9</td>\n",
              "      <td>NaN</td>\n",
              "      <td>NaN</td>\n",
              "      <td>9b98b8c7a33c4b65b9aebfe6a799e6d9</td>\n",
              "    </tr>\n",
              "    <tr>\n",
              "      <th>8</th>\n",
              "      <td>19.89</td>\n",
              "      <td>NaN</td>\n",
              "      <td>NaN</td>\n",
              "      <td>NaN</td>\n",
              "      <td>NaN</td>\n",
              "    </tr>\n",
              "    <tr>\n",
              "      <th>9</th>\n",
              "      <td>NaN</td>\n",
              "      <td>NaN</td>\n",
              "      <td>9b98b8c7a33c4b65b9aebfe6a799e6d9</td>\n",
              "      <td>5.0</td>\n",
              "      <td>9b98b8c7a33c4b65b9aebfe6a799e6d9</td>\n",
              "    </tr>\n",
              "  </tbody>\n",
              "</table>\n",
              "</div>"
            ],
            "text/plain": [
              "   amount  ...                            off_id\n",
              "0   21.51  ...                               NaN\n",
              "1   32.28  ...                               NaN\n",
              "2     NaN  ...  9b98b8c7a33c4b65b9aebfe6a799e6d9\n",
              "3     NaN  ...  3f207df678b143eea3cee63160fa8bed\n",
              "4   23.22  ...                               NaN\n",
              "5     NaN  ...  9b98b8c7a33c4b65b9aebfe6a799e6d9\n",
              "6     NaN  ...  9b98b8c7a33c4b65b9aebfe6a799e6d9\n",
              "7     NaN  ...  9b98b8c7a33c4b65b9aebfe6a799e6d9\n",
              "8   19.89  ...                               NaN\n",
              "9     NaN  ...  9b98b8c7a33c4b65b9aebfe6a799e6d9\n",
              "\n",
              "[10 rows x 5 columns]"
            ]
          },
          "metadata": {},
          "execution_count": 18
        }
      ]
    },
    {
      "cell_type": "code",
      "metadata": {
        "id": "PpTSYA7uGGYk"
      },
      "source": [
        "combo_df = pd.concat([combo, offer_df], axis=1)"
      ],
      "execution_count": 19,
      "outputs": []
    },
    {
      "cell_type": "code",
      "metadata": {
        "colab": {
          "base_uri": "https://localhost:8080/",
          "height": 870
        },
        "id": "AyNZlumnGGYk",
        "outputId": "799e3011-36e8-4a72-daa6-886408cc3c95"
      },
      "source": [
        "combo_df.head(20)"
      ],
      "execution_count": 20,
      "outputs": [
        {
          "output_type": "execute_result",
          "data": {
            "text/html": [
              "<div>\n",
              "<style scoped>\n",
              "    .dataframe tbody tr th:only-of-type {\n",
              "        vertical-align: middle;\n",
              "    }\n",
              "\n",
              "    .dataframe tbody tr th {\n",
              "        vertical-align: top;\n",
              "    }\n",
              "\n",
              "    .dataframe thead th {\n",
              "        text-align: right;\n",
              "    }\n",
              "</style>\n",
              "<table border=\"1\" class=\"dataframe\">\n",
              "  <thead>\n",
              "    <tr style=\"text-align: right;\">\n",
              "      <th></th>\n",
              "      <th>gender</th>\n",
              "      <th>age</th>\n",
              "      <th>person_id</th>\n",
              "      <th>became_member_on</th>\n",
              "      <th>income</th>\n",
              "      <th>person</th>\n",
              "      <th>event</th>\n",
              "      <th>value</th>\n",
              "      <th>time</th>\n",
              "      <th>amount</th>\n",
              "      <th>offer id</th>\n",
              "      <th>offer_id</th>\n",
              "      <th>reward</th>\n",
              "      <th>off_id</th>\n",
              "    </tr>\n",
              "  </thead>\n",
              "  <tbody>\n",
              "    <tr>\n",
              "      <th>0</th>\n",
              "      <td>F</td>\n",
              "      <td>55</td>\n",
              "      <td>0610b486422d4921ae7d2bf64640c50b</td>\n",
              "      <td>20170715</td>\n",
              "      <td>112000.0</td>\n",
              "      <td>0610b486422d4921ae7d2bf64640c50b</td>\n",
              "      <td>transaction</td>\n",
              "      <td>{'amount': 21.51}</td>\n",
              "      <td>18</td>\n",
              "      <td>21.51</td>\n",
              "      <td>NaN</td>\n",
              "      <td>NaN</td>\n",
              "      <td>NaN</td>\n",
              "      <td>NaN</td>\n",
              "    </tr>\n",
              "    <tr>\n",
              "      <th>1</th>\n",
              "      <td>F</td>\n",
              "      <td>55</td>\n",
              "      <td>0610b486422d4921ae7d2bf64640c50b</td>\n",
              "      <td>20170715</td>\n",
              "      <td>112000.0</td>\n",
              "      <td>0610b486422d4921ae7d2bf64640c50b</td>\n",
              "      <td>transaction</td>\n",
              "      <td>{'amount': 32.28}</td>\n",
              "      <td>144</td>\n",
              "      <td>32.28</td>\n",
              "      <td>NaN</td>\n",
              "      <td>NaN</td>\n",
              "      <td>NaN</td>\n",
              "      <td>NaN</td>\n",
              "    </tr>\n",
              "    <tr>\n",
              "      <th>2</th>\n",
              "      <td>F</td>\n",
              "      <td>55</td>\n",
              "      <td>0610b486422d4921ae7d2bf64640c50b</td>\n",
              "      <td>20170715</td>\n",
              "      <td>112000.0</td>\n",
              "      <td>0610b486422d4921ae7d2bf64640c50b</td>\n",
              "      <td>offer received</td>\n",
              "      <td>{'offer id': '9b98b8c7a33c4b65b9aebfe6a799e6d9'}</td>\n",
              "      <td>408</td>\n",
              "      <td>NaN</td>\n",
              "      <td>9b98b8c7a33c4b65b9aebfe6a799e6d9</td>\n",
              "      <td>NaN</td>\n",
              "      <td>NaN</td>\n",
              "      <td>9b98b8c7a33c4b65b9aebfe6a799e6d9</td>\n",
              "    </tr>\n",
              "    <tr>\n",
              "      <th>3</th>\n",
              "      <td>F</td>\n",
              "      <td>55</td>\n",
              "      <td>0610b486422d4921ae7d2bf64640c50b</td>\n",
              "      <td>20170715</td>\n",
              "      <td>112000.0</td>\n",
              "      <td>0610b486422d4921ae7d2bf64640c50b</td>\n",
              "      <td>offer received</td>\n",
              "      <td>{'offer id': '3f207df678b143eea3cee63160fa8bed'}</td>\n",
              "      <td>504</td>\n",
              "      <td>NaN</td>\n",
              "      <td>3f207df678b143eea3cee63160fa8bed</td>\n",
              "      <td>NaN</td>\n",
              "      <td>NaN</td>\n",
              "      <td>3f207df678b143eea3cee63160fa8bed</td>\n",
              "    </tr>\n",
              "    <tr>\n",
              "      <th>4</th>\n",
              "      <td>F</td>\n",
              "      <td>55</td>\n",
              "      <td>0610b486422d4921ae7d2bf64640c50b</td>\n",
              "      <td>20170715</td>\n",
              "      <td>112000.0</td>\n",
              "      <td>0610b486422d4921ae7d2bf64640c50b</td>\n",
              "      <td>transaction</td>\n",
              "      <td>{'amount': 23.22}</td>\n",
              "      <td>528</td>\n",
              "      <td>23.22</td>\n",
              "      <td>NaN</td>\n",
              "      <td>NaN</td>\n",
              "      <td>NaN</td>\n",
              "      <td>NaN</td>\n",
              "    </tr>\n",
              "    <tr>\n",
              "      <th>5</th>\n",
              "      <td>F</td>\n",
              "      <td>55</td>\n",
              "      <td>0610b486422d4921ae7d2bf64640c50b</td>\n",
              "      <td>20170715</td>\n",
              "      <td>112000.0</td>\n",
              "      <td>0610b486422d4921ae7d2bf64640c50b</td>\n",
              "      <td>offer completed</td>\n",
              "      <td>{'offer_id': '9b98b8c7a33c4b65b9aebfe6a799e6d9...</td>\n",
              "      <td>528</td>\n",
              "      <td>NaN</td>\n",
              "      <td>NaN</td>\n",
              "      <td>9b98b8c7a33c4b65b9aebfe6a799e6d9</td>\n",
              "      <td>5.0</td>\n",
              "      <td>9b98b8c7a33c4b65b9aebfe6a799e6d9</td>\n",
              "    </tr>\n",
              "    <tr>\n",
              "      <th>6</th>\n",
              "      <td>F</td>\n",
              "      <td>75</td>\n",
              "      <td>78afa995795e4d85b5d9ceeca43f5fef</td>\n",
              "      <td>20170509</td>\n",
              "      <td>100000.0</td>\n",
              "      <td>78afa995795e4d85b5d9ceeca43f5fef</td>\n",
              "      <td>offer received</td>\n",
              "      <td>{'offer id': '9b98b8c7a33c4b65b9aebfe6a799e6d9'}</td>\n",
              "      <td>0</td>\n",
              "      <td>NaN</td>\n",
              "      <td>9b98b8c7a33c4b65b9aebfe6a799e6d9</td>\n",
              "      <td>NaN</td>\n",
              "      <td>NaN</td>\n",
              "      <td>9b98b8c7a33c4b65b9aebfe6a799e6d9</td>\n",
              "    </tr>\n",
              "    <tr>\n",
              "      <th>7</th>\n",
              "      <td>F</td>\n",
              "      <td>75</td>\n",
              "      <td>78afa995795e4d85b5d9ceeca43f5fef</td>\n",
              "      <td>20170509</td>\n",
              "      <td>100000.0</td>\n",
              "      <td>78afa995795e4d85b5d9ceeca43f5fef</td>\n",
              "      <td>offer viewed</td>\n",
              "      <td>{'offer id': '9b98b8c7a33c4b65b9aebfe6a799e6d9'}</td>\n",
              "      <td>6</td>\n",
              "      <td>NaN</td>\n",
              "      <td>9b98b8c7a33c4b65b9aebfe6a799e6d9</td>\n",
              "      <td>NaN</td>\n",
              "      <td>NaN</td>\n",
              "      <td>9b98b8c7a33c4b65b9aebfe6a799e6d9</td>\n",
              "    </tr>\n",
              "    <tr>\n",
              "      <th>8</th>\n",
              "      <td>F</td>\n",
              "      <td>75</td>\n",
              "      <td>78afa995795e4d85b5d9ceeca43f5fef</td>\n",
              "      <td>20170509</td>\n",
              "      <td>100000.0</td>\n",
              "      <td>78afa995795e4d85b5d9ceeca43f5fef</td>\n",
              "      <td>transaction</td>\n",
              "      <td>{'amount': 19.89}</td>\n",
              "      <td>132</td>\n",
              "      <td>19.89</td>\n",
              "      <td>NaN</td>\n",
              "      <td>NaN</td>\n",
              "      <td>NaN</td>\n",
              "      <td>NaN</td>\n",
              "    </tr>\n",
              "    <tr>\n",
              "      <th>9</th>\n",
              "      <td>F</td>\n",
              "      <td>75</td>\n",
              "      <td>78afa995795e4d85b5d9ceeca43f5fef</td>\n",
              "      <td>20170509</td>\n",
              "      <td>100000.0</td>\n",
              "      <td>78afa995795e4d85b5d9ceeca43f5fef</td>\n",
              "      <td>offer completed</td>\n",
              "      <td>{'offer_id': '9b98b8c7a33c4b65b9aebfe6a799e6d9...</td>\n",
              "      <td>132</td>\n",
              "      <td>NaN</td>\n",
              "      <td>NaN</td>\n",
              "      <td>9b98b8c7a33c4b65b9aebfe6a799e6d9</td>\n",
              "      <td>5.0</td>\n",
              "      <td>9b98b8c7a33c4b65b9aebfe6a799e6d9</td>\n",
              "    </tr>\n",
              "    <tr>\n",
              "      <th>10</th>\n",
              "      <td>F</td>\n",
              "      <td>75</td>\n",
              "      <td>78afa995795e4d85b5d9ceeca43f5fef</td>\n",
              "      <td>20170509</td>\n",
              "      <td>100000.0</td>\n",
              "      <td>78afa995795e4d85b5d9ceeca43f5fef</td>\n",
              "      <td>transaction</td>\n",
              "      <td>{'amount': 17.78}</td>\n",
              "      <td>144</td>\n",
              "      <td>17.78</td>\n",
              "      <td>NaN</td>\n",
              "      <td>NaN</td>\n",
              "      <td>NaN</td>\n",
              "      <td>NaN</td>\n",
              "    </tr>\n",
              "    <tr>\n",
              "      <th>11</th>\n",
              "      <td>F</td>\n",
              "      <td>75</td>\n",
              "      <td>78afa995795e4d85b5d9ceeca43f5fef</td>\n",
              "      <td>20170509</td>\n",
              "      <td>100000.0</td>\n",
              "      <td>78afa995795e4d85b5d9ceeca43f5fef</td>\n",
              "      <td>offer received</td>\n",
              "      <td>{'offer id': '5a8bc65990b245e5a138643cd4eb9837'}</td>\n",
              "      <td>168</td>\n",
              "      <td>NaN</td>\n",
              "      <td>5a8bc65990b245e5a138643cd4eb9837</td>\n",
              "      <td>NaN</td>\n",
              "      <td>NaN</td>\n",
              "      <td>5a8bc65990b245e5a138643cd4eb9837</td>\n",
              "    </tr>\n",
              "    <tr>\n",
              "      <th>12</th>\n",
              "      <td>F</td>\n",
              "      <td>75</td>\n",
              "      <td>78afa995795e4d85b5d9ceeca43f5fef</td>\n",
              "      <td>20170509</td>\n",
              "      <td>100000.0</td>\n",
              "      <td>78afa995795e4d85b5d9ceeca43f5fef</td>\n",
              "      <td>offer viewed</td>\n",
              "      <td>{'offer id': '5a8bc65990b245e5a138643cd4eb9837'}</td>\n",
              "      <td>216</td>\n",
              "      <td>NaN</td>\n",
              "      <td>5a8bc65990b245e5a138643cd4eb9837</td>\n",
              "      <td>NaN</td>\n",
              "      <td>NaN</td>\n",
              "      <td>5a8bc65990b245e5a138643cd4eb9837</td>\n",
              "    </tr>\n",
              "    <tr>\n",
              "      <th>13</th>\n",
              "      <td>F</td>\n",
              "      <td>75</td>\n",
              "      <td>78afa995795e4d85b5d9ceeca43f5fef</td>\n",
              "      <td>20170509</td>\n",
              "      <td>100000.0</td>\n",
              "      <td>78afa995795e4d85b5d9ceeca43f5fef</td>\n",
              "      <td>transaction</td>\n",
              "      <td>{'amount': 19.67}</td>\n",
              "      <td>222</td>\n",
              "      <td>19.67</td>\n",
              "      <td>NaN</td>\n",
              "      <td>NaN</td>\n",
              "      <td>NaN</td>\n",
              "      <td>NaN</td>\n",
              "    </tr>\n",
              "    <tr>\n",
              "      <th>14</th>\n",
              "      <td>F</td>\n",
              "      <td>75</td>\n",
              "      <td>78afa995795e4d85b5d9ceeca43f5fef</td>\n",
              "      <td>20170509</td>\n",
              "      <td>100000.0</td>\n",
              "      <td>78afa995795e4d85b5d9ceeca43f5fef</td>\n",
              "      <td>transaction</td>\n",
              "      <td>{'amount': 29.72}</td>\n",
              "      <td>240</td>\n",
              "      <td>29.72</td>\n",
              "      <td>NaN</td>\n",
              "      <td>NaN</td>\n",
              "      <td>NaN</td>\n",
              "      <td>NaN</td>\n",
              "    </tr>\n",
              "    <tr>\n",
              "      <th>15</th>\n",
              "      <td>F</td>\n",
              "      <td>75</td>\n",
              "      <td>78afa995795e4d85b5d9ceeca43f5fef</td>\n",
              "      <td>20170509</td>\n",
              "      <td>100000.0</td>\n",
              "      <td>78afa995795e4d85b5d9ceeca43f5fef</td>\n",
              "      <td>transaction</td>\n",
              "      <td>{'amount': 23.93}</td>\n",
              "      <td>378</td>\n",
              "      <td>23.93</td>\n",
              "      <td>NaN</td>\n",
              "      <td>NaN</td>\n",
              "      <td>NaN</td>\n",
              "      <td>NaN</td>\n",
              "    </tr>\n",
              "    <tr>\n",
              "      <th>16</th>\n",
              "      <td>F</td>\n",
              "      <td>75</td>\n",
              "      <td>78afa995795e4d85b5d9ceeca43f5fef</td>\n",
              "      <td>20170509</td>\n",
              "      <td>100000.0</td>\n",
              "      <td>78afa995795e4d85b5d9ceeca43f5fef</td>\n",
              "      <td>offer received</td>\n",
              "      <td>{'offer id': 'ae264e3637204a6fb9bb56bc8210ddfd'}</td>\n",
              "      <td>408</td>\n",
              "      <td>NaN</td>\n",
              "      <td>ae264e3637204a6fb9bb56bc8210ddfd</td>\n",
              "      <td>NaN</td>\n",
              "      <td>NaN</td>\n",
              "      <td>ae264e3637204a6fb9bb56bc8210ddfd</td>\n",
              "    </tr>\n",
              "    <tr>\n",
              "      <th>17</th>\n",
              "      <td>F</td>\n",
              "      <td>75</td>\n",
              "      <td>78afa995795e4d85b5d9ceeca43f5fef</td>\n",
              "      <td>20170509</td>\n",
              "      <td>100000.0</td>\n",
              "      <td>78afa995795e4d85b5d9ceeca43f5fef</td>\n",
              "      <td>offer viewed</td>\n",
              "      <td>{'offer id': 'ae264e3637204a6fb9bb56bc8210ddfd'}</td>\n",
              "      <td>408</td>\n",
              "      <td>NaN</td>\n",
              "      <td>ae264e3637204a6fb9bb56bc8210ddfd</td>\n",
              "      <td>NaN</td>\n",
              "      <td>NaN</td>\n",
              "      <td>ae264e3637204a6fb9bb56bc8210ddfd</td>\n",
              "    </tr>\n",
              "    <tr>\n",
              "      <th>18</th>\n",
              "      <td>F</td>\n",
              "      <td>75</td>\n",
              "      <td>78afa995795e4d85b5d9ceeca43f5fef</td>\n",
              "      <td>20170509</td>\n",
              "      <td>100000.0</td>\n",
              "      <td>78afa995795e4d85b5d9ceeca43f5fef</td>\n",
              "      <td>offer received</td>\n",
              "      <td>{'offer id': 'f19421c1d4aa40978ebb69ca19b0e20d'}</td>\n",
              "      <td>504</td>\n",
              "      <td>NaN</td>\n",
              "      <td>f19421c1d4aa40978ebb69ca19b0e20d</td>\n",
              "      <td>NaN</td>\n",
              "      <td>NaN</td>\n",
              "      <td>f19421c1d4aa40978ebb69ca19b0e20d</td>\n",
              "    </tr>\n",
              "    <tr>\n",
              "      <th>19</th>\n",
              "      <td>F</td>\n",
              "      <td>75</td>\n",
              "      <td>78afa995795e4d85b5d9ceeca43f5fef</td>\n",
              "      <td>20170509</td>\n",
              "      <td>100000.0</td>\n",
              "      <td>78afa995795e4d85b5d9ceeca43f5fef</td>\n",
              "      <td>transaction</td>\n",
              "      <td>{'amount': 21.72}</td>\n",
              "      <td>510</td>\n",
              "      <td>21.72</td>\n",
              "      <td>NaN</td>\n",
              "      <td>NaN</td>\n",
              "      <td>NaN</td>\n",
              "      <td>NaN</td>\n",
              "    </tr>\n",
              "  </tbody>\n",
              "</table>\n",
              "</div>"
            ],
            "text/plain": [
              "   gender  age  ... reward                            off_id\n",
              "0       F   55  ...    NaN                               NaN\n",
              "1       F   55  ...    NaN                               NaN\n",
              "2       F   55  ...    NaN  9b98b8c7a33c4b65b9aebfe6a799e6d9\n",
              "3       F   55  ...    NaN  3f207df678b143eea3cee63160fa8bed\n",
              "4       F   55  ...    NaN                               NaN\n",
              "5       F   55  ...    5.0  9b98b8c7a33c4b65b9aebfe6a799e6d9\n",
              "6       F   75  ...    NaN  9b98b8c7a33c4b65b9aebfe6a799e6d9\n",
              "7       F   75  ...    NaN  9b98b8c7a33c4b65b9aebfe6a799e6d9\n",
              "8       F   75  ...    NaN                               NaN\n",
              "9       F   75  ...    5.0  9b98b8c7a33c4b65b9aebfe6a799e6d9\n",
              "10      F   75  ...    NaN                               NaN\n",
              "11      F   75  ...    NaN  5a8bc65990b245e5a138643cd4eb9837\n",
              "12      F   75  ...    NaN  5a8bc65990b245e5a138643cd4eb9837\n",
              "13      F   75  ...    NaN                               NaN\n",
              "14      F   75  ...    NaN                               NaN\n",
              "15      F   75  ...    NaN                               NaN\n",
              "16      F   75  ...    NaN  ae264e3637204a6fb9bb56bc8210ddfd\n",
              "17      F   75  ...    NaN  ae264e3637204a6fb9bb56bc8210ddfd\n",
              "18      F   75  ...    NaN  f19421c1d4aa40978ebb69ca19b0e20d\n",
              "19      F   75  ...    NaN                               NaN\n",
              "\n",
              "[20 rows x 14 columns]"
            ]
          },
          "metadata": {},
          "execution_count": 20
        }
      ]
    },
    {
      "cell_type": "code",
      "metadata": {
        "id": "gndJ5WfKIL03"
      },
      "source": [
        ""
      ],
      "execution_count": null,
      "outputs": []
    },
    {
      "cell_type": "code",
      "metadata": {
        "id": "8nny43ObGGYl"
      },
      "source": [
        "df_offer_final = pd.merge(combo_df, portfolio, how='inner', left_on=['off_id'], right_on=['id']).rename(columns={'reward_y': 'reward'})"
      ],
      "execution_count": 21,
      "outputs": []
    },
    {
      "cell_type": "code",
      "metadata": {
        "colab": {
          "base_uri": "https://localhost:8080/",
          "height": 262
        },
        "id": "dvYLhWBqGGYl",
        "outputId": "28f11851-8195-4ef2-b608-98bdaae57495"
      },
      "source": [
        "df_offer_final.head(3)"
      ],
      "execution_count": 22,
      "outputs": [
        {
          "output_type": "execute_result",
          "data": {
            "text/html": [
              "<div>\n",
              "<style scoped>\n",
              "    .dataframe tbody tr th:only-of-type {\n",
              "        vertical-align: middle;\n",
              "    }\n",
              "\n",
              "    .dataframe tbody tr th {\n",
              "        vertical-align: top;\n",
              "    }\n",
              "\n",
              "    .dataframe thead th {\n",
              "        text-align: right;\n",
              "    }\n",
              "</style>\n",
              "<table border=\"1\" class=\"dataframe\">\n",
              "  <thead>\n",
              "    <tr style=\"text-align: right;\">\n",
              "      <th></th>\n",
              "      <th>gender</th>\n",
              "      <th>age</th>\n",
              "      <th>person_id</th>\n",
              "      <th>became_member_on</th>\n",
              "      <th>income</th>\n",
              "      <th>person</th>\n",
              "      <th>event</th>\n",
              "      <th>value</th>\n",
              "      <th>time</th>\n",
              "      <th>amount</th>\n",
              "      <th>offer id</th>\n",
              "      <th>offer_id</th>\n",
              "      <th>reward_x</th>\n",
              "      <th>off_id</th>\n",
              "      <th>reward</th>\n",
              "      <th>channels</th>\n",
              "      <th>difficulty</th>\n",
              "      <th>duration</th>\n",
              "      <th>offer_type</th>\n",
              "      <th>id</th>\n",
              "    </tr>\n",
              "  </thead>\n",
              "  <tbody>\n",
              "    <tr>\n",
              "      <th>0</th>\n",
              "      <td>F</td>\n",
              "      <td>55</td>\n",
              "      <td>0610b486422d4921ae7d2bf64640c50b</td>\n",
              "      <td>20170715</td>\n",
              "      <td>112000.0</td>\n",
              "      <td>0610b486422d4921ae7d2bf64640c50b</td>\n",
              "      <td>offer received</td>\n",
              "      <td>{'offer id': '9b98b8c7a33c4b65b9aebfe6a799e6d9'}</td>\n",
              "      <td>408</td>\n",
              "      <td>NaN</td>\n",
              "      <td>9b98b8c7a33c4b65b9aebfe6a799e6d9</td>\n",
              "      <td>NaN</td>\n",
              "      <td>NaN</td>\n",
              "      <td>9b98b8c7a33c4b65b9aebfe6a799e6d9</td>\n",
              "      <td>5</td>\n",
              "      <td>[web, email, mobile]</td>\n",
              "      <td>5</td>\n",
              "      <td>7</td>\n",
              "      <td>bogo</td>\n",
              "      <td>9b98b8c7a33c4b65b9aebfe6a799e6d9</td>\n",
              "    </tr>\n",
              "    <tr>\n",
              "      <th>1</th>\n",
              "      <td>F</td>\n",
              "      <td>55</td>\n",
              "      <td>0610b486422d4921ae7d2bf64640c50b</td>\n",
              "      <td>20170715</td>\n",
              "      <td>112000.0</td>\n",
              "      <td>0610b486422d4921ae7d2bf64640c50b</td>\n",
              "      <td>offer completed</td>\n",
              "      <td>{'offer_id': '9b98b8c7a33c4b65b9aebfe6a799e6d9...</td>\n",
              "      <td>528</td>\n",
              "      <td>NaN</td>\n",
              "      <td>NaN</td>\n",
              "      <td>9b98b8c7a33c4b65b9aebfe6a799e6d9</td>\n",
              "      <td>5.0</td>\n",
              "      <td>9b98b8c7a33c4b65b9aebfe6a799e6d9</td>\n",
              "      <td>5</td>\n",
              "      <td>[web, email, mobile]</td>\n",
              "      <td>5</td>\n",
              "      <td>7</td>\n",
              "      <td>bogo</td>\n",
              "      <td>9b98b8c7a33c4b65b9aebfe6a799e6d9</td>\n",
              "    </tr>\n",
              "    <tr>\n",
              "      <th>2</th>\n",
              "      <td>F</td>\n",
              "      <td>75</td>\n",
              "      <td>78afa995795e4d85b5d9ceeca43f5fef</td>\n",
              "      <td>20170509</td>\n",
              "      <td>100000.0</td>\n",
              "      <td>78afa995795e4d85b5d9ceeca43f5fef</td>\n",
              "      <td>offer received</td>\n",
              "      <td>{'offer id': '9b98b8c7a33c4b65b9aebfe6a799e6d9'}</td>\n",
              "      <td>0</td>\n",
              "      <td>NaN</td>\n",
              "      <td>9b98b8c7a33c4b65b9aebfe6a799e6d9</td>\n",
              "      <td>NaN</td>\n",
              "      <td>NaN</td>\n",
              "      <td>9b98b8c7a33c4b65b9aebfe6a799e6d9</td>\n",
              "      <td>5</td>\n",
              "      <td>[web, email, mobile]</td>\n",
              "      <td>5</td>\n",
              "      <td>7</td>\n",
              "      <td>bogo</td>\n",
              "      <td>9b98b8c7a33c4b65b9aebfe6a799e6d9</td>\n",
              "    </tr>\n",
              "  </tbody>\n",
              "</table>\n",
              "</div>"
            ],
            "text/plain": [
              "  gender  age  ... offer_type                                id\n",
              "0      F   55  ...       bogo  9b98b8c7a33c4b65b9aebfe6a799e6d9\n",
              "1      F   55  ...       bogo  9b98b8c7a33c4b65b9aebfe6a799e6d9\n",
              "2      F   75  ...       bogo  9b98b8c7a33c4b65b9aebfe6a799e6d9\n",
              "\n",
              "[3 rows x 20 columns]"
            ]
          },
          "metadata": {},
          "execution_count": 22
        }
      ]
    },
    {
      "cell_type": "code",
      "metadata": {
        "colab": {
          "base_uri": "https://localhost:8080/",
          "height": 295
        },
        "id": "bkR2-Ws4I9Z0",
        "outputId": "e34bb770-db09-4f5d-f84b-c3c88f242975"
      },
      "source": [
        "plt.plot(df_offer_final[df_offer_final['event']=='offer received'].groupby(['offer_type']).count()['person_id'])\n",
        "plt.ylabel('Count')\n",
        "plt.xlabel('Offer Types')\n",
        "plt.title('Distribution of offers received - before cleanup');"
      ],
      "execution_count": 85,
      "outputs": [
        {
          "output_type": "display_data",
          "data": {
            "image/png": "[encoded data removed]",
            "text/plain": [
              "<Figure size 432x288 with 1 Axes>"
            ]
          },
          "metadata": {
            "needs_background": "light"
          }
        }
      ]
    },
    {
      "cell_type": "code",
      "metadata": {
        "colab": {
          "base_uri": "https://localhost:8080/",
          "height": 295
        },
        "id": "rD7xPLr9IPA1",
        "outputId": "e744e2d0-3074-4646-ed5d-876332845725"
      },
      "source": [
        "plt.plot(df_offer_final[df_offer_final['event']=='offer viewed'].groupby(['offer_type']).count()['person_id'])\n",
        "plt.ylabel('Count')\n",
        "plt.xlabel('Offer Types')\n",
        "plt.title('Distribution of offers viewed - before cleanup');"
      ],
      "execution_count": 86,
      "outputs": [
        {
          "output_type": "display_data",
          "data": {
            "image/png": "[encoded data removed]",
            "text/plain": [
              "<Figure size 432x288 with 1 Axes>"
            ]
          },
          "metadata": {
            "needs_background": "light"
          }
        }
      ]
    },
    {
      "cell_type": "code",
      "metadata": {
        "colab": {
          "base_uri": "https://localhost:8080/",
          "height": 295
        },
        "id": "72_pP5oBJH-G",
        "outputId": "8b347b70-d439-48d0-ce13-0e26919a95d5"
      },
      "source": [
        "plt.plot(df_offer_final[df_offer_final['event']=='offer completed'].groupby(['offer_type']).count()['person_id'])\n",
        "plt.ylabel('Count')\n",
        "plt.xlabel('Offer Types')\n",
        "plt.title('Distribution of offers viewed - before cleanup');"
      ],
      "execution_count": 87,
      "outputs": [
        {
          "output_type": "display_data",
          "data": {
            "image/png": "[encoded data removed]",
            "text/plain": [
              "<Figure size 432x288 with 1 Axes>"
            ]
          },
          "metadata": {
            "needs_background": "light"
          }
        }
      ]
    },
    {
      "cell_type": "code",
      "metadata": {
        "id": "1W_UGHrDGGYl"
      },
      "source": [
        "df_offer_final = df_offer_final[['age', 'became_member_on', 'gender',\n",
        "                                 'person_id', 'income', 'event', 'time', 'off_id', 'channels', \n",
        "                                'difficulty', 'duration', 'offer_type', 'reward']]"
      ],
      "execution_count": 23,
      "outputs": []
    },
    {
      "cell_type": "code",
      "metadata": {
        "colab": {
          "base_uri": "https://localhost:8080/",
          "height": 192
        },
        "id": "cMHXG92UGGYl",
        "outputId": "febd0165-347a-4243-bae2-7a77a11c8ef5"
      },
      "source": [
        "df_offer_final.head(3)"
      ],
      "execution_count": 24,
      "outputs": [
        {
          "output_type": "execute_result",
          "data": {
            "text/html": [
              "<div>\n",
              "<style scoped>\n",
              "    .dataframe tbody tr th:only-of-type {\n",
              "        vertical-align: middle;\n",
              "    }\n",
              "\n",
              "    .dataframe tbody tr th {\n",
              "        vertical-align: top;\n",
              "    }\n",
              "\n",
              "    .dataframe thead th {\n",
              "        text-align: right;\n",
              "    }\n",
              "</style>\n",
              "<table border=\"1\" class=\"dataframe\">\n",
              "  <thead>\n",
              "    <tr style=\"text-align: right;\">\n",
              "      <th></th>\n",
              "      <th>age</th>\n",
              "      <th>became_member_on</th>\n",
              "      <th>gender</th>\n",
              "      <th>person_id</th>\n",
              "      <th>income</th>\n",
              "      <th>event</th>\n",
              "      <th>time</th>\n",
              "      <th>off_id</th>\n",
              "      <th>channels</th>\n",
              "      <th>difficulty</th>\n",
              "      <th>duration</th>\n",
              "      <th>offer_type</th>\n",
              "      <th>reward</th>\n",
              "    </tr>\n",
              "  </thead>\n",
              "  <tbody>\n",
              "    <tr>\n",
              "      <th>0</th>\n",
              "      <td>55</td>\n",
              "      <td>20170715</td>\n",
              "      <td>F</td>\n",
              "      <td>0610b486422d4921ae7d2bf64640c50b</td>\n",
              "      <td>112000.0</td>\n",
              "      <td>offer received</td>\n",
              "      <td>408</td>\n",
              "      <td>9b98b8c7a33c4b65b9aebfe6a799e6d9</td>\n",
              "      <td>[web, email, mobile]</td>\n",
              "      <td>5</td>\n",
              "      <td>7</td>\n",
              "      <td>bogo</td>\n",
              "      <td>5</td>\n",
              "    </tr>\n",
              "    <tr>\n",
              "      <th>1</th>\n",
              "      <td>55</td>\n",
              "      <td>20170715</td>\n",
              "      <td>F</td>\n",
              "      <td>0610b486422d4921ae7d2bf64640c50b</td>\n",
              "      <td>112000.0</td>\n",
              "      <td>offer completed</td>\n",
              "      <td>528</td>\n",
              "      <td>9b98b8c7a33c4b65b9aebfe6a799e6d9</td>\n",
              "      <td>[web, email, mobile]</td>\n",
              "      <td>5</td>\n",
              "      <td>7</td>\n",
              "      <td>bogo</td>\n",
              "      <td>5</td>\n",
              "    </tr>\n",
              "    <tr>\n",
              "      <th>2</th>\n",
              "      <td>75</td>\n",
              "      <td>20170509</td>\n",
              "      <td>F</td>\n",
              "      <td>78afa995795e4d85b5d9ceeca43f5fef</td>\n",
              "      <td>100000.0</td>\n",
              "      <td>offer received</td>\n",
              "      <td>0</td>\n",
              "      <td>9b98b8c7a33c4b65b9aebfe6a799e6d9</td>\n",
              "      <td>[web, email, mobile]</td>\n",
              "      <td>5</td>\n",
              "      <td>7</td>\n",
              "      <td>bogo</td>\n",
              "      <td>5</td>\n",
              "    </tr>\n",
              "  </tbody>\n",
              "</table>\n",
              "</div>"
            ],
            "text/plain": [
              "   age  became_member_on gender  ... duration  offer_type reward\n",
              "0   55          20170715      F  ...        7        bogo      5\n",
              "1   55          20170715      F  ...        7        bogo      5\n",
              "2   75          20170509      F  ...        7        bogo      5\n",
              "\n",
              "[3 rows x 13 columns]"
            ]
          },
          "metadata": {},
          "execution_count": 24
        }
      ]
    },
    {
      "cell_type": "code",
      "metadata": {
        "id": "c6eQJwVXGGYm"
      },
      "source": [
        "df_offer_final.loc[(df_offer_final['age'] < 20), 'age_group'] = 'UNDER_20'\n",
        "df_offer_final.loc[(df_offer_final['age'] >= 20) & (df_offer_final['age'] <= 40), 'age_group'] = '20_40'\n",
        "df_offer_final.loc[(df_offer_final['age'] > 40) & (df_offer_final['age'] <= 60), 'age_group'] = '41_60'\n",
        "df_offer_final.loc[(df_offer_final['age'] > 60) & (df_offer_final['age'] <= 80), 'age_group'] = '61_80'\n",
        "df_offer_final.loc[(df_offer_final['age'] > 80), 'age_group'] = 'ABOVE_80'"
      ],
      "execution_count": 25,
      "outputs": []
    },
    {
      "cell_type": "code",
      "metadata": {
        "colab": {
          "base_uri": "https://localhost:8080/",
          "height": 198
        },
        "id": "fMSyhg1QGGYm",
        "outputId": "76bd2882-3bc6-4888-bb15-8bf10d395f86"
      },
      "source": [
        "df_offer_final.head(2)"
      ],
      "execution_count": 26,
      "outputs": [
        {
          "output_type": "execute_result",
          "data": {
            "text/html": [
              "<div>\n",
              "<style scoped>\n",
              "    .dataframe tbody tr th:only-of-type {\n",
              "        vertical-align: middle;\n",
              "    }\n",
              "\n",
              "    .dataframe tbody tr th {\n",
              "        vertical-align: top;\n",
              "    }\n",
              "\n",
              "    .dataframe thead th {\n",
              "        text-align: right;\n",
              "    }\n",
              "</style>\n",
              "<table border=\"1\" class=\"dataframe\">\n",
              "  <thead>\n",
              "    <tr style=\"text-align: right;\">\n",
              "      <th></th>\n",
              "      <th>age</th>\n",
              "      <th>became_member_on</th>\n",
              "      <th>gender</th>\n",
              "      <th>person_id</th>\n",
              "      <th>income</th>\n",
              "      <th>event</th>\n",
              "      <th>time</th>\n",
              "      <th>off_id</th>\n",
              "      <th>channels</th>\n",
              "      <th>difficulty</th>\n",
              "      <th>duration</th>\n",
              "      <th>offer_type</th>\n",
              "      <th>reward</th>\n",
              "      <th>age_group</th>\n",
              "    </tr>\n",
              "  </thead>\n",
              "  <tbody>\n",
              "    <tr>\n",
              "      <th>0</th>\n",
              "      <td>55</td>\n",
              "      <td>20170715</td>\n",
              "      <td>F</td>\n",
              "      <td>0610b486422d4921ae7d2bf64640c50b</td>\n",
              "      <td>112000.0</td>\n",
              "      <td>offer received</td>\n",
              "      <td>408</td>\n",
              "      <td>9b98b8c7a33c4b65b9aebfe6a799e6d9</td>\n",
              "      <td>[web, email, mobile]</td>\n",
              "      <td>5</td>\n",
              "      <td>7</td>\n",
              "      <td>bogo</td>\n",
              "      <td>5</td>\n",
              "      <td>41_60</td>\n",
              "    </tr>\n",
              "    <tr>\n",
              "      <th>1</th>\n",
              "      <td>55</td>\n",
              "      <td>20170715</td>\n",
              "      <td>F</td>\n",
              "      <td>0610b486422d4921ae7d2bf64640c50b</td>\n",
              "      <td>112000.0</td>\n",
              "      <td>offer completed</td>\n",
              "      <td>528</td>\n",
              "      <td>9b98b8c7a33c4b65b9aebfe6a799e6d9</td>\n",
              "      <td>[web, email, mobile]</td>\n",
              "      <td>5</td>\n",
              "      <td>7</td>\n",
              "      <td>bogo</td>\n",
              "      <td>5</td>\n",
              "      <td>41_60</td>\n",
              "    </tr>\n",
              "  </tbody>\n",
              "</table>\n",
              "</div>"
            ],
            "text/plain": [
              "   age  became_member_on gender  ... offer_type  reward age_group\n",
              "0   55          20170715      F  ...       bogo       5     41_60\n",
              "1   55          20170715      F  ...       bogo       5     41_60\n",
              "\n",
              "[2 rows x 14 columns]"
            ]
          },
          "metadata": {},
          "execution_count": 26
        }
      ]
    },
    {
      "cell_type": "code",
      "metadata": {
        "colab": {
          "base_uri": "https://localhost:8080/"
        },
        "id": "n3tTFQ0rGGYm",
        "outputId": "14467dc4-efc8-488a-fa4c-fbdf02c55098"
      },
      "source": [
        "from datetime import datetime\n",
        "current_year_month = int(datetime.today().strftime(\"%Y%m\"))\n",
        "current_year_month"
      ],
      "execution_count": 27,
      "outputs": [
        {
          "output_type": "execute_result",
          "data": {
            "text/plain": [
              "202109"
            ]
          },
          "metadata": {},
          "execution_count": 27
        }
      ]
    },
    {
      "cell_type": "code",
      "metadata": {
        "id": "R-H9JZduGGYm"
      },
      "source": [
        "df_offer_final['membership_age'] = current_year_month - df_offer_final['became_member_on'].apply(lambda x: int(str(x)[:6]))"
      ],
      "execution_count": 28,
      "outputs": []
    },
    {
      "cell_type": "code",
      "metadata": {
        "colab": {
          "base_uri": "https://localhost:8080/",
          "height": 142
        },
        "id": "ul3WT6oJGGYm",
        "outputId": "695959ee-0819-4db3-90e8-1d9c803540ac"
      },
      "source": [
        "df_grouped = pd.DataFrame(\n",
        "    df_offer_final.groupby(['person_id','off_id']).count()['age'])\n",
        "df_grouped = df_grouped.rename(columns={\"age\":\"count\"})\n",
        "df_grouped_agg = pd.DataFrame(df_offer_final.groupby(['person_id','off_id'])['event'].agg(list))\n",
        "df_grouped_agg = df_grouped_agg.rename(columns={\"event\": \"event_lst\"})\n",
        "df_grouped = pd.merge(df_grouped, df_grouped_agg, how='inner', left_on=['person_id', 'off_id'],\n",
        "                    right_on=['person_id', 'off_id'])\n",
        "df_grouped.head(2)"
      ],
      "execution_count": 29,
      "outputs": [
        {
          "output_type": "execute_result",
          "data": {
            "text/html": [
              "<div>\n",
              "<style scoped>\n",
              "    .dataframe tbody tr th:only-of-type {\n",
              "        vertical-align: middle;\n",
              "    }\n",
              "\n",
              "    .dataframe tbody tr th {\n",
              "        vertical-align: top;\n",
              "    }\n",
              "\n",
              "    .dataframe thead th {\n",
              "        text-align: right;\n",
              "    }\n",
              "</style>\n",
              "<table border=\"1\" class=\"dataframe\">\n",
              "  <thead>\n",
              "    <tr style=\"text-align: right;\">\n",
              "      <th></th>\n",
              "      <th></th>\n",
              "      <th>count</th>\n",
              "      <th>event_lst</th>\n",
              "    </tr>\n",
              "    <tr>\n",
              "      <th>person_id</th>\n",
              "      <th>off_id</th>\n",
              "      <th></th>\n",
              "      <th></th>\n",
              "    </tr>\n",
              "  </thead>\n",
              "  <tbody>\n",
              "    <tr>\n",
              "      <th rowspan=\"2\" valign=\"top\">0009655768c64bdeb2e877511632db8f</th>\n",
              "      <th>2906b810c7d4411798c6938adc9daaa5</th>\n",
              "      <td>2</td>\n",
              "      <td>[offer received, offer completed]</td>\n",
              "    </tr>\n",
              "    <tr>\n",
              "      <th>3f207df678b143eea3cee63160fa8bed</th>\n",
              "      <td>2</td>\n",
              "      <td>[offer received, offer viewed]</td>\n",
              "    </tr>\n",
              "  </tbody>\n",
              "</table>\n",
              "</div>"
            ],
            "text/plain": [
              "                                                                   count                          event_lst\n",
              "person_id                        off_id                                                                    \n",
              "0009655768c64bdeb2e877511632db8f 2906b810c7d4411798c6938adc9daaa5      2  [offer received, offer completed]\n",
              "                                 3f207df678b143eea3cee63160fa8bed      2     [offer received, offer viewed]"
            ]
          },
          "metadata": {},
          "execution_count": 29
        }
      ]
    },
    {
      "cell_type": "code",
      "metadata": {
        "id": "De7MH6cbGGYn"
      },
      "source": [
        "df_final = pd.merge(df_offer_final, df_grouped, how='inner', left_on=['person_id', 'off_id'],\n",
        "                    right_on=['person_id', 'off_id'])"
      ],
      "execution_count": 30,
      "outputs": []
    },
    {
      "cell_type": "code",
      "metadata": {
        "colab": {
          "base_uri": "https://localhost:8080/",
          "height": 231
        },
        "id": "UAMry_NcGGYn",
        "outputId": "a3501759-6788-40f4-8d89-116813257b92"
      },
      "source": [
        "df_final.head(2)"
      ],
      "execution_count": 31,
      "outputs": [
        {
          "output_type": "execute_result",
          "data": {
            "text/html": [
              "<div>\n",
              "<style scoped>\n",
              "    .dataframe tbody tr th:only-of-type {\n",
              "        vertical-align: middle;\n",
              "    }\n",
              "\n",
              "    .dataframe tbody tr th {\n",
              "        vertical-align: top;\n",
              "    }\n",
              "\n",
              "    .dataframe thead th {\n",
              "        text-align: right;\n",
              "    }\n",
              "</style>\n",
              "<table border=\"1\" class=\"dataframe\">\n",
              "  <thead>\n",
              "    <tr style=\"text-align: right;\">\n",
              "      <th></th>\n",
              "      <th>age</th>\n",
              "      <th>became_member_on</th>\n",
              "      <th>gender</th>\n",
              "      <th>person_id</th>\n",
              "      <th>income</th>\n",
              "      <th>event</th>\n",
              "      <th>time</th>\n",
              "      <th>off_id</th>\n",
              "      <th>channels</th>\n",
              "      <th>difficulty</th>\n",
              "      <th>duration</th>\n",
              "      <th>offer_type</th>\n",
              "      <th>reward</th>\n",
              "      <th>age_group</th>\n",
              "      <th>membership_age</th>\n",
              "      <th>count</th>\n",
              "      <th>event_lst</th>\n",
              "    </tr>\n",
              "  </thead>\n",
              "  <tbody>\n",
              "    <tr>\n",
              "      <th>0</th>\n",
              "      <td>55</td>\n",
              "      <td>20170715</td>\n",
              "      <td>F</td>\n",
              "      <td>0610b486422d4921ae7d2bf64640c50b</td>\n",
              "      <td>112000.0</td>\n",
              "      <td>offer received</td>\n",
              "      <td>408</td>\n",
              "      <td>9b98b8c7a33c4b65b9aebfe6a799e6d9</td>\n",
              "      <td>[web, email, mobile]</td>\n",
              "      <td>5</td>\n",
              "      <td>7</td>\n",
              "      <td>bogo</td>\n",
              "      <td>5</td>\n",
              "      <td>41_60</td>\n",
              "      <td>402</td>\n",
              "      <td>2</td>\n",
              "      <td>[offer received, offer completed]</td>\n",
              "    </tr>\n",
              "    <tr>\n",
              "      <th>1</th>\n",
              "      <td>55</td>\n",
              "      <td>20170715</td>\n",
              "      <td>F</td>\n",
              "      <td>0610b486422d4921ae7d2bf64640c50b</td>\n",
              "      <td>112000.0</td>\n",
              "      <td>offer completed</td>\n",
              "      <td>528</td>\n",
              "      <td>9b98b8c7a33c4b65b9aebfe6a799e6d9</td>\n",
              "      <td>[web, email, mobile]</td>\n",
              "      <td>5</td>\n",
              "      <td>7</td>\n",
              "      <td>bogo</td>\n",
              "      <td>5</td>\n",
              "      <td>41_60</td>\n",
              "      <td>402</td>\n",
              "      <td>2</td>\n",
              "      <td>[offer received, offer completed]</td>\n",
              "    </tr>\n",
              "  </tbody>\n",
              "</table>\n",
              "</div>"
            ],
            "text/plain": [
              "   age  became_member_on  ... count                          event_lst\n",
              "0   55          20170715  ...     2  [offer received, offer completed]\n",
              "1   55          20170715  ...     2  [offer received, offer completed]\n",
              "\n",
              "[2 rows x 17 columns]"
            ]
          },
          "metadata": {},
          "execution_count": 31
        }
      ]
    },
    {
      "cell_type": "code",
      "metadata": {
        "colab": {
          "base_uri": "https://localhost:8080/"
        },
        "id": "Za2nm9uxGGYn",
        "outputId": "4846eda9-e98c-447a-d50b-d824f0ae5344"
      },
      "source": [
        "df_final.count()"
      ],
      "execution_count": 32,
      "outputs": [
        {
          "output_type": "execute_result",
          "data": {
            "text/plain": [
              "age                 148628\n",
              "became_member_on    148628\n",
              "gender              148628\n",
              "person_id           148628\n",
              "income              148628\n",
              "event               148628\n",
              "time                148628\n",
              "off_id              148628\n",
              "channels            148628\n",
              "difficulty          148628\n",
              "duration            148628\n",
              "offer_type          148628\n",
              "reward              148628\n",
              "age_group           148628\n",
              "membership_age      148628\n",
              "count               148628\n",
              "event_lst           148628\n",
              "dtype: int64"
            ]
          },
          "metadata": {},
          "execution_count": 32
        }
      ]
    },
    {
      "cell_type": "code",
      "metadata": {
        "id": "BTg6WcyrIoaV"
      },
      "source": [
        "df_completed = df_final[df_final['event']=='offer completed']"
      ],
      "execution_count": 33,
      "outputs": []
    },
    {
      "cell_type": "code",
      "metadata": {
        "colab": {
          "base_uri": "https://localhost:8080/"
        },
        "id": "AzL_l6moM7hA",
        "outputId": "27c46615-b0fe-449c-dc24-f36d50688526"
      },
      "source": [
        "df_completed['person_id'].values"
      ],
      "execution_count": 34,
      "outputs": [
        {
          "output_type": "execute_result",
          "data": {
            "text/plain": [
              "array(['0610b486422d4921ae7d2bf64640c50b',\n",
              "       '78afa995795e4d85b5d9ceeca43f5fef',\n",
              "       'e2127556f4f64592b11af22de27a7932', ...,\n",
              "       '122c0c2a3c2540848f8c3fdc37e97639',\n",
              "       '54bead4179c44b71acc4e8398181d183',\n",
              "       '9dc1421481194dcd9400aec7c9ae6366'], dtype=object)"
            ]
          },
          "metadata": {},
          "execution_count": 34
        }
      ]
    },
    {
      "cell_type": "code",
      "metadata": {
        "id": "YSkCOfSiJZUW"
      },
      "source": [
        "df = df_final[~df_final['person_id'].isin(df_completed['person_id'].values)]"
      ],
      "execution_count": 35,
      "outputs": []
    },
    {
      "cell_type": "code",
      "metadata": {
        "colab": {
          "base_uri": "https://localhost:8080/"
        },
        "id": "LqsmUSC_NCT8",
        "outputId": "478d3e76-7ea5-49c6-b0e0-bac9273dff4f"
      },
      "source": [
        "df.count()"
      ],
      "execution_count": 36,
      "outputs": [
        {
          "output_type": "execute_result",
          "data": {
            "text/plain": [
              "age                 20032\n",
              "became_member_on    20032\n",
              "gender              20032\n",
              "person_id           20032\n",
              "income              20032\n",
              "event               20032\n",
              "time                20032\n",
              "off_id              20032\n",
              "channels            20032\n",
              "difficulty          20032\n",
              "duration            20032\n",
              "offer_type          20032\n",
              "reward              20032\n",
              "age_group           20032\n",
              "membership_age      20032\n",
              "count               20032\n",
              "event_lst           20032\n",
              "dtype: int64"
            ]
          },
          "metadata": {},
          "execution_count": 36
        }
      ]
    },
    {
      "cell_type": "code",
      "metadata": {
        "colab": {
          "base_uri": "https://localhost:8080/",
          "height": 814
        },
        "id": "wbOo_2GSNFjW",
        "outputId": "a1e000b5-c7cf-4b27-94a9-7ca21c381bb2"
      },
      "source": [
        "df.head(10)"
      ],
      "execution_count": 37,
      "outputs": [
        {
          "output_type": "execute_result",
          "data": {
            "text/html": [
              "<div>\n",
              "<style scoped>\n",
              "    .dataframe tbody tr th:only-of-type {\n",
              "        vertical-align: middle;\n",
              "    }\n",
              "\n",
              "    .dataframe tbody tr th {\n",
              "        vertical-align: top;\n",
              "    }\n",
              "\n",
              "    .dataframe thead th {\n",
              "        text-align: right;\n",
              "    }\n",
              "</style>\n",
              "<table border=\"1\" class=\"dataframe\">\n",
              "  <thead>\n",
              "    <tr style=\"text-align: right;\">\n",
              "      <th></th>\n",
              "      <th>age</th>\n",
              "      <th>became_member_on</th>\n",
              "      <th>gender</th>\n",
              "      <th>person_id</th>\n",
              "      <th>income</th>\n",
              "      <th>event</th>\n",
              "      <th>time</th>\n",
              "      <th>off_id</th>\n",
              "      <th>channels</th>\n",
              "      <th>difficulty</th>\n",
              "      <th>duration</th>\n",
              "      <th>offer_type</th>\n",
              "      <th>reward</th>\n",
              "      <th>age_group</th>\n",
              "      <th>membership_age</th>\n",
              "      <th>count</th>\n",
              "      <th>event_lst</th>\n",
              "    </tr>\n",
              "  </thead>\n",
              "  <tbody>\n",
              "    <tr>\n",
              "      <th>16</th>\n",
              "      <td>61</td>\n",
              "      <td>20180501</td>\n",
              "      <td>F</td>\n",
              "      <td>a448667f336b42c9a66fc5ffd5d73772</td>\n",
              "      <td>40000.0</td>\n",
              "      <td>offer received</td>\n",
              "      <td>0</td>\n",
              "      <td>9b98b8c7a33c4b65b9aebfe6a799e6d9</td>\n",
              "      <td>[web, email, mobile]</td>\n",
              "      <td>5</td>\n",
              "      <td>7</td>\n",
              "      <td>bogo</td>\n",
              "      <td>5</td>\n",
              "      <td>61_80</td>\n",
              "      <td>304</td>\n",
              "      <td>1</td>\n",
              "      <td>[offer received]</td>\n",
              "    </tr>\n",
              "    <tr>\n",
              "      <th>68</th>\n",
              "      <td>62</td>\n",
              "      <td>20180410</td>\n",
              "      <td>F</td>\n",
              "      <td>ffc6c9fbe34b4578911dcdf6745b4c74</td>\n",
              "      <td>57000.0</td>\n",
              "      <td>offer received</td>\n",
              "      <td>168</td>\n",
              "      <td>9b98b8c7a33c4b65b9aebfe6a799e6d9</td>\n",
              "      <td>[web, email, mobile]</td>\n",
              "      <td>5</td>\n",
              "      <td>7</td>\n",
              "      <td>bogo</td>\n",
              "      <td>5</td>\n",
              "      <td>61_80</td>\n",
              "      <td>305</td>\n",
              "      <td>2</td>\n",
              "      <td>[offer received, offer viewed]</td>\n",
              "    </tr>\n",
              "    <tr>\n",
              "      <th>69</th>\n",
              "      <td>62</td>\n",
              "      <td>20180410</td>\n",
              "      <td>F</td>\n",
              "      <td>ffc6c9fbe34b4578911dcdf6745b4c74</td>\n",
              "      <td>57000.0</td>\n",
              "      <td>offer viewed</td>\n",
              "      <td>174</td>\n",
              "      <td>9b98b8c7a33c4b65b9aebfe6a799e6d9</td>\n",
              "      <td>[web, email, mobile]</td>\n",
              "      <td>5</td>\n",
              "      <td>7</td>\n",
              "      <td>bogo</td>\n",
              "      <td>5</td>\n",
              "      <td>61_80</td>\n",
              "      <td>305</td>\n",
              "      <td>2</td>\n",
              "      <td>[offer received, offer viewed]</td>\n",
              "    </tr>\n",
              "    <tr>\n",
              "      <th>83</th>\n",
              "      <td>74</td>\n",
              "      <td>20180712</td>\n",
              "      <td>M</td>\n",
              "      <td>e641af076cc54529bec6ab61fc25f4a6</td>\n",
              "      <td>48000.0</td>\n",
              "      <td>offer received</td>\n",
              "      <td>168</td>\n",
              "      <td>9b98b8c7a33c4b65b9aebfe6a799e6d9</td>\n",
              "      <td>[web, email, mobile]</td>\n",
              "      <td>5</td>\n",
              "      <td>7</td>\n",
              "      <td>bogo</td>\n",
              "      <td>5</td>\n",
              "      <td>61_80</td>\n",
              "      <td>302</td>\n",
              "      <td>2</td>\n",
              "      <td>[offer received, offer viewed]</td>\n",
              "    </tr>\n",
              "    <tr>\n",
              "      <th>84</th>\n",
              "      <td>74</td>\n",
              "      <td>20180712</td>\n",
              "      <td>M</td>\n",
              "      <td>e641af076cc54529bec6ab61fc25f4a6</td>\n",
              "      <td>48000.0</td>\n",
              "      <td>offer viewed</td>\n",
              "      <td>252</td>\n",
              "      <td>9b98b8c7a33c4b65b9aebfe6a799e6d9</td>\n",
              "      <td>[web, email, mobile]</td>\n",
              "      <td>5</td>\n",
              "      <td>7</td>\n",
              "      <td>bogo</td>\n",
              "      <td>5</td>\n",
              "      <td>61_80</td>\n",
              "      <td>302</td>\n",
              "      <td>2</td>\n",
              "      <td>[offer received, offer viewed]</td>\n",
              "    </tr>\n",
              "    <tr>\n",
              "      <th>90</th>\n",
              "      <td>26</td>\n",
              "      <td>20171211</td>\n",
              "      <td>M</td>\n",
              "      <td>e997a086fc13446da2aa9070d98d191a</td>\n",
              "      <td>71000.0</td>\n",
              "      <td>offer received</td>\n",
              "      <td>504</td>\n",
              "      <td>9b98b8c7a33c4b65b9aebfe6a799e6d9</td>\n",
              "      <td>[web, email, mobile]</td>\n",
              "      <td>5</td>\n",
              "      <td>7</td>\n",
              "      <td>bogo</td>\n",
              "      <td>5</td>\n",
              "      <td>20_40</td>\n",
              "      <td>397</td>\n",
              "      <td>1</td>\n",
              "      <td>[offer received]</td>\n",
              "    </tr>\n",
              "    <tr>\n",
              "      <th>91</th>\n",
              "      <td>43</td>\n",
              "      <td>20170915</td>\n",
              "      <td>M</td>\n",
              "      <td>bf8d7498eb32431ab3fedaa14b7d3a0d</td>\n",
              "      <td>70000.0</td>\n",
              "      <td>offer received</td>\n",
              "      <td>168</td>\n",
              "      <td>9b98b8c7a33c4b65b9aebfe6a799e6d9</td>\n",
              "      <td>[web, email, mobile]</td>\n",
              "      <td>5</td>\n",
              "      <td>7</td>\n",
              "      <td>bogo</td>\n",
              "      <td>5</td>\n",
              "      <td>41_60</td>\n",
              "      <td>400</td>\n",
              "      <td>2</td>\n",
              "      <td>[offer received, offer viewed]</td>\n",
              "    </tr>\n",
              "    <tr>\n",
              "      <th>92</th>\n",
              "      <td>43</td>\n",
              "      <td>20170915</td>\n",
              "      <td>M</td>\n",
              "      <td>bf8d7498eb32431ab3fedaa14b7d3a0d</td>\n",
              "      <td>70000.0</td>\n",
              "      <td>offer viewed</td>\n",
              "      <td>222</td>\n",
              "      <td>9b98b8c7a33c4b65b9aebfe6a799e6d9</td>\n",
              "      <td>[web, email, mobile]</td>\n",
              "      <td>5</td>\n",
              "      <td>7</td>\n",
              "      <td>bogo</td>\n",
              "      <td>5</td>\n",
              "      <td>41_60</td>\n",
              "      <td>400</td>\n",
              "      <td>2</td>\n",
              "      <td>[offer received, offer viewed]</td>\n",
              "    </tr>\n",
              "    <tr>\n",
              "      <th>103</th>\n",
              "      <td>20</td>\n",
              "      <td>20180528</td>\n",
              "      <td>M</td>\n",
              "      <td>220a39cdfd6b41268c43a2e588fcb7e0</td>\n",
              "      <td>69000.0</td>\n",
              "      <td>offer received</td>\n",
              "      <td>168</td>\n",
              "      <td>9b98b8c7a33c4b65b9aebfe6a799e6d9</td>\n",
              "      <td>[web, email, mobile]</td>\n",
              "      <td>5</td>\n",
              "      <td>7</td>\n",
              "      <td>bogo</td>\n",
              "      <td>5</td>\n",
              "      <td>20_40</td>\n",
              "      <td>304</td>\n",
              "      <td>1</td>\n",
              "      <td>[offer received]</td>\n",
              "    </tr>\n",
              "    <tr>\n",
              "      <th>107</th>\n",
              "      <td>72</td>\n",
              "      <td>20180601</td>\n",
              "      <td>M</td>\n",
              "      <td>1827da57bb924833a6f73c79b5f2bbc5</td>\n",
              "      <td>33000.0</td>\n",
              "      <td>offer received</td>\n",
              "      <td>0</td>\n",
              "      <td>9b98b8c7a33c4b65b9aebfe6a799e6d9</td>\n",
              "      <td>[web, email, mobile]</td>\n",
              "      <td>5</td>\n",
              "      <td>7</td>\n",
              "      <td>bogo</td>\n",
              "      <td>5</td>\n",
              "      <td>61_80</td>\n",
              "      <td>303</td>\n",
              "      <td>1</td>\n",
              "      <td>[offer received]</td>\n",
              "    </tr>\n",
              "  </tbody>\n",
              "</table>\n",
              "</div>"
            ],
            "text/plain": [
              "     age  became_member_on  ... count                       event_lst\n",
              "16    61          20180501  ...     1                [offer received]\n",
              "68    62          20180410  ...     2  [offer received, offer viewed]\n",
              "69    62          20180410  ...     2  [offer received, offer viewed]\n",
              "83    74          20180712  ...     2  [offer received, offer viewed]\n",
              "84    74          20180712  ...     2  [offer received, offer viewed]\n",
              "90    26          20171211  ...     1                [offer received]\n",
              "91    43          20170915  ...     2  [offer received, offer viewed]\n",
              "92    43          20170915  ...     2  [offer received, offer viewed]\n",
              "103   20          20180528  ...     1                [offer received]\n",
              "107   72          20180601  ...     1                [offer received]\n",
              "\n",
              "[10 rows x 17 columns]"
            ]
          },
          "metadata": {},
          "execution_count": 37
        }
      ]
    },
    {
      "cell_type": "code",
      "metadata": {
        "id": "WSLqsrApNc5Y"
      },
      "source": [
        "df_received = df[df['event'] == 'offer received']"
      ],
      "execution_count": 38,
      "outputs": []
    },
    {
      "cell_type": "code",
      "metadata": {
        "id": "VyOqyv02NmIW"
      },
      "source": [
        "df = df_completed.append(df_received)\n",
        "df = df.join(df.channels.str.join('|').str.get_dummies())\n",
        "df = df.join(df.offer_type.str.get_dummies())\n",
        "df = df.join(df.age_group.str.get_dummies())\n",
        "df = df.join(df.gender.str.get_dummies())\n",
        "df['event_enc'] = df['event'].map({'offer received':0, 'offer completed':1})"
      ],
      "execution_count": 39,
      "outputs": []
    },
    {
      "cell_type": "code",
      "metadata": {
        "colab": {
          "base_uri": "https://localhost:8080/",
          "height": 380
        },
        "id": "8V5gRq4CJB_U",
        "outputId": "4ab9fbe1-d12e-491a-e2c3-15060aef954e"
      },
      "source": [
        "df.head(3)"
      ],
      "execution_count": 40,
      "outputs": [
        {
          "output_type": "execute_result",
          "data": {
            "text/html": [
              "<div>\n",
              "<style scoped>\n",
              "    .dataframe tbody tr th:only-of-type {\n",
              "        vertical-align: middle;\n",
              "    }\n",
              "\n",
              "    .dataframe tbody tr th {\n",
              "        vertical-align: top;\n",
              "    }\n",
              "\n",
              "    .dataframe thead th {\n",
              "        text-align: right;\n",
              "    }\n",
              "</style>\n",
              "<table border=\"1\" class=\"dataframe\">\n",
              "  <thead>\n",
              "    <tr style=\"text-align: right;\">\n",
              "      <th></th>\n",
              "      <th>age</th>\n",
              "      <th>became_member_on</th>\n",
              "      <th>gender</th>\n",
              "      <th>person_id</th>\n",
              "      <th>income</th>\n",
              "      <th>event</th>\n",
              "      <th>time</th>\n",
              "      <th>off_id</th>\n",
              "      <th>channels</th>\n",
              "      <th>difficulty</th>\n",
              "      <th>duration</th>\n",
              "      <th>offer_type</th>\n",
              "      <th>reward</th>\n",
              "      <th>age_group</th>\n",
              "      <th>membership_age</th>\n",
              "      <th>count</th>\n",
              "      <th>event_lst</th>\n",
              "      <th>email</th>\n",
              "      <th>mobile</th>\n",
              "      <th>social</th>\n",
              "      <th>web</th>\n",
              "      <th>bogo</th>\n",
              "      <th>discount</th>\n",
              "      <th>informational</th>\n",
              "      <th>20_40</th>\n",
              "      <th>41_60</th>\n",
              "      <th>61_80</th>\n",
              "      <th>ABOVE_80</th>\n",
              "      <th>UNDER_20</th>\n",
              "      <th>F</th>\n",
              "      <th>M</th>\n",
              "      <th>O</th>\n",
              "      <th>event_enc</th>\n",
              "    </tr>\n",
              "  </thead>\n",
              "  <tbody>\n",
              "    <tr>\n",
              "      <th>1</th>\n",
              "      <td>55</td>\n",
              "      <td>20170715</td>\n",
              "      <td>F</td>\n",
              "      <td>0610b486422d4921ae7d2bf64640c50b</td>\n",
              "      <td>112000.0</td>\n",
              "      <td>offer completed</td>\n",
              "      <td>528</td>\n",
              "      <td>9b98b8c7a33c4b65b9aebfe6a799e6d9</td>\n",
              "      <td>[web, email, mobile]</td>\n",
              "      <td>5</td>\n",
              "      <td>7</td>\n",
              "      <td>bogo</td>\n",
              "      <td>5</td>\n",
              "      <td>41_60</td>\n",
              "      <td>402</td>\n",
              "      <td>2</td>\n",
              "      <td>[offer received, offer completed]</td>\n",
              "      <td>1</td>\n",
              "      <td>1</td>\n",
              "      <td>0</td>\n",
              "      <td>1</td>\n",
              "      <td>1</td>\n",
              "      <td>0</td>\n",
              "      <td>0</td>\n",
              "      <td>0</td>\n",
              "      <td>1</td>\n",
              "      <td>0</td>\n",
              "      <td>0</td>\n",
              "      <td>0</td>\n",
              "      <td>1</td>\n",
              "      <td>0</td>\n",
              "      <td>0</td>\n",
              "      <td>1</td>\n",
              "    </tr>\n",
              "    <tr>\n",
              "      <th>4</th>\n",
              "      <td>75</td>\n",
              "      <td>20170509</td>\n",
              "      <td>F</td>\n",
              "      <td>78afa995795e4d85b5d9ceeca43f5fef</td>\n",
              "      <td>100000.0</td>\n",
              "      <td>offer completed</td>\n",
              "      <td>132</td>\n",
              "      <td>9b98b8c7a33c4b65b9aebfe6a799e6d9</td>\n",
              "      <td>[web, email, mobile]</td>\n",
              "      <td>5</td>\n",
              "      <td>7</td>\n",
              "      <td>bogo</td>\n",
              "      <td>5</td>\n",
              "      <td>61_80</td>\n",
              "      <td>404</td>\n",
              "      <td>3</td>\n",
              "      <td>[offer received, offer viewed, offer completed]</td>\n",
              "      <td>1</td>\n",
              "      <td>1</td>\n",
              "      <td>0</td>\n",
              "      <td>1</td>\n",
              "      <td>1</td>\n",
              "      <td>0</td>\n",
              "      <td>0</td>\n",
              "      <td>0</td>\n",
              "      <td>0</td>\n",
              "      <td>1</td>\n",
              "      <td>0</td>\n",
              "      <td>0</td>\n",
              "      <td>1</td>\n",
              "      <td>0</td>\n",
              "      <td>0</td>\n",
              "      <td>1</td>\n",
              "    </tr>\n",
              "    <tr>\n",
              "      <th>7</th>\n",
              "      <td>68</td>\n",
              "      <td>20180426</td>\n",
              "      <td>M</td>\n",
              "      <td>e2127556f4f64592b11af22de27a7932</td>\n",
              "      <td>70000.0</td>\n",
              "      <td>offer completed</td>\n",
              "      <td>522</td>\n",
              "      <td>9b98b8c7a33c4b65b9aebfe6a799e6d9</td>\n",
              "      <td>[web, email, mobile]</td>\n",
              "      <td>5</td>\n",
              "      <td>7</td>\n",
              "      <td>bogo</td>\n",
              "      <td>5</td>\n",
              "      <td>61_80</td>\n",
              "      <td>305</td>\n",
              "      <td>3</td>\n",
              "      <td>[offer received, offer viewed, offer completed]</td>\n",
              "      <td>1</td>\n",
              "      <td>1</td>\n",
              "      <td>0</td>\n",
              "      <td>1</td>\n",
              "      <td>1</td>\n",
              "      <td>0</td>\n",
              "      <td>0</td>\n",
              "      <td>0</td>\n",
              "      <td>0</td>\n",
              "      <td>1</td>\n",
              "      <td>0</td>\n",
              "      <td>0</td>\n",
              "      <td>0</td>\n",
              "      <td>1</td>\n",
              "      <td>0</td>\n",
              "      <td>1</td>\n",
              "    </tr>\n",
              "  </tbody>\n",
              "</table>\n",
              "</div>"
            ],
            "text/plain": [
              "   age  became_member_on gender  ...  M  O event_enc\n",
              "1   55          20170715      F  ...  0  0         1\n",
              "4   75          20170509      F  ...  0  0         1\n",
              "7   68          20180426      M  ...  1  0         1\n",
              "\n",
              "[3 rows x 33 columns]"
            ]
          },
          "metadata": {},
          "execution_count": 40
        }
      ]
    },
    {
      "cell_type": "code",
      "metadata": {
        "colab": {
          "base_uri": "https://localhost:8080/"
        },
        "id": "QsrgmyDMGGYo",
        "outputId": "fd7c10c2-fca4-43aa-e96d-e299dbe4f5e6"
      },
      "source": [
        "df['event_enc'].value_counts()"
      ],
      "execution_count": 41,
      "outputs": [
        {
          "output_type": "execute_result",
          "data": {
            "text/plain": [
              "1    32399\n",
              "0    12104\n",
              "Name: event_enc, dtype: int64"
            ]
          },
          "metadata": {},
          "execution_count": 41
        }
      ]
    },
    {
      "cell_type": "code",
      "metadata": {
        "id": "eH2E80W6GGYo"
      },
      "source": [
        "%matplotlib inline\n",
        "import matplotlib.pyplot as plt\n"
      ],
      "execution_count": 42,
      "outputs": []
    },
    {
      "cell_type": "code",
      "metadata": {
        "colab": {
          "base_uri": "https://localhost:8080/"
        },
        "id": "Q7SgKaca-gEu",
        "outputId": "53249428-0d40-4a6f-9d4b-8b9389aff700"
      },
      "source": [
        "df.age.describe()"
      ],
      "execution_count": 43,
      "outputs": [
        {
          "output_type": "execute_result",
          "data": {
            "text/plain": [
              "count    44503.000000\n",
              "mean        54.420691\n",
              "std         17.361393\n",
              "min         18.000000\n",
              "25%         43.000000\n",
              "50%         55.000000\n",
              "75%         67.000000\n",
              "max         99.000000\n",
              "Name: age, dtype: float64"
            ]
          },
          "metadata": {},
          "execution_count": 43
        }
      ]
    },
    {
      "cell_type": "code",
      "metadata": {
        "colab": {
          "base_uri": "https://localhost:8080/",
          "height": 295
        },
        "id": "GEI-9a2p-yRT",
        "outputId": "2181f1a0-15fd-425e-a225-4b4c6e5ce684"
      },
      "source": [
        "df.age.hist(bins = 30)\n",
        "plt.xlabel('Age Group')\n",
        "plt.ylabel('Count')\n",
        "plt.title('Age Group Distribution - before Encoding');"
      ],
      "execution_count": 46,
      "outputs": [
        {
          "output_type": "display_data",
          "data": {
            "image/png": "[encoded data removed]",
            "text/plain": [
              "<Figure size 432x288 with 1 Axes>"
            ]
          },
          "metadata": {
            "needs_background": "light"
          }
        }
      ]
    },
    {
      "cell_type": "code",
      "metadata": {
        "colab": {
          "base_uri": "https://localhost:8080/"
        },
        "id": "Y0A7R4RgO2ZR",
        "outputId": "b901942c-e3f1-441e-e19b-a82c8fcef4aa"
      },
      "source": [
        "df['age_group'].value_counts()"
      ],
      "execution_count": 47,
      "outputs": [
        {
          "output_type": "execute_result",
          "data": {
            "text/plain": [
              "41_60       17962\n",
              "61_80       13758\n",
              "20_40        9245\n",
              "ABOVE_80     2919\n",
              "UNDER_20      619\n",
              "Name: age_group, dtype: int64"
            ]
          },
          "metadata": {},
          "execution_count": 47
        }
      ]
    },
    {
      "cell_type": "code",
      "metadata": {
        "colab": {
          "base_uri": "https://localhost:8080/",
          "height": 296
        },
        "id": "ya_s991GGGYo",
        "outputId": "c9660d7b-ddd9-4737-bb1e-06e521b406cc"
      },
      "source": [
        "plt.bar(df['age_group'].unique(), df['age_group'].value_counts())\n",
        "plt.xlabel('Age Group')\n",
        "plt.ylabel('Count')\n",
        "plt.title('Age Group Distribution - after Encoding');\n",
        "plt.show()"
      ],
      "execution_count": 48,
      "outputs": [
        {
          "output_type": "display_data",
          "data": {
            "image/png": "[encoded data removed]",
            "text/plain": [
              "<Figure size 432x288 with 1 Axes>"
            ]
          },
          "metadata": {
            "needs_background": "light"
          }
        }
      ]
    },
    {
      "cell_type": "code",
      "metadata": {
        "colab": {
          "base_uri": "https://localhost:8080/"
        },
        "id": "-rt77GujATyv",
        "outputId": "77a6f359-e012-4dbe-af28-8fe7e9cab93b"
      },
      "source": [
        "df.income.describe()"
      ],
      "execution_count": 54,
      "outputs": [
        {
          "output_type": "execute_result",
          "data": {
            "text/plain": [
              "count     44503.000000\n",
              "mean      65471.361481\n",
              "std       21573.297288\n",
              "min       30000.000000\n",
              "25%       49000.000000\n",
              "50%       64000.000000\n",
              "75%       80000.000000\n",
              "max      120000.000000\n",
              "Name: income, dtype: float64"
            ]
          },
          "metadata": {},
          "execution_count": 54
        }
      ]
    },
    {
      "cell_type": "code",
      "metadata": {
        "colab": {
          "base_uri": "https://localhost:8080/",
          "height": 282
        },
        "id": "hrkV3L90Ar9U",
        "outputId": "f10796a9-0b03-408b-b76d-77c10dad196b"
      },
      "source": [
        "plt.plot(df.income.describe()[['25%', '50%', '75%', 'max']])"
      ],
      "execution_count": 60,
      "outputs": [
        {
          "output_type": "execute_result",
          "data": {
            "text/plain": [
              "[<matplotlib.lines.Line2D at 0x7f819c9fde50>]"
            ]
          },
          "metadata": {},
          "execution_count": 60
        },
        {
          "output_type": "display_data",
          "data": {
            "image/png": "[encoded data removed]",
            "text/plain": [
              "<Figure size 432x288 with 1 Axes>"
            ]
          },
          "metadata": {
            "needs_background": "light"
          }
        }
      ]
    },
    {
      "cell_type": "code",
      "metadata": {
        "colab": {
          "base_uri": "https://localhost:8080/",
          "height": 295
        },
        "id": "0sMEDy-uAasz",
        "outputId": "16592f82-7350-48f5-bcf2-6eb2e0b88ecb"
      },
      "source": [
        "df.income.hist(bins = 30);\n",
        "plt.xlabel('Income Range')\n",
        "plt.ylabel('Count')\n",
        "plt.title('Income Range Distribution');"
      ],
      "execution_count": 51,
      "outputs": [
        {
          "output_type": "display_data",
          "data": {
            "image/png": "[encoded data removed]",
            "text/plain": [
              "<Figure size 432x288 with 1 Axes>"
            ]
          },
          "metadata": {
            "needs_background": "light"
          }
        }
      ]
    },
    {
      "cell_type": "code",
      "metadata": {
        "colab": {
          "base_uri": "https://localhost:8080/",
          "height": 294
        },
        "id": "lD9PUW96DN_A",
        "outputId": "581f4525-4452-4fe0-fce4-bd10a200175d"
      },
      "source": [
        "gend = df.gender.value_counts()\n",
        "gend.plot(kind='bar')\n",
        "plt.ylabel('Number of People')\n",
        "plt.xlabel('Gender')\n",
        "plt.title('Gender Distribution');"
      ],
      "execution_count": 61,
      "outputs": [
        {
          "output_type": "display_data",
          "data": {
            "image/png": "[encoded data removed]",
            "text/plain": [
              "<Figure size 432x288 with 1 Axes>"
            ]
          },
          "metadata": {
            "needs_background": "light"
          }
        }
      ]
    },
    {
      "cell_type": "code",
      "metadata": {
        "colab": {
          "base_uri": "https://localhost:8080/"
        },
        "id": "BI8FD6RnD_u-",
        "outputId": "a9e2de13-1b34-4753-e51b-709fbe649325"
      },
      "source": [
        "df.event.value_counts()"
      ],
      "execution_count": 64,
      "outputs": [
        {
          "output_type": "execute_result",
          "data": {
            "text/plain": [
              "offer completed    32399\n",
              "offer received     12104\n",
              "Name: event, dtype: int64"
            ]
          },
          "metadata": {},
          "execution_count": 64
        }
      ]
    },
    {
      "cell_type": "code",
      "metadata": {
        "colab": {
          "base_uri": "https://localhost:8080/"
        },
        "id": "-ROiUy60EaIb",
        "outputId": "498ad2e7-f518-42f2-d913-79985e4b2acc"
      },
      "source": [
        "df.groupby(['event', 'offer_type']).count()['person_id']"
      ],
      "execution_count": 70,
      "outputs": [
        {
          "output_type": "execute_result",
          "data": {
            "text/plain": [
              "event            offer_type   \n",
              "offer completed  bogo             15239\n",
              "                 discount         17160\n",
              "offer received   bogo              4703\n",
              "                 discount          4459\n",
              "                 informational     2942\n",
              "Name: person_id, dtype: int64"
            ]
          },
          "metadata": {},
          "execution_count": 70
        }
      ]
    },
    {
      "cell_type": "code",
      "metadata": {
        "colab": {
          "base_uri": "https://localhost:8080/",
          "height": 295
        },
        "id": "qoK_-gq7FcO9",
        "outputId": "7b3a1051-2d6b-4ad8-deef-ac7209856cae"
      },
      "source": [
        "plt.plot(df[df['event']=='offer received'].groupby(['offer_type']).count()['person_id'])\n",
        "plt.ylabel('Count')\n",
        "plt.xlabel('Offer Types')\n",
        "plt.title('Distribution of offers received');"
      ],
      "execution_count": 80,
      "outputs": [
        {
          "output_type": "display_data",
          "data": {
            "image/png": "[encoded data removed]",
            "text/plain": [
              "<Figure size 432x288 with 1 Axes>"
            ]
          },
          "metadata": {
            "needs_background": "light"
          }
        }
      ]
    },
    {
      "cell_type": "code",
      "metadata": {
        "colab": {
          "base_uri": "https://localhost:8080/",
          "height": 295
        },
        "id": "sMo-KXqCG2p5",
        "outputId": "a44b7ae9-aef5-4ee6-b5d0-a2f253a955bd"
      },
      "source": [
        "plt.plot(df[df['event']=='offer completed'].groupby(['offer_type']).count()['person_id'])\n",
        "plt.ylabel('Count')\n",
        "plt.xlabel('Offer Types')\n",
        "plt.title('Distribution of offers completed');"
      ],
      "execution_count": 82,
      "outputs": [
        {
          "output_type": "display_data",
          "data": {
            "image/png": "[encoded data removed]",
            "text/plain": [
              "<Figure size 432x288 with 1 Axes>"
            ]
          },
          "metadata": {
            "needs_background": "light"
          }
        }
      ]
    },
    {
      "cell_type": "code",
      "metadata": {
        "id": "KVs6iIrnGGYo"
      },
      "source": [
        "X = df.drop(columns=['age', 'became_member_on',\t'gender',\t'person_id',\t'event',\t'off_id',\t\n",
        "                     'offer_type', 'channels', 'age_group', 'event_lst', 'event_enc', 'count'], axis=1)\n",
        "y = df['event_enc']"
      ],
      "execution_count": null,
      "outputs": []
    },
    {
      "cell_type": "code",
      "metadata": {
        "colab": {
          "base_uri": "https://localhost:8080/",
          "height": 163
        },
        "id": "FTYsDBtjSHn8",
        "outputId": "5089da50-9a93-462c-b757-c76e97d6fceb"
      },
      "source": [
        "X.head(3)"
      ],
      "execution_count": null,
      "outputs": [
        {
          "output_type": "execute_result",
          "data": {
            "text/html": [
              "<div>\n",
              "<style scoped>\n",
              "    .dataframe tbody tr th:only-of-type {\n",
              "        vertical-align: middle;\n",
              "    }\n",
              "\n",
              "    .dataframe tbody tr th {\n",
              "        vertical-align: top;\n",
              "    }\n",
              "\n",
              "    .dataframe thead th {\n",
              "        text-align: right;\n",
              "    }\n",
              "</style>\n",
              "<table border=\"1\" class=\"dataframe\">\n",
              "  <thead>\n",
              "    <tr style=\"text-align: right;\">\n",
              "      <th></th>\n",
              "      <th>income</th>\n",
              "      <th>time</th>\n",
              "      <th>difficulty</th>\n",
              "      <th>duration</th>\n",
              "      <th>reward</th>\n",
              "      <th>membership_age</th>\n",
              "      <th>email</th>\n",
              "      <th>mobile</th>\n",
              "      <th>social</th>\n",
              "      <th>web</th>\n",
              "      <th>bogo</th>\n",
              "      <th>discount</th>\n",
              "      <th>informational</th>\n",
              "      <th>20_40</th>\n",
              "      <th>41_60</th>\n",
              "      <th>61_80</th>\n",
              "      <th>ABOVE_80</th>\n",
              "      <th>UNDER_20</th>\n",
              "      <th>F</th>\n",
              "      <th>M</th>\n",
              "      <th>O</th>\n",
              "    </tr>\n",
              "  </thead>\n",
              "  <tbody>\n",
              "    <tr>\n",
              "      <th>1</th>\n",
              "      <td>112000.0</td>\n",
              "      <td>528</td>\n",
              "      <td>5</td>\n",
              "      <td>7</td>\n",
              "      <td>5</td>\n",
              "      <td>402</td>\n",
              "      <td>1</td>\n",
              "      <td>1</td>\n",
              "      <td>0</td>\n",
              "      <td>1</td>\n",
              "      <td>1</td>\n",
              "      <td>0</td>\n",
              "      <td>0</td>\n",
              "      <td>0</td>\n",
              "      <td>1</td>\n",
              "      <td>0</td>\n",
              "      <td>0</td>\n",
              "      <td>0</td>\n",
              "      <td>1</td>\n",
              "      <td>0</td>\n",
              "      <td>0</td>\n",
              "    </tr>\n",
              "    <tr>\n",
              "      <th>4</th>\n",
              "      <td>100000.0</td>\n",
              "      <td>132</td>\n",
              "      <td>5</td>\n",
              "      <td>7</td>\n",
              "      <td>5</td>\n",
              "      <td>404</td>\n",
              "      <td>1</td>\n",
              "      <td>1</td>\n",
              "      <td>0</td>\n",
              "      <td>1</td>\n",
              "      <td>1</td>\n",
              "      <td>0</td>\n",
              "      <td>0</td>\n",
              "      <td>0</td>\n",
              "      <td>0</td>\n",
              "      <td>1</td>\n",
              "      <td>0</td>\n",
              "      <td>0</td>\n",
              "      <td>1</td>\n",
              "      <td>0</td>\n",
              "      <td>0</td>\n",
              "    </tr>\n",
              "    <tr>\n",
              "      <th>7</th>\n",
              "      <td>70000.0</td>\n",
              "      <td>522</td>\n",
              "      <td>5</td>\n",
              "      <td>7</td>\n",
              "      <td>5</td>\n",
              "      <td>305</td>\n",
              "      <td>1</td>\n",
              "      <td>1</td>\n",
              "      <td>0</td>\n",
              "      <td>1</td>\n",
              "      <td>1</td>\n",
              "      <td>0</td>\n",
              "      <td>0</td>\n",
              "      <td>0</td>\n",
              "      <td>0</td>\n",
              "      <td>1</td>\n",
              "      <td>0</td>\n",
              "      <td>0</td>\n",
              "      <td>0</td>\n",
              "      <td>1</td>\n",
              "      <td>0</td>\n",
              "    </tr>\n",
              "  </tbody>\n",
              "</table>\n",
              "</div>"
            ],
            "text/plain": [
              "     income  time  difficulty  duration  reward  ...  ABOVE_80  UNDER_20  F  M  O\n",
              "1  112000.0   528           5         7       5  ...         0         0  1  0  0\n",
              "4  100000.0   132           5         7       5  ...         0         0  1  0  0\n",
              "7   70000.0   522           5         7       5  ...         0         0  0  1  0\n",
              "\n",
              "[3 rows x 21 columns]"
            ]
          },
          "metadata": {},
          "execution_count": 217
        }
      ]
    },
    {
      "cell_type": "code",
      "metadata": {
        "colab": {
          "base_uri": "https://localhost:8080/"
        },
        "id": "Az2z-mWASxjG",
        "outputId": "a692bf4e-15a9-4859-f2a8-235abc7bc84e"
      },
      "source": [
        "y.head(3)"
      ],
      "execution_count": null,
      "outputs": [
        {
          "output_type": "execute_result",
          "data": {
            "text/plain": [
              "1    1\n",
              "4    1\n",
              "7    1\n",
              "Name: event_enc, dtype: int64"
            ]
          },
          "metadata": {},
          "execution_count": 218
        }
      ]
    },
    {
      "cell_type": "code",
      "metadata": {
        "id": "8CPwGiczmV0_",
        "colab": {
          "base_uri": "https://localhost:8080/"
        },
        "outputId": "278c099d-aa22-4278-9846-3ddc3166c0f9"
      },
      "source": [
        "X.columns"
      ],
      "execution_count": null,
      "outputs": [
        {
          "output_type": "execute_result",
          "data": {
            "text/plain": [
              "Index(['income', 'time', 'difficulty', 'duration', 'reward', 'membership_age',\n",
              "       'email', 'mobile', 'social', 'web', 'bogo', 'discount', 'informational',\n",
              "       '20_40', '41_60', '61_80', 'ABOVE_80', 'UNDER_20', 'F', 'M', 'O'],\n",
              "      dtype='object')"
            ]
          },
          "metadata": {},
          "execution_count": 219
        }
      ]
    },
    {
      "cell_type": "code",
      "metadata": {
        "id": "P2fDMUSEGGYo"
      },
      "source": [
        "from sklearn.preprocessing import MinMaxScaler\n",
        "scaler = MinMaxScaler()\n",
        "X_enc = scaler.fit_transform(X)\n",
        "y_enc = y.values"
      ],
      "execution_count": null,
      "outputs": []
    },
    {
      "cell_type": "code",
      "metadata": {
        "colab": {
          "base_uri": "https://localhost:8080/"
        },
        "id": "obQ_b6bWQGZ3",
        "outputId": "bebd7057-0a3a-4df3-ea5a-320b333ac5dd"
      },
      "source": [
        "X_enc"
      ],
      "execution_count": null,
      "outputs": [
        {
          "output_type": "execute_result",
          "data": {
            "text/plain": [
              "array([[0.91111111, 0.7394958 , 0.25      , ..., 1.        , 0.        ,\n",
              "        0.        ],\n",
              "       [0.77777778, 0.18487395, 0.25      , ..., 1.        , 0.        ,\n",
              "        0.        ],\n",
              "       [0.44444444, 0.73109244, 0.25      , ..., 0.        , 1.        ,\n",
              "        0.        ],\n",
              "       ...,\n",
              "       [0.05555556, 0.47058824, 0.5       , ..., 0.        , 1.        ,\n",
              "        0.        ],\n",
              "       [0.38888889, 0.        , 0.5       , ..., 1.        , 0.        ,\n",
              "        0.        ],\n",
              "       [0.26666667, 0.47058824, 0.5       , ..., 1.        , 0.        ,\n",
              "        0.        ]])"
            ]
          },
          "metadata": {},
          "execution_count": 221
        }
      ]
    },
    {
      "cell_type": "code",
      "metadata": {
        "colab": {
          "base_uri": "https://localhost:8080/"
        },
        "id": "7xiYsk0jT3q7",
        "outputId": "a7723d9a-990d-48f2-acb9-ea2a2e1f82a1"
      },
      "source": [
        "y_enc"
      ],
      "execution_count": null,
      "outputs": [
        {
          "output_type": "execute_result",
          "data": {
            "text/plain": [
              "array([1, 1, 1, ..., 0, 0, 0], dtype=int64)"
            ]
          },
          "metadata": {},
          "execution_count": 222
        }
      ]
    },
    {
      "cell_type": "code",
      "metadata": {
        "colab": {
          "base_uri": "https://localhost:8080/"
        },
        "id": "sEj9c5gXTdKE",
        "outputId": "f8d5afde-588d-42b7-e781-73e20976be76"
      },
      "source": [
        "X_enc.shape"
      ],
      "execution_count": null,
      "outputs": [
        {
          "output_type": "execute_result",
          "data": {
            "text/plain": [
              "(44503, 21)"
            ]
          },
          "metadata": {},
          "execution_count": 223
        }
      ]
    },
    {
      "cell_type": "code",
      "metadata": {
        "colab": {
          "base_uri": "https://localhost:8080/"
        },
        "id": "DoLm5FSgT9St",
        "outputId": "4357e542-e5dd-4735-907b-15933c3bcfd5"
      },
      "source": [
        "y_enc.shape"
      ],
      "execution_count": null,
      "outputs": [
        {
          "output_type": "execute_result",
          "data": {
            "text/plain": [
              "(44503,)"
            ]
          },
          "metadata": {},
          "execution_count": 224
        }
      ]
    },
    {
      "cell_type": "code",
      "metadata": {
        "id": "KEBiAbjDT-7s"
      },
      "source": [
        "from sklearn.model_selection import train_test_split"
      ],
      "execution_count": null,
      "outputs": []
    },
    {
      "cell_type": "code",
      "metadata": {
        "id": "1PyIKTOGUKNk"
      },
      "source": [
        "X_train, X_test, y_train, y_test = train_test_split(X_enc, y_enc, test_size = 0.2, random_state = 42)"
      ],
      "execution_count": null,
      "outputs": []
    },
    {
      "cell_type": "code",
      "metadata": {
        "colab": {
          "base_uri": "https://localhost:8080/"
        },
        "id": "Kdzd0GaWURSM",
        "outputId": "25b5a152-bcd2-418e-c113-971c6011658c"
      },
      "source": [
        "X_train.shape"
      ],
      "execution_count": null,
      "outputs": [
        {
          "output_type": "execute_result",
          "data": {
            "text/plain": [
              "(35602, 21)"
            ]
          },
          "metadata": {},
          "execution_count": 226
        }
      ]
    },
    {
      "cell_type": "code",
      "metadata": {
        "colab": {
          "base_uri": "https://localhost:8080/"
        },
        "id": "x2yvpFqVUTRE",
        "outputId": "92a4319b-0683-49b1-b376-3f626822ad06"
      },
      "source": [
        "y_train.shape"
      ],
      "execution_count": null,
      "outputs": [
        {
          "output_type": "execute_result",
          "data": {
            "text/plain": [
              "(35602,)"
            ]
          },
          "metadata": {},
          "execution_count": 227
        }
      ]
    },
    {
      "cell_type": "code",
      "metadata": {
        "id": "Iiu2ePm5UVZM"
      },
      "source": [
        "from sklearn.naive_bayes import MultinomialNB\n",
        "classifier = MultinomialNB()"
      ],
      "execution_count": null,
      "outputs": []
    },
    {
      "cell_type": "code",
      "metadata": {
        "colab": {
          "base_uri": "https://localhost:8080/"
        },
        "id": "Eav6hhESTgPa",
        "outputId": "7bc9f8f3-9cd0-4305-9ba6-880032161955"
      },
      "source": [
        "classifier.fit(X_train, y_train)"
      ],
      "execution_count": null,
      "outputs": [
        {
          "output_type": "execute_result",
          "data": {
            "text/plain": [
              "MultinomialNB(alpha=1.0, class_prior=None, fit_prior=True)"
            ]
          },
          "metadata": {},
          "execution_count": 229
        }
      ]
    },
    {
      "cell_type": "code",
      "metadata": {
        "id": "QBYrGNmNTqdi"
      },
      "source": [
        "y_pred = classifier.predict(X_test)"
      ],
      "execution_count": null,
      "outputs": []
    },
    {
      "cell_type": "code",
      "metadata": {
        "id": "V5SPcFtqT2nC"
      },
      "source": [
        "from sklearn.metrics import classification_report"
      ],
      "execution_count": null,
      "outputs": []
    },
    {
      "cell_type": "code",
      "metadata": {
        "colab": {
          "base_uri": "https://localhost:8080/"
        },
        "id": "-kSRINqhT-iR",
        "outputId": "e98a1975-207f-4696-d347-b3da8e964fd1"
      },
      "source": [
        "print(classification_report(y_test, y_pred))"
      ],
      "execution_count": null,
      "outputs": [
        {
          "output_type": "stream",
          "name": "stdout",
          "text": [
            "              precision    recall  f1-score   support\n",
            "\n",
            "           0       0.96      0.25      0.39      2400\n",
            "           1       0.78      1.00      0.88      6501\n",
            "\n",
            "    accuracy                           0.79      8901\n",
            "   macro avg       0.87      0.62      0.64      8901\n",
            "weighted avg       0.83      0.79      0.75      8901\n",
            "\n"
          ]
        }
      ]
    },
    {
      "cell_type": "code",
      "metadata": {
        "colab": {
          "base_uri": "https://localhost:8080/",
          "height": 271
        },
        "id": "2ialJ5ylUD_S",
        "outputId": "ffbe5f21-6213-4a79-e443-0a7c37e99a50"
      },
      "source": [
        "df.head(2)"
      ],
      "execution_count": null,
      "outputs": [
        {
          "output_type": "execute_result",
          "data": {
            "text/html": [
              "<div>\n",
              "<style scoped>\n",
              "    .dataframe tbody tr th:only-of-type {\n",
              "        vertical-align: middle;\n",
              "    }\n",
              "\n",
              "    .dataframe tbody tr th {\n",
              "        vertical-align: top;\n",
              "    }\n",
              "\n",
              "    .dataframe thead th {\n",
              "        text-align: right;\n",
              "    }\n",
              "</style>\n",
              "<table border=\"1\" class=\"dataframe\">\n",
              "  <thead>\n",
              "    <tr style=\"text-align: right;\">\n",
              "      <th></th>\n",
              "      <th>age</th>\n",
              "      <th>became_member_on</th>\n",
              "      <th>gender</th>\n",
              "      <th>person_id</th>\n",
              "      <th>income</th>\n",
              "      <th>event</th>\n",
              "      <th>time</th>\n",
              "      <th>off_id</th>\n",
              "      <th>channels</th>\n",
              "      <th>difficulty</th>\n",
              "      <th>duration</th>\n",
              "      <th>offer_type</th>\n",
              "      <th>reward</th>\n",
              "      <th>age_group</th>\n",
              "      <th>membership_age</th>\n",
              "      <th>count</th>\n",
              "      <th>event_lst</th>\n",
              "      <th>email</th>\n",
              "      <th>mobile</th>\n",
              "      <th>social</th>\n",
              "      <th>web</th>\n",
              "      <th>bogo</th>\n",
              "      <th>discount</th>\n",
              "      <th>informational</th>\n",
              "      <th>20_40</th>\n",
              "      <th>41_60</th>\n",
              "      <th>61_80</th>\n",
              "      <th>ABOVE_80</th>\n",
              "      <th>UNDER_20</th>\n",
              "      <th>F</th>\n",
              "      <th>M</th>\n",
              "      <th>O</th>\n",
              "      <th>event_enc</th>\n",
              "    </tr>\n",
              "  </thead>\n",
              "  <tbody>\n",
              "    <tr>\n",
              "      <th>1</th>\n",
              "      <td>55</td>\n",
              "      <td>20170715</td>\n",
              "      <td>F</td>\n",
              "      <td>0610b486422d4921ae7d2bf64640c50b</td>\n",
              "      <td>112000.0</td>\n",
              "      <td>offer completed</td>\n",
              "      <td>528</td>\n",
              "      <td>9b98b8c7a33c4b65b9aebfe6a799e6d9</td>\n",
              "      <td>[web, email, mobile]</td>\n",
              "      <td>5</td>\n",
              "      <td>7</td>\n",
              "      <td>bogo</td>\n",
              "      <td>5</td>\n",
              "      <td>41_60</td>\n",
              "      <td>402</td>\n",
              "      <td>2</td>\n",
              "      <td>[offer received, offer completed]</td>\n",
              "      <td>1</td>\n",
              "      <td>1</td>\n",
              "      <td>0</td>\n",
              "      <td>1</td>\n",
              "      <td>1</td>\n",
              "      <td>0</td>\n",
              "      <td>0</td>\n",
              "      <td>0</td>\n",
              "      <td>1</td>\n",
              "      <td>0</td>\n",
              "      <td>0</td>\n",
              "      <td>0</td>\n",
              "      <td>1</td>\n",
              "      <td>0</td>\n",
              "      <td>0</td>\n",
              "      <td>1</td>\n",
              "    </tr>\n",
              "    <tr>\n",
              "      <th>4</th>\n",
              "      <td>75</td>\n",
              "      <td>20170509</td>\n",
              "      <td>F</td>\n",
              "      <td>78afa995795e4d85b5d9ceeca43f5fef</td>\n",
              "      <td>100000.0</td>\n",
              "      <td>offer completed</td>\n",
              "      <td>132</td>\n",
              "      <td>9b98b8c7a33c4b65b9aebfe6a799e6d9</td>\n",
              "      <td>[web, email, mobile]</td>\n",
              "      <td>5</td>\n",
              "      <td>7</td>\n",
              "      <td>bogo</td>\n",
              "      <td>5</td>\n",
              "      <td>61_80</td>\n",
              "      <td>404</td>\n",
              "      <td>3</td>\n",
              "      <td>[offer received, offer viewed, offer completed]</td>\n",
              "      <td>1</td>\n",
              "      <td>1</td>\n",
              "      <td>0</td>\n",
              "      <td>1</td>\n",
              "      <td>1</td>\n",
              "      <td>0</td>\n",
              "      <td>0</td>\n",
              "      <td>0</td>\n",
              "      <td>0</td>\n",
              "      <td>1</td>\n",
              "      <td>0</td>\n",
              "      <td>0</td>\n",
              "      <td>1</td>\n",
              "      <td>0</td>\n",
              "      <td>0</td>\n",
              "      <td>1</td>\n",
              "    </tr>\n",
              "  </tbody>\n",
              "</table>\n",
              "</div>"
            ],
            "text/plain": [
              "   age  became_member_on gender  ...  M  O event_enc\n",
              "1   55          20170715      F  ...  0  0         1\n",
              "4   75          20170509      F  ...  0  0         1\n",
              "\n",
              "[2 rows x 33 columns]"
            ]
          },
          "metadata": {},
          "execution_count": 64
        }
      ]
    },
    {
      "cell_type": "code",
      "metadata": {
        "id": "LTMrf8-BUa5K"
      },
      "source": [
        "prof = [{\"gender\": \"M\", \"age\": 32, \"id\": \"0b486422d4921ae7d2\", \n",
        "                            \"became_member_on\": \"20210627\", \"income\": 20982322},\n",
        "                            {\"gender\": \"F\", \"age\": 31, \"id\": \"0b4864225645ae7d2\", \n",
        "                            \"became_member_on\": \"20210627\", \"income\": 342324}]\n",
        "new_profile = pd.DataFrame(prof)\n",
        "trans = [{\"person\": \"0b486422d4921ae7d2\", \"event\": \"offer received\", \"time\": 0,\n",
        "                                \"value\": {'offer id': '9b98b8c7a33c4b65b9aebfe6a799e6d9'}}, \n",
        "         {\"person\": \"0b486422d4921ae7d2\", \"event\": \"offer viewed\", \"time\": 10,\n",
        "                                \"value\": {'offer id': '9b98b8c7a33c4b65b9aebfe6a799e6d9'}},\n",
        "         {\"person\": \"0b486422d4921ae7d2\", \"event\": \"offer received\", \"time\": 200,\n",
        "                                \"value\": {'offer_id': '0b1e1539f2cc45b7b9fa7c272da2e1d7'}},\n",
        "         {\"person\": \"0b4864225645ae7d2\", \"event\": \"offer received\", \"time\": 0,\n",
        "                                \"value\": {'offer_id': '9b98b8c7a33c4b65b9aebfe6a799e6d9'}},\n",
        "         {\"person\": \"0b4864225645ae7d2\", \"event\": \"offer completed\", \"time\": 23,\n",
        "                                \"value\": {'offer_id': '9b98b8c7a33c4b65b9aebfe6a799e6d9'}}]\n",
        "new_transaction = pd.DataFrame.from_dict(trans)"
      ],
      "execution_count": null,
      "outputs": []
    },
    {
      "cell_type": "code",
      "metadata": {
        "colab": {
          "base_uri": "https://localhost:8080/",
          "height": 112
        },
        "id": "aVVabgLpUkrA",
        "outputId": "babcbceb-04a0-4d7a-95bd-c9434d3411e2"
      },
      "source": [
        "new_profile"
      ],
      "execution_count": null,
      "outputs": [
        {
          "output_type": "execute_result",
          "data": {
            "text/html": [
              "<div>\n",
              "<style scoped>\n",
              "    .dataframe tbody tr th:only-of-type {\n",
              "        vertical-align: middle;\n",
              "    }\n",
              "\n",
              "    .dataframe tbody tr th {\n",
              "        vertical-align: top;\n",
              "    }\n",
              "\n",
              "    .dataframe thead th {\n",
              "        text-align: right;\n",
              "    }\n",
              "</style>\n",
              "<table border=\"1\" class=\"dataframe\">\n",
              "  <thead>\n",
              "    <tr style=\"text-align: right;\">\n",
              "      <th></th>\n",
              "      <th>gender</th>\n",
              "      <th>age</th>\n",
              "      <th>id</th>\n",
              "      <th>became_member_on</th>\n",
              "      <th>income</th>\n",
              "    </tr>\n",
              "  </thead>\n",
              "  <tbody>\n",
              "    <tr>\n",
              "      <th>0</th>\n",
              "      <td>M</td>\n",
              "      <td>32</td>\n",
              "      <td>0b486422d4921ae7d2</td>\n",
              "      <td>20210627</td>\n",
              "      <td>20982322</td>\n",
              "    </tr>\n",
              "    <tr>\n",
              "      <th>1</th>\n",
              "      <td>F</td>\n",
              "      <td>31</td>\n",
              "      <td>0b4864225645ae7d2</td>\n",
              "      <td>20210627</td>\n",
              "      <td>342324</td>\n",
              "    </tr>\n",
              "  </tbody>\n",
              "</table>\n",
              "</div>"
            ],
            "text/plain": [
              "  gender  age                  id became_member_on    income\n",
              "0      M   32  0b486422d4921ae7d2         20210627  20982322\n",
              "1      F   31   0b4864225645ae7d2         20210627    342324"
            ]
          },
          "metadata": {},
          "execution_count": 309
        }
      ]
    },
    {
      "cell_type": "code",
      "metadata": {
        "colab": {
          "base_uri": "https://localhost:8080/",
          "height": 206
        },
        "id": "2DV3t5hDXRWC",
        "outputId": "1afd6165-5b6e-4864-f025-1f7897301077"
      },
      "source": [
        "new_transaction"
      ],
      "execution_count": null,
      "outputs": [
        {
          "output_type": "execute_result",
          "data": {
            "text/html": [
              "<div>\n",
              "<style scoped>\n",
              "    .dataframe tbody tr th:only-of-type {\n",
              "        vertical-align: middle;\n",
              "    }\n",
              "\n",
              "    .dataframe tbody tr th {\n",
              "        vertical-align: top;\n",
              "    }\n",
              "\n",
              "    .dataframe thead th {\n",
              "        text-align: right;\n",
              "    }\n",
              "</style>\n",
              "<table border=\"1\" class=\"dataframe\">\n",
              "  <thead>\n",
              "    <tr style=\"text-align: right;\">\n",
              "      <th></th>\n",
              "      <th>person</th>\n",
              "      <th>event</th>\n",
              "      <th>time</th>\n",
              "      <th>value</th>\n",
              "    </tr>\n",
              "  </thead>\n",
              "  <tbody>\n",
              "    <tr>\n",
              "      <th>0</th>\n",
              "      <td>0b486422d4921ae7d2</td>\n",
              "      <td>offer received</td>\n",
              "      <td>0</td>\n",
              "      <td>{'offer id': '9b98b8c7a33c4b65b9aebfe6a799e6d9'}</td>\n",
              "    </tr>\n",
              "    <tr>\n",
              "      <th>1</th>\n",
              "      <td>0b486422d4921ae7d2</td>\n",
              "      <td>offer viewed</td>\n",
              "      <td>10</td>\n",
              "      <td>{'offer id': '9b98b8c7a33c4b65b9aebfe6a799e6d9'}</td>\n",
              "    </tr>\n",
              "    <tr>\n",
              "      <th>2</th>\n",
              "      <td>0b486422d4921ae7d2</td>\n",
              "      <td>offer received</td>\n",
              "      <td>200</td>\n",
              "      <td>{'offer_id': '0b1e1539f2cc45b7b9fa7c272da2e1d7'}</td>\n",
              "    </tr>\n",
              "    <tr>\n",
              "      <th>3</th>\n",
              "      <td>0b4864225645ae7d2</td>\n",
              "      <td>offer received</td>\n",
              "      <td>0</td>\n",
              "      <td>{'offer_id': '9b98b8c7a33c4b65b9aebfe6a799e6d9'}</td>\n",
              "    </tr>\n",
              "    <tr>\n",
              "      <th>4</th>\n",
              "      <td>0b4864225645ae7d2</td>\n",
              "      <td>offer completed</td>\n",
              "      <td>23</td>\n",
              "      <td>{'offer_id': '9b98b8c7a33c4b65b9aebfe6a799e6d9'}</td>\n",
              "    </tr>\n",
              "  </tbody>\n",
              "</table>\n",
              "</div>"
            ],
            "text/plain": [
              "               person  ...                                             value\n",
              "0  0b486422d4921ae7d2  ...  {'offer id': '9b98b8c7a33c4b65b9aebfe6a799e6d9'}\n",
              "1  0b486422d4921ae7d2  ...  {'offer id': '9b98b8c7a33c4b65b9aebfe6a799e6d9'}\n",
              "2  0b486422d4921ae7d2  ...  {'offer_id': '0b1e1539f2cc45b7b9fa7c272da2e1d7'}\n",
              "3   0b4864225645ae7d2  ...  {'offer_id': '9b98b8c7a33c4b65b9aebfe6a799e6d9'}\n",
              "4   0b4864225645ae7d2  ...  {'offer_id': '9b98b8c7a33c4b65b9aebfe6a799e6d9'}\n",
              "\n",
              "[5 rows x 4 columns]"
            ]
          },
          "metadata": {},
          "execution_count": 310
        }
      ]
    },
    {
      "cell_type": "code",
      "metadata": {
        "id": "XJPSuz1kjK81"
      },
      "source": [
        "def scale_data(X, y):\n",
        "  scaler = MinMaxScaler()\n",
        "  X_enc = scaler.fit_transform(X)\n",
        "  y_enc = y.values\n",
        "  return X_enc, y_enc"
      ],
      "execution_count": null,
      "outputs": []
    },
    {
      "cell_type": "code",
      "metadata": {
        "id": "gE1p_eImXUf6"
      },
      "source": [
        "def preprocessing(event, customer, transaction):\n",
        "  cust_trans = pd.merge(customer, transaction, how='inner', left_on=['id'], right_on=['person']).rename(columns={'id': 'person_id'})\n",
        "  offer_val = pd.json_normalize(cust_trans['value'])\n",
        "  offer_val['off_id'] = offer_val['offer id'].combine_first(offer_val['offer_id'])\n",
        "  combo_df = pd.concat([cust_trans, offer_val], axis=1)\n",
        "  event_combo = pd.merge(combo_df, event, how='inner', left_on=['off_id'], right_on=['id']).rename(columns={'reward_y': 'reward'})\n",
        "  event_combo = event_combo[['age', 'became_member_on', 'gender',\n",
        "                                 'person_id', 'income', 'event', 'time', 'off_id', 'channels', \n",
        "                                'difficulty', 'duration', 'offer_type', 'reward']]\n",
        "  event_combo.loc[(event_combo['age'] < 20), 'age_group'] = 'UNDER_20'\n",
        "  event_combo.loc[(event_combo['age'] >= 20) & (event_combo['age'] <= 40), 'age_group'] = '20_40'\n",
        "  event_combo.loc[(event_combo['age'] > 40) & (event_combo['age'] <= 60), 'age_group'] = '41_60'\n",
        "  event_combo.loc[(event_combo['age'] > 60) & (event_combo['age'] <= 80), 'age_group'] = '61_80'\n",
        "  event_combo.loc[(event_combo['age'] > 80), 'age_group'] = 'ABOVE_80'\n",
        "  current_year_month = int(datetime.today().strftime(\"%Y%m\"))\n",
        "  event_combo['membership_age'] = current_year_month - event_combo['became_member_on'].apply(lambda x: int(str(x)[:6]))\n",
        "  df_completed = event_combo[event_combo['event']=='offer completed']\n",
        "  df_interim = event_combo[~event_combo['person_id'].isin(df_completed['person_id'].values)]\n",
        "  df_received = df_interim[df_interim['event'] == 'offer received']\n",
        "  df = df_completed.append(df_received)\n",
        "\n",
        "  df = df.join(df.channels.str.join('|').str.get_dummies())\n",
        "  if 'web' not in df:\n",
        "    df['web'] = 0\n",
        "  if 'email' not in df:\n",
        "    df['email'] = 0\n",
        "  if 'mobile' not in df:\n",
        "    df['mobile'] = 0\n",
        "  if 'social' not in df:\n",
        "    df['social'] = 0\n",
        "  \n",
        "  df = df.join(df.offer_type.str.get_dummies())\n",
        "  if 'bogo' not in df:\n",
        "    df['bogo'] = 0\n",
        "  if 'discount' not in df:\n",
        "    df['discount'] = 0\n",
        "  if 'informational' not in df:\n",
        "    df['informational'] = 0\n",
        "\n",
        "  df = df.join(df.age_group.str.get_dummies())\n",
        "  if 'UNDER_20' not in df:\n",
        "    df['UNDER_20'] = 0\n",
        "  if '20_40' not in df:\n",
        "    df['20_40'] = 0\n",
        "  if '41_60' not in df:\n",
        "    df['41_60'] = 0\n",
        "  if '61_80' not in df:\n",
        "    df['61_80'] = 0\n",
        "  if 'ABOVE_80' not in df:\n",
        "    df['ABOVE_80'] = 0\n",
        "  \n",
        "  df = df.join(df.gender.str.get_dummies())\n",
        "  if 'M' not in df:\n",
        "    df['M'] = 0\n",
        "  if 'F' not in df:\n",
        "    df['F'] = 0\n",
        "  if 'O' not in df:\n",
        "    df['O'] = 0\n",
        "  \n",
        "  df['event_enc'] = df['event'].map({'offer received':0, 'offer completed':1})\n",
        "\n",
        "  X = df.drop(columns=['age', 'became_member_on',\t'gender',\t'person_id',\t'event',\t'off_id',\t\n",
        "                     'offer_type', 'channels', 'age_group', 'event_enc'], axis=1)\n",
        "  print(X.columns)\n",
        "  y = df['event_enc']\n",
        "  print(f\"X:\\n{X}\\ny:\\n{y}\")\n",
        "  X_enc, y_enc = scale_data(X, y)\n",
        "  return df, X_enc, y_enc"
      ],
      "execution_count": null,
      "outputs": []
    },
    {
      "cell_type": "markdown",
      "metadata": {
        "id": "9zw6FUXUkv6p"
      },
      "source": [
        "**For Training the model**\n",
        "\n",
        "With columns: \n",
        "```\n",
        "['income', 'time', 'difficulty', 'duration', 'reward', 'membership_age', 'email', 'mobile', 'social', 'web', 'bogo', 'discount',\n",
        "'informational', '20_40', '41_60', '61_80', 'ABOVE_80', 'UNDER_20', 'F','M', 'O']\n",
        "```\n",
        "\n"
      ]
    },
    {
      "cell_type": "code",
      "metadata": {
        "id": "RVsEjpYYdaQ0",
        "colab": {
          "base_uri": "https://localhost:8080/"
        },
        "outputId": "82bbcb6d-7954-42e8-e41e-d9dddfe70315"
      },
      "source": [
        "transformed_df, X, y= preprocessing(event=portfolio, customer=profile, transaction=transcript)"
      ],
      "execution_count": null,
      "outputs": [
        {
          "output_type": "stream",
          "name": "stdout",
          "text": [
            "Index(['income', 'time', 'difficulty', 'duration', 'reward', 'membership_age',\n",
            "       'email', 'mobile', 'social', 'web', 'bogo', 'discount', 'informational',\n",
            "       '20_40', '41_60', '61_80', 'ABOVE_80', 'UNDER_20', 'F', 'M', 'O'],\n",
            "      dtype='object')\n",
            "X:\n",
            "          income  time  difficulty  duration  ...  UNDER_20  F  M  O\n",
            "1       112000.0   528           5         7  ...         0  1  0  0\n",
            "4       100000.0   132           5         7  ...         0  1  0  0\n",
            "7        70000.0   522           5         7  ...         0  0  1  0\n",
            "12       53000.0   498           5         7  ...         0  0  1  0\n",
            "15       42000.0   516           5         7  ...         0  0  1  0\n",
            "...          ...   ...         ...       ...  ...       ... .. .. ..\n",
            "148595   31000.0   408          10         5  ...         0  1  0  0\n",
            "148600   64000.0     0          10         5  ...         0  1  0  0\n",
            "148606   35000.0   336          10         5  ...         0  0  1  0\n",
            "148621   65000.0     0          10         5  ...         0  1  0  0\n",
            "148623   54000.0   336          10         5  ...         0  1  0  0\n",
            "\n",
            "[44503 rows x 21 columns]\n",
            "y:\n",
            "1         1\n",
            "4         1\n",
            "7         1\n",
            "12        1\n",
            "15        1\n",
            "         ..\n",
            "148595    0\n",
            "148600    0\n",
            "148606    0\n",
            "148621    0\n",
            "148623    0\n",
            "Name: event_enc, Length: 44503, dtype: int64\n"
          ]
        }
      ]
    },
    {
      "cell_type": "code",
      "metadata": {
        "id": "6rGk0f8Lkc4d"
      },
      "source": [
        "X_train, X_test, y_train, y_test = train_test_split(X, y, test_size = 0.2, random_state = 42)"
      ],
      "execution_count": null,
      "outputs": []
    },
    {
      "cell_type": "code",
      "metadata": {
        "id": "VYtMv9r5k-Bx",
        "colab": {
          "base_uri": "https://localhost:8080/"
        },
        "outputId": "01081e74-6af5-48ff-9980-c938f6f73445"
      },
      "source": [
        "X_train.shape"
      ],
      "execution_count": null,
      "outputs": [
        {
          "output_type": "execute_result",
          "data": {
            "text/plain": [
              "(35602, 21)"
            ]
          },
          "metadata": {},
          "execution_count": 274
        }
      ]
    },
    {
      "cell_type": "code",
      "metadata": {
        "id": "OX_7PYYTllt1",
        "colab": {
          "base_uri": "https://localhost:8080/"
        },
        "outputId": "12ed37fd-b1a3-4f7e-9e65-df67a06c53ff"
      },
      "source": [
        "y_train.shape"
      ],
      "execution_count": null,
      "outputs": [
        {
          "output_type": "execute_result",
          "data": {
            "text/plain": [
              "(35602,)"
            ]
          },
          "metadata": {},
          "execution_count": 275
        }
      ]
    },
    {
      "cell_type": "code",
      "metadata": {
        "id": "_UriQQ0d27oz",
        "colab": {
          "base_uri": "https://localhost:8080/"
        },
        "outputId": "057fb4ae-dbff-417b-8722-ce46641de7c8"
      },
      "source": [
        "X_test.shape"
      ],
      "execution_count": null,
      "outputs": [
        {
          "output_type": "execute_result",
          "data": {
            "text/plain": [
              "(8901, 21)"
            ]
          },
          "metadata": {},
          "execution_count": 306
        }
      ]
    },
    {
      "cell_type": "code",
      "metadata": {
        "id": "hbTXZ9x-eHLx",
        "colab": {
          "base_uri": "https://localhost:8080/"
        },
        "outputId": "5a7a2da5-3e02-401e-d9c9-983626798cef"
      },
      "source": [
        "classifier = MultinomialNB()\n",
        "classifier.fit(X_train, y_train)"
      ],
      "execution_count": null,
      "outputs": [
        {
          "output_type": "execute_result",
          "data": {
            "text/plain": [
              "MultinomialNB(alpha=1.0, class_prior=None, fit_prior=True)"
            ]
          },
          "metadata": {},
          "execution_count": 276
        }
      ]
    },
    {
      "cell_type": "code",
      "metadata": {
        "id": "rcXBE6D7kDaE"
      },
      "source": [
        "y_pred = classifier.predict(X_test)"
      ],
      "execution_count": null,
      "outputs": []
    },
    {
      "cell_type": "code",
      "metadata": {
        "id": "LqvJw5q6kN4o",
        "colab": {
          "base_uri": "https://localhost:8080/"
        },
        "outputId": "a05cb857-3021-41f7-901c-11c0491e600f"
      },
      "source": [
        "print(classification_report(y_test, y_pred))"
      ],
      "execution_count": null,
      "outputs": [
        {
          "output_type": "stream",
          "name": "stdout",
          "text": [
            "              precision    recall  f1-score   support\n",
            "\n",
            "           0       0.96      0.25      0.39      2400\n",
            "           1       0.78      1.00      0.88      6501\n",
            "\n",
            "    accuracy                           0.79      8901\n",
            "   macro avg       0.87      0.62      0.64      8901\n",
            "weighted avg       0.83      0.79      0.75      8901\n",
            "\n"
          ]
        }
      ]
    },
    {
      "cell_type": "markdown",
      "metadata": {
        "id": "So2ZUUnynfPt"
      },
      "source": [
        "**For prediction on new data**"
      ]
    },
    {
      "cell_type": "code",
      "metadata": {
        "id": "SheAmryMl0Y_",
        "colab": {
          "base_uri": "https://localhost:8080/"
        },
        "outputId": "7d0ad94c-7e51-412e-b7a2-dc1778c6e276"
      },
      "source": [
        "transformed_df, X_new, y_new = preprocessing(event=portfolio, customer=new_profile, transaction=new_transaction)"
      ],
      "execution_count": null,
      "outputs": [
        {
          "output_type": "stream",
          "name": "stdout",
          "text": [
            "Index(['income', 'time', 'difficulty', 'duration', 'reward', 'membership_age',\n",
            "       'email', 'mobile', 'web', 'social', 'bogo', 'discount', 'informational',\n",
            "       '20_40', 'UNDER_20', '41_60', '61_80', 'ABOVE_80', 'F', 'M', 'O'],\n",
            "      dtype='object')\n",
            "X:\n",
            "     income  time  difficulty  duration  reward  ...  61_80  ABOVE_80  F  M  O\n",
            "3    342324    23           5         7       5  ...      0         0  1  0  0\n",
            "0  20982322     0           5         7       5  ...      0         0  0  1  0\n",
            "4  20982322   200          20        10       5  ...      0         0  0  1  0\n",
            "\n",
            "[3 rows x 21 columns]\n",
            "y:\n",
            "3    1\n",
            "0    0\n",
            "4    0\n",
            "Name: event_enc, dtype: int64\n"
          ]
        }
      ]
    },
    {
      "cell_type": "code",
      "metadata": {
        "id": "gjOVWVkqwr95",
        "colab": {
          "base_uri": "https://localhost:8080/",
          "height": 250
        },
        "outputId": "60e7b5ab-017c-49f3-e14d-da20f9d499b6"
      },
      "source": [
        "transformed_df"
      ],
      "execution_count": null,
      "outputs": [
        {
          "output_type": "execute_result",
          "data": {
            "text/html": [
              "<div>\n",
              "<style scoped>\n",
              "    .dataframe tbody tr th:only-of-type {\n",
              "        vertical-align: middle;\n",
              "    }\n",
              "\n",
              "    .dataframe tbody tr th {\n",
              "        vertical-align: top;\n",
              "    }\n",
              "\n",
              "    .dataframe thead th {\n",
              "        text-align: right;\n",
              "    }\n",
              "</style>\n",
              "<table border=\"1\" class=\"dataframe\">\n",
              "  <thead>\n",
              "    <tr style=\"text-align: right;\">\n",
              "      <th></th>\n",
              "      <th>age</th>\n",
              "      <th>became_member_on</th>\n",
              "      <th>gender</th>\n",
              "      <th>person_id</th>\n",
              "      <th>income</th>\n",
              "      <th>event</th>\n",
              "      <th>time</th>\n",
              "      <th>off_id</th>\n",
              "      <th>channels</th>\n",
              "      <th>difficulty</th>\n",
              "      <th>duration</th>\n",
              "      <th>offer_type</th>\n",
              "      <th>reward</th>\n",
              "      <th>age_group</th>\n",
              "      <th>membership_age</th>\n",
              "      <th>email</th>\n",
              "      <th>mobile</th>\n",
              "      <th>web</th>\n",
              "      <th>social</th>\n",
              "      <th>bogo</th>\n",
              "      <th>discount</th>\n",
              "      <th>informational</th>\n",
              "      <th>20_40</th>\n",
              "      <th>UNDER_20</th>\n",
              "      <th>41_60</th>\n",
              "      <th>61_80</th>\n",
              "      <th>ABOVE_80</th>\n",
              "      <th>F</th>\n",
              "      <th>M</th>\n",
              "      <th>O</th>\n",
              "      <th>event_enc</th>\n",
              "    </tr>\n",
              "  </thead>\n",
              "  <tbody>\n",
              "    <tr>\n",
              "      <th>3</th>\n",
              "      <td>31</td>\n",
              "      <td>20210627</td>\n",
              "      <td>F</td>\n",
              "      <td>0b4864225645ae7d2</td>\n",
              "      <td>342324</td>\n",
              "      <td>offer completed</td>\n",
              "      <td>23</td>\n",
              "      <td>9b98b8c7a33c4b65b9aebfe6a799e6d9</td>\n",
              "      <td>[web, email, mobile]</td>\n",
              "      <td>5</td>\n",
              "      <td>7</td>\n",
              "      <td>bogo</td>\n",
              "      <td>5</td>\n",
              "      <td>20_40</td>\n",
              "      <td>3</td>\n",
              "      <td>1</td>\n",
              "      <td>1</td>\n",
              "      <td>1</td>\n",
              "      <td>0</td>\n",
              "      <td>1</td>\n",
              "      <td>0</td>\n",
              "      <td>0</td>\n",
              "      <td>1</td>\n",
              "      <td>0</td>\n",
              "      <td>0</td>\n",
              "      <td>0</td>\n",
              "      <td>0</td>\n",
              "      <td>1</td>\n",
              "      <td>0</td>\n",
              "      <td>0</td>\n",
              "      <td>1</td>\n",
              "    </tr>\n",
              "    <tr>\n",
              "      <th>0</th>\n",
              "      <td>32</td>\n",
              "      <td>20210627</td>\n",
              "      <td>M</td>\n",
              "      <td>0b486422d4921ae7d2</td>\n",
              "      <td>20982322</td>\n",
              "      <td>offer received</td>\n",
              "      <td>0</td>\n",
              "      <td>9b98b8c7a33c4b65b9aebfe6a799e6d9</td>\n",
              "      <td>[web, email, mobile]</td>\n",
              "      <td>5</td>\n",
              "      <td>7</td>\n",
              "      <td>bogo</td>\n",
              "      <td>5</td>\n",
              "      <td>20_40</td>\n",
              "      <td>3</td>\n",
              "      <td>1</td>\n",
              "      <td>1</td>\n",
              "      <td>1</td>\n",
              "      <td>0</td>\n",
              "      <td>1</td>\n",
              "      <td>0</td>\n",
              "      <td>0</td>\n",
              "      <td>1</td>\n",
              "      <td>0</td>\n",
              "      <td>0</td>\n",
              "      <td>0</td>\n",
              "      <td>0</td>\n",
              "      <td>0</td>\n",
              "      <td>1</td>\n",
              "      <td>0</td>\n",
              "      <td>0</td>\n",
              "    </tr>\n",
              "    <tr>\n",
              "      <th>4</th>\n",
              "      <td>32</td>\n",
              "      <td>20210627</td>\n",
              "      <td>M</td>\n",
              "      <td>0b486422d4921ae7d2</td>\n",
              "      <td>20982322</td>\n",
              "      <td>offer received</td>\n",
              "      <td>200</td>\n",
              "      <td>0b1e1539f2cc45b7b9fa7c272da2e1d7</td>\n",
              "      <td>[web, email]</td>\n",
              "      <td>20</td>\n",
              "      <td>10</td>\n",
              "      <td>discount</td>\n",
              "      <td>5</td>\n",
              "      <td>20_40</td>\n",
              "      <td>3</td>\n",
              "      <td>1</td>\n",
              "      <td>0</td>\n",
              "      <td>1</td>\n",
              "      <td>0</td>\n",
              "      <td>0</td>\n",
              "      <td>1</td>\n",
              "      <td>0</td>\n",
              "      <td>1</td>\n",
              "      <td>0</td>\n",
              "      <td>0</td>\n",
              "      <td>0</td>\n",
              "      <td>0</td>\n",
              "      <td>0</td>\n",
              "      <td>1</td>\n",
              "      <td>0</td>\n",
              "      <td>0</td>\n",
              "    </tr>\n",
              "  </tbody>\n",
              "</table>\n",
              "</div>"
            ],
            "text/plain": [
              "   age became_member_on gender           person_id  ...  F  M  O event_enc\n",
              "3   31         20210627      F   0b4864225645ae7d2  ...  1  0  0         1\n",
              "0   32         20210627      M  0b486422d4921ae7d2  ...  0  1  0         0\n",
              "4   32         20210627      M  0b486422d4921ae7d2  ...  0  1  0         0\n",
              "\n",
              "[3 rows x 31 columns]"
            ]
          },
          "metadata": {},
          "execution_count": 312
        }
      ]
    },
    {
      "cell_type": "code",
      "metadata": {
        "id": "L2YrqeYbv9x0",
        "colab": {
          "base_uri": "https://localhost:8080/",
          "height": 250
        },
        "outputId": "e3598c2f-e7ce-4ade-c1be-77f21e960297"
      },
      "source": [
        "transformed_df.reset_index()"
      ],
      "execution_count": null,
      "outputs": [
        {
          "output_type": "execute_result",
          "data": {
            "text/html": [
              "<div>\n",
              "<style scoped>\n",
              "    .dataframe tbody tr th:only-of-type {\n",
              "        vertical-align: middle;\n",
              "    }\n",
              "\n",
              "    .dataframe tbody tr th {\n",
              "        vertical-align: top;\n",
              "    }\n",
              "\n",
              "    .dataframe thead th {\n",
              "        text-align: right;\n",
              "    }\n",
              "</style>\n",
              "<table border=\"1\" class=\"dataframe\">\n",
              "  <thead>\n",
              "    <tr style=\"text-align: right;\">\n",
              "      <th></th>\n",
              "      <th>index</th>\n",
              "      <th>age</th>\n",
              "      <th>became_member_on</th>\n",
              "      <th>gender</th>\n",
              "      <th>person_id</th>\n",
              "      <th>income</th>\n",
              "      <th>event</th>\n",
              "      <th>time</th>\n",
              "      <th>off_id</th>\n",
              "      <th>channels</th>\n",
              "      <th>difficulty</th>\n",
              "      <th>duration</th>\n",
              "      <th>offer_type</th>\n",
              "      <th>reward</th>\n",
              "      <th>age_group</th>\n",
              "      <th>membership_age</th>\n",
              "      <th>email</th>\n",
              "      <th>mobile</th>\n",
              "      <th>web</th>\n",
              "      <th>social</th>\n",
              "      <th>bogo</th>\n",
              "      <th>discount</th>\n",
              "      <th>informational</th>\n",
              "      <th>20_40</th>\n",
              "      <th>UNDER_20</th>\n",
              "      <th>41_60</th>\n",
              "      <th>61_80</th>\n",
              "      <th>ABOVE_80</th>\n",
              "      <th>F</th>\n",
              "      <th>M</th>\n",
              "      <th>O</th>\n",
              "      <th>event_enc</th>\n",
              "    </tr>\n",
              "  </thead>\n",
              "  <tbody>\n",
              "    <tr>\n",
              "      <th>0</th>\n",
              "      <td>3</td>\n",
              "      <td>31</td>\n",
              "      <td>20210627</td>\n",
              "      <td>F</td>\n",
              "      <td>0b4864225645ae7d2</td>\n",
              "      <td>342324</td>\n",
              "      <td>offer completed</td>\n",
              "      <td>23</td>\n",
              "      <td>9b98b8c7a33c4b65b9aebfe6a799e6d9</td>\n",
              "      <td>[web, email, mobile]</td>\n",
              "      <td>5</td>\n",
              "      <td>7</td>\n",
              "      <td>bogo</td>\n",
              "      <td>5</td>\n",
              "      <td>20_40</td>\n",
              "      <td>3</td>\n",
              "      <td>1</td>\n",
              "      <td>1</td>\n",
              "      <td>1</td>\n",
              "      <td>0</td>\n",
              "      <td>1</td>\n",
              "      <td>0</td>\n",
              "      <td>0</td>\n",
              "      <td>1</td>\n",
              "      <td>0</td>\n",
              "      <td>0</td>\n",
              "      <td>0</td>\n",
              "      <td>0</td>\n",
              "      <td>1</td>\n",
              "      <td>0</td>\n",
              "      <td>0</td>\n",
              "      <td>1</td>\n",
              "    </tr>\n",
              "    <tr>\n",
              "      <th>1</th>\n",
              "      <td>0</td>\n",
              "      <td>32</td>\n",
              "      <td>20210627</td>\n",
              "      <td>M</td>\n",
              "      <td>0b486422d4921ae7d2</td>\n",
              "      <td>20982322</td>\n",
              "      <td>offer received</td>\n",
              "      <td>0</td>\n",
              "      <td>9b98b8c7a33c4b65b9aebfe6a799e6d9</td>\n",
              "      <td>[web, email, mobile]</td>\n",
              "      <td>5</td>\n",
              "      <td>7</td>\n",
              "      <td>bogo</td>\n",
              "      <td>5</td>\n",
              "      <td>20_40</td>\n",
              "      <td>3</td>\n",
              "      <td>1</td>\n",
              "      <td>1</td>\n",
              "      <td>1</td>\n",
              "      <td>0</td>\n",
              "      <td>1</td>\n",
              "      <td>0</td>\n",
              "      <td>0</td>\n",
              "      <td>1</td>\n",
              "      <td>0</td>\n",
              "      <td>0</td>\n",
              "      <td>0</td>\n",
              "      <td>0</td>\n",
              "      <td>0</td>\n",
              "      <td>1</td>\n",
              "      <td>0</td>\n",
              "      <td>0</td>\n",
              "    </tr>\n",
              "    <tr>\n",
              "      <th>2</th>\n",
              "      <td>4</td>\n",
              "      <td>32</td>\n",
              "      <td>20210627</td>\n",
              "      <td>M</td>\n",
              "      <td>0b486422d4921ae7d2</td>\n",
              "      <td>20982322</td>\n",
              "      <td>offer received</td>\n",
              "      <td>200</td>\n",
              "      <td>0b1e1539f2cc45b7b9fa7c272da2e1d7</td>\n",
              "      <td>[web, email]</td>\n",
              "      <td>20</td>\n",
              "      <td>10</td>\n",
              "      <td>discount</td>\n",
              "      <td>5</td>\n",
              "      <td>20_40</td>\n",
              "      <td>3</td>\n",
              "      <td>1</td>\n",
              "      <td>0</td>\n",
              "      <td>1</td>\n",
              "      <td>0</td>\n",
              "      <td>0</td>\n",
              "      <td>1</td>\n",
              "      <td>0</td>\n",
              "      <td>1</td>\n",
              "      <td>0</td>\n",
              "      <td>0</td>\n",
              "      <td>0</td>\n",
              "      <td>0</td>\n",
              "      <td>0</td>\n",
              "      <td>1</td>\n",
              "      <td>0</td>\n",
              "      <td>0</td>\n",
              "    </tr>\n",
              "  </tbody>\n",
              "</table>\n",
              "</div>"
            ],
            "text/plain": [
              "   index  age became_member_on gender  ...  F  M  O  event_enc\n",
              "0      3   31         20210627      F  ...  1  0  0          1\n",
              "1      0   32         20210627      M  ...  0  1  0          0\n",
              "2      4   32         20210627      M  ...  0  1  0          0\n",
              "\n",
              "[3 rows x 32 columns]"
            ]
          },
          "metadata": {},
          "execution_count": 313
        }
      ]
    },
    {
      "cell_type": "code",
      "metadata": {
        "id": "mfh3FJF5nniQ",
        "colab": {
          "base_uri": "https://localhost:8080/"
        },
        "outputId": "45760a91-08c8-4d2e-b8f8-e4949caf7cf8"
      },
      "source": [
        "X_new.shape"
      ],
      "execution_count": null,
      "outputs": [
        {
          "output_type": "execute_result",
          "data": {
            "text/plain": [
              "(2, 21)"
            ]
          },
          "metadata": {},
          "execution_count": 280
        }
      ]
    },
    {
      "cell_type": "code",
      "metadata": {
        "id": "c6BIGuIcqUgn",
        "colab": {
          "base_uri": "https://localhost:8080/"
        },
        "outputId": "4a918027-8bd7-482b-c74a-363e2b988a73"
      },
      "source": [
        "y_new.shape"
      ],
      "execution_count": null,
      "outputs": [
        {
          "output_type": "execute_result",
          "data": {
            "text/plain": [
              "(2,)"
            ]
          },
          "metadata": {},
          "execution_count": 281
        }
      ]
    },
    {
      "cell_type": "code",
      "metadata": {
        "id": "4a9lKJYQrEMH",
        "colab": {
          "base_uri": "https://localhost:8080/"
        },
        "outputId": "12b3236d-acce-4d0c-9a25-1d8907a6026a"
      },
      "source": [
        "y_pred_new = classifier.predict(X_new)\n",
        "y_pred_new"
      ],
      "execution_count": null,
      "outputs": [
        {
          "output_type": "execute_result",
          "data": {
            "text/plain": [
              "array([1, 1], dtype=int64)"
            ]
          },
          "metadata": {},
          "execution_count": 248
        }
      ]
    },
    {
      "cell_type": "code",
      "metadata": {
        "id": "xxXC9P3SrKFP",
        "colab": {
          "base_uri": "https://localhost:8080/"
        },
        "outputId": "a83a8638-77c8-4b74-9098-cf1280b90006"
      },
      "source": [
        "print(classification_report(y_new, y_pred_new))"
      ],
      "execution_count": null,
      "outputs": [
        {
          "output_type": "stream",
          "name": "stdout",
          "text": [
            "              precision    recall  f1-score   support\n",
            "\n",
            "           0       0.00      0.00      0.00       2.0\n",
            "           1       0.00      0.00      0.00       0.0\n",
            "\n",
            "    accuracy                           0.00       2.0\n",
            "   macro avg       0.00      0.00      0.00       2.0\n",
            "weighted avg       0.00      0.00      0.00       2.0\n",
            "\n"
          ]
        },
        {
          "output_type": "stream",
          "name": "stderr",
          "text": [
            "/usr/local/lib/python3.7/dist-packages/sklearn/metrics/_classification.py:1272: UndefinedMetricWarning: Precision and F-score are ill-defined and being set to 0.0 in labels with no predicted samples. Use `zero_division` parameter to control this behavior.\n",
            "  _warn_prf(average, modifier, msg_start, len(result))\n",
            "/usr/local/lib/python3.7/dist-packages/sklearn/metrics/_classification.py:1272: UndefinedMetricWarning: Recall and F-score are ill-defined and being set to 0.0 in labels with no true samples. Use `zero_division` parameter to control this behavior.\n",
            "  _warn_prf(average, modifier, msg_start, len(result))\n"
          ]
        }
      ]
    },
    {
      "cell_type": "code",
      "metadata": {
        "id": "_Ik5emW8xDFG"
      },
      "source": [
        "import warnings\n",
        "warnings.filterwarnings('ignore')"
      ],
      "execution_count": null,
      "outputs": []
    },
    {
      "cell_type": "code",
      "metadata": {
        "id": "eUlja1JXrQxm"
      },
      "source": [
        "def pred(transformed_df, data, actual):\n",
        "  \n",
        "  y_pred = classifier.predict(data)\n",
        "  y_result = y_pred #.map({0: \"offer not completed\", 1: \"offer completed\"})\n",
        "  print(len(y_result))\n",
        "  result_df = transformed_df.reset_index()[['person_id', 'off_id']]\n",
        "  print(result_df.count())\n",
        "  for idx, row in result_df.iterrows():\n",
        "    result_df['predicted'] = y_result[idx]\n",
        "    result_df['predicted'] = result_df['predicted'].map({0: \"offer not completed\", 1: \"offer completed\"})\n",
        "  print(classification_report(actual, y_pred))\n",
        "\n",
        "  print(f\"{result_df}\")\n",
        "  unique, count = np.unique(y_pred, return_counts=True)\n",
        "  freq = np.asarray((unique, count)).T\n",
        "  print(f\"Frequencies: {freq}\")"
      ],
      "execution_count": null,
      "outputs": []
    },
    {
      "cell_type": "code",
      "metadata": {
        "id": "U6Q00S1gr-Of",
        "colab": {
          "base_uri": "https://localhost:8080/"
        },
        "outputId": "d3ae10c7-c4a1-43a7-c75a-5490624624e9"
      },
      "source": [
        "pred(transformed_df, X_new, y_new)"
      ],
      "execution_count": null,
      "outputs": [
        {
          "output_type": "stream",
          "name": "stdout",
          "text": [
            "3\n",
            "person_id    3\n",
            "off_id       3\n",
            "dtype: int64\n",
            "              precision    recall  f1-score   support\n",
            "\n",
            "           0       0.00      0.00      0.00         2\n",
            "           1       0.33      1.00      0.50         1\n",
            "\n",
            "    accuracy                           0.33         3\n",
            "   macro avg       0.17      0.50      0.25         3\n",
            "weighted avg       0.11      0.33      0.17         3\n",
            "\n",
            "            person_id                            off_id        predicted\n",
            "0   0b4864225645ae7d2  9b98b8c7a33c4b65b9aebfe6a799e6d9  offer completed\n",
            "1  0b486422d4921ae7d2  9b98b8c7a33c4b65b9aebfe6a799e6d9  offer completed\n",
            "2  0b486422d4921ae7d2  0b1e1539f2cc45b7b9fa7c272da2e1d7  offer completed\n",
            "Frequencies: [[1 3]]\n"
          ]
        }
      ]
    },
    {
      "cell_type": "code",
      "metadata": {
        "id": "aRenCf8D1WXO"
      },
      "source": [
        ""
      ],
      "execution_count": null,
      "outputs": []
    }
  ]
}